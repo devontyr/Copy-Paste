{
  "cells": [
    {
      "cell_type": "markdown",
      "metadata": {
        "id": "view-in-github",
        "colab_type": "text"
      },
      "source": [
        "<a href=\"https://colab.research.google.com/github/devontyr/Copy-Paste/blob/main/Rads_Project.ipynb\" target=\"_parent\"><img src=\"https://colab.research.google.com/assets/colab-badge.svg\" alt=\"Open In Colab\"/></a>"
      ]
    },
    {
      "cell_type": "markdown",
      "metadata": {
        "id": "EjjCyltKRu8I"
      },
      "source": [
        "## **Train Doc2Vec**"
      ]
    },
    {
      "cell_type": "code",
      "execution_count": null,
      "metadata": {
        "colab": {
          "base_uri": "https://localhost:8080/"
        },
        "id": "HbuUTpBxiAxi",
        "outputId": "26440456-074b-4f77-b757-4db6fb672c40"
      },
      "outputs": [
        {
          "output_type": "stream",
          "name": "stdout",
          "text": [
            "[==================================================] 100.0% 31.6/31.6MB downloaded\n",
            "Model Saved\n"
          ]
        }
      ],
      "source": [
        "#train encoding Doc2Vec model\n",
        "\n",
        "import gensim #well-established library\n",
        "from gensim.models.doc2vec import Doc2Vec, TaggedDocument\n",
        "import gensim.downloader as api\n",
        "\n",
        "dataset = api.load(\"text8\") #use text8 as corpus to train the Doc2Vec model\n",
        "data = [i for i in dataset]\n",
        "\n",
        "#tag the text data\n",
        "def tagged_document(list_of_sentences):\n",
        "   for i, list_of_words in enumerate(list_of_sentences):\n",
        "      yield TaggedDocument(list_of_words, [i]) #index is the tag\n",
        "\n",
        "#use tagged text data\n",
        "training_data = list(tagged_document(data))\n",
        "model = Doc2Vec(vector_size = 20, alpha=0.025, min_alpha=0.00025, min_count = 2, epochs = 5)\n",
        "'''\n",
        "vector_size = Dimensionality of the feature vectors.\n",
        "window = The maximum distance between the current and predicted word within a sentence.\n",
        "min_count = Ignores all words with total frequency lower than this.\n",
        "alpha = The initial learning rate.\n",
        "'''\n",
        "\n",
        "model.build_vocab(training_data) #build the model vocabulary\n",
        "model.train(training_data, total_examples=model.corpus_count, epochs=model.epochs) #train the model\n",
        "model.save(\"d2v.model\") #save this model\n",
        "print(\"Model Saved\")"
      ]
    },
    {
      "cell_type": "markdown",
      "metadata": {
        "id": "c8aV8_jSSEUi"
      },
      "source": [
        "## **Encode Words**"
      ]
    },
    {
      "cell_type": "code",
      "execution_count": null,
      "metadata": {
        "colab": {
          "base_uri": "https://localhost:8080/",
          "height": 38
        },
        "id": "nN9UhTwRrzZA",
        "outputId": "e64cd7cb-2b68-447f-a534-094b5e16f1b6"
      },
      "outputs": [
        {
          "output_type": "display_data",
          "data": {
            "text/plain": [
              "<IPython.core.display.HTML object>"
            ],
            "text/html": [
              "\n",
              "     <input type=\"file\" id=\"files-c6a7ba61-bfc5-4f20-93a5-d5a42625e519\" name=\"files[]\" multiple disabled\n",
              "        style=\"border:none\" />\n",
              "     <output id=\"result-c6a7ba61-bfc5-4f20-93a5-d5a42625e519\">\n",
              "      Upload widget is only available when the cell has been executed in the\n",
              "      current browser session. Please rerun this cell to enable.\n",
              "      </output>\n",
              "      <script>// Copyright 2017 Google LLC\n",
              "//\n",
              "// Licensed under the Apache License, Version 2.0 (the \"License\");\n",
              "// you may not use this file except in compliance with the License.\n",
              "// You may obtain a copy of the License at\n",
              "//\n",
              "//      http://www.apache.org/licenses/LICENSE-2.0\n",
              "//\n",
              "// Unless required by applicable law or agreed to in writing, software\n",
              "// distributed under the License is distributed on an \"AS IS\" BASIS,\n",
              "// WITHOUT WARRANTIES OR CONDITIONS OF ANY KIND, either express or implied.\n",
              "// See the License for the specific language governing permissions and\n",
              "// limitations under the License.\n",
              "\n",
              "/**\n",
              " * @fileoverview Helpers for google.colab Python module.\n",
              " */\n",
              "(function(scope) {\n",
              "function span(text, styleAttributes = {}) {\n",
              "  const element = document.createElement('span');\n",
              "  element.textContent = text;\n",
              "  for (const key of Object.keys(styleAttributes)) {\n",
              "    element.style[key] = styleAttributes[key];\n",
              "  }\n",
              "  return element;\n",
              "}\n",
              "\n",
              "// Max number of bytes which will be uploaded at a time.\n",
              "const MAX_PAYLOAD_SIZE = 100 * 1024;\n",
              "\n",
              "function _uploadFiles(inputId, outputId) {\n",
              "  const steps = uploadFilesStep(inputId, outputId);\n",
              "  const outputElement = document.getElementById(outputId);\n",
              "  // Cache steps on the outputElement to make it available for the next call\n",
              "  // to uploadFilesContinue from Python.\n",
              "  outputElement.steps = steps;\n",
              "\n",
              "  return _uploadFilesContinue(outputId);\n",
              "}\n",
              "\n",
              "// This is roughly an async generator (not supported in the browser yet),\n",
              "// where there are multiple asynchronous steps and the Python side is going\n",
              "// to poll for completion of each step.\n",
              "// This uses a Promise to block the python side on completion of each step,\n",
              "// then passes the result of the previous step as the input to the next step.\n",
              "function _uploadFilesContinue(outputId) {\n",
              "  const outputElement = document.getElementById(outputId);\n",
              "  const steps = outputElement.steps;\n",
              "\n",
              "  const next = steps.next(outputElement.lastPromiseValue);\n",
              "  return Promise.resolve(next.value.promise).then((value) => {\n",
              "    // Cache the last promise value to make it available to the next\n",
              "    // step of the generator.\n",
              "    outputElement.lastPromiseValue = value;\n",
              "    return next.value.response;\n",
              "  });\n",
              "}\n",
              "\n",
              "/**\n",
              " * Generator function which is called between each async step of the upload\n",
              " * process.\n",
              " * @param {string} inputId Element ID of the input file picker element.\n",
              " * @param {string} outputId Element ID of the output display.\n",
              " * @return {!Iterable<!Object>} Iterable of next steps.\n",
              " */\n",
              "function* uploadFilesStep(inputId, outputId) {\n",
              "  const inputElement = document.getElementById(inputId);\n",
              "  inputElement.disabled = false;\n",
              "\n",
              "  const outputElement = document.getElementById(outputId);\n",
              "  outputElement.innerHTML = '';\n",
              "\n",
              "  const pickedPromise = new Promise((resolve) => {\n",
              "    inputElement.addEventListener('change', (e) => {\n",
              "      resolve(e.target.files);\n",
              "    });\n",
              "  });\n",
              "\n",
              "  const cancel = document.createElement('button');\n",
              "  inputElement.parentElement.appendChild(cancel);\n",
              "  cancel.textContent = 'Cancel upload';\n",
              "  const cancelPromise = new Promise((resolve) => {\n",
              "    cancel.onclick = () => {\n",
              "      resolve(null);\n",
              "    };\n",
              "  });\n",
              "\n",
              "  // Wait for the user to pick the files.\n",
              "  const files = yield {\n",
              "    promise: Promise.race([pickedPromise, cancelPromise]),\n",
              "    response: {\n",
              "      action: 'starting',\n",
              "    }\n",
              "  };\n",
              "\n",
              "  cancel.remove();\n",
              "\n",
              "  // Disable the input element since further picks are not allowed.\n",
              "  inputElement.disabled = true;\n",
              "\n",
              "  if (!files) {\n",
              "    return {\n",
              "      response: {\n",
              "        action: 'complete',\n",
              "      }\n",
              "    };\n",
              "  }\n",
              "\n",
              "  for (const file of files) {\n",
              "    const li = document.createElement('li');\n",
              "    li.append(span(file.name, {fontWeight: 'bold'}));\n",
              "    li.append(span(\n",
              "        `(${file.type || 'n/a'}) - ${file.size} bytes, ` +\n",
              "        `last modified: ${\n",
              "            file.lastModifiedDate ? file.lastModifiedDate.toLocaleDateString() :\n",
              "                                    'n/a'} - `));\n",
              "    const percent = span('0% done');\n",
              "    li.appendChild(percent);\n",
              "\n",
              "    outputElement.appendChild(li);\n",
              "\n",
              "    const fileDataPromise = new Promise((resolve) => {\n",
              "      const reader = new FileReader();\n",
              "      reader.onload = (e) => {\n",
              "        resolve(e.target.result);\n",
              "      };\n",
              "      reader.readAsArrayBuffer(file);\n",
              "    });\n",
              "    // Wait for the data to be ready.\n",
              "    let fileData = yield {\n",
              "      promise: fileDataPromise,\n",
              "      response: {\n",
              "        action: 'continue',\n",
              "      }\n",
              "    };\n",
              "\n",
              "    // Use a chunked sending to avoid message size limits. See b/62115660.\n",
              "    let position = 0;\n",
              "    do {\n",
              "      const length = Math.min(fileData.byteLength - position, MAX_PAYLOAD_SIZE);\n",
              "      const chunk = new Uint8Array(fileData, position, length);\n",
              "      position += length;\n",
              "\n",
              "      const base64 = btoa(String.fromCharCode.apply(null, chunk));\n",
              "      yield {\n",
              "        response: {\n",
              "          action: 'append',\n",
              "          file: file.name,\n",
              "          data: base64,\n",
              "        },\n",
              "      };\n",
              "\n",
              "      let percentDone = fileData.byteLength === 0 ?\n",
              "          100 :\n",
              "          Math.round((position / fileData.byteLength) * 100);\n",
              "      percent.textContent = `${percentDone}% done`;\n",
              "\n",
              "    } while (position < fileData.byteLength);\n",
              "  }\n",
              "\n",
              "  // All done.\n",
              "  yield {\n",
              "    response: {\n",
              "      action: 'complete',\n",
              "    }\n",
              "  };\n",
              "}\n",
              "\n",
              "scope.google = scope.google || {};\n",
              "scope.google.colab = scope.google.colab || {};\n",
              "scope.google.colab._files = {\n",
              "  _uploadFiles,\n",
              "  _uploadFilesContinue,\n",
              "};\n",
              "})(self);\n",
              "</script> "
            ]
          },
          "metadata": {}
        }
      ],
      "source": [
        "#Run this if first time:\n",
        "#from google.colab import drive\n",
        "#drive.mount('/content/drive')\n",
        "\n",
        "#Run this if uploading new files:\n",
        "from google.colab import files\n",
        "uploaded = files.upload()"
      ]
    },
    {
      "cell_type": "code",
      "execution_count": null,
      "metadata": {
        "id": "dbZyS4VIe464"
      },
      "outputs": [],
      "source": [
        "#Load data: open a file and return a list of all the sentences\n",
        "\n",
        "import pandas as pd\n",
        "import io\n",
        "import os\n",
        "\n",
        "#upload file from google drive\n",
        "def open_file(name):\n",
        "  file_path = '/content/' + name\n",
        "  with io.open(file_path, 'r') as f:\n",
        "    text = f.read()\n",
        "    sentences = text.lower()\n",
        "    table2 = str.maketrans('!', '.')\n",
        "    table3 = str.maketrans('\\n', ' ')\n",
        "    sentences = sentences.translate(table2) #get rid of exclamation points\n",
        "    sentences = sentences.translate(table3) #get rid of new lines\n",
        "    sentences = sentences.split(\".\") #split string at periods\n",
        "  return(sentences) #now a list"
      ]
    },
    {
      "cell_type": "code",
      "execution_count": null,
      "metadata": {
        "id": "VrC5TjS17Tg0"
      },
      "outputs": [],
      "source": [
        "#Transform data: tokenize the list of sentences\n",
        "\n",
        "import nltk\n",
        "nltk.download('punkt')\n",
        "from nltk.tokenize import word_tokenize\n",
        "\n",
        "def tokenize(sentences):\n",
        "  tokenized_sentences = []\n",
        "  for sentence in sentences:\n",
        "      tokenized_sentences.append(word_tokenize(sentence))\n",
        "  return(tokenized_sentences)"
      ]
    },
    {
      "cell_type": "code",
      "execution_count": null,
      "metadata": {
        "id": "s3gg5K36Ca0w"
      },
      "outputs": [],
      "source": [
        "#Encode our own sentences! (that do not exist in the trained model)\n",
        "#From any given paragraph: create a dictionary of key, encoded arrays\n",
        "\n",
        "from gensim.models.doc2vec import Doc2Vec\n",
        "from nltk.tokenize import word_tokenize\n",
        "\n",
        "model= Doc2Vec.load(\"d2v.model\")\n",
        "\n",
        "def encode_doc(paragraph):\n",
        "  data = tokenize(paragraph)\n",
        "\n",
        "  encodings_with_keys = {} #dictionary of sentence, corresponding vector\n",
        "  i = 0\n",
        "  for sentence in data:\n",
        "    encodings_with_keys[paragraph[i]] = model.infer_vector(sentence) #the vectorized form of the test sentence\n",
        "\n",
        "    i += 1\n",
        "\n",
        "  return encodings_with_keys"
      ]
    },
    {
      "cell_type": "code",
      "source": [
        "def normalize(encodings_with_keys):\n",
        "\n",
        "  #turn the list of dictionaries into a matrix\n",
        "  all_vectors = np.array(list(encodings_with_keys.values()))\n",
        "\n",
        "  #normalize the vectors with mean and standard deviation\n",
        "  print(all_vectors.std(axis=0))\n",
        "  mean = all_vectors.mean(axis=0)\n",
        "  std = all_vectors.std(axis=0)\n",
        "\n",
        "  new = (all_vectors - mean) / std\n",
        "\n",
        "  n = new.shape[0]\n",
        "  for i in range(n):\n",
        "    normalized_sentence_embedding = new[i,:]\n",
        "\n",
        "  new_encoded_dict = {}\n",
        "  for idx, key in enumerate(encodings_with_keys):\n",
        "    new_encoded_dict[key] = new[idx,:] #new dictionary has the normalized vectors\n",
        "\n",
        "  return new_encoded_dict, mean, std"
      ],
      "metadata": {
        "id": "_p86CWBcGUog"
      },
      "execution_count": null,
      "outputs": []
    },
    {
      "cell_type": "markdown",
      "metadata": {
        "id": "10JOHV01ST_4"
      },
      "source": [
        "## **LSH Scheme**"
      ]
    },
    {
      "cell_type": "code",
      "execution_count": null,
      "metadata": {
        "id": "B1XH7QUOiVJN"
      },
      "outputs": [],
      "source": [
        "import numpy as np\n",
        "import math\n",
        "\n",
        "def gen_random(r, real_vector, seed):\n",
        "  \"\"\"\n",
        "   Args:\n",
        "    r: band size, number of random vectors to be created\n",
        "    real_vector: array of 0s and 1s that contains the sentence we want to hash\n",
        "    seed: seed for the hash function\n",
        "\n",
        "  Returns:\n",
        "    random_vector: a vector of r random vectors all sized at the length of the sentence being hashed\n",
        "  \"\"\"\n",
        "  np.random.seed(seed) #seed makes randomness the same\n",
        "\n",
        "  random_vector = []\n",
        "  for i in range(r):\n",
        "    real_vector_len = len(real_vector)\n",
        "    random_vector.append(np.random.normal(size = real_vector_len ))\n",
        "\n",
        "  return random_vector"
      ]
    },
    {
      "cell_type": "code",
      "execution_count": null,
      "metadata": {
        "id": "dI38rCO5pRIs"
      },
      "outputs": [],
      "source": [
        "def vector_signs(r, real_vector, random_vector):\n",
        "  \"\"\"\n",
        "  Args:\n",
        "    r: band size, number of random vectors created\n",
        "    real_vector: sentence to hash\n",
        "    random_vector: random seeded vector\n",
        "\n",
        "  Returns:\n",
        "    signs: a list of the signs between real_vector and random_vector\n",
        "  \"\"\"\n",
        "\n",
        "  signs = \"\"\n",
        "  for i in range(r):\n",
        "    inner_product = np.dot(real_vector, random_vector[i])\n",
        "    signs += str(np.sign(inner_product))\n",
        "  return signs"
      ]
    },
    {
      "cell_type": "code",
      "execution_count": null,
      "metadata": {
        "id": "uR1bfTFalSPV"
      },
      "outputs": [],
      "source": [
        "import hashlib\n",
        "\n",
        "def hashing(signs, seed, m):\n",
        "  \"\"\"\n",
        "  Args:\n",
        "    signs: string object to hash\n",
        "    seed: seed for the hash function (should be the index to the table)\n",
        "    m: upper bound of the hash value (inclusive)\n",
        "\n",
        "  Returns:\n",
        "    The intended index of that sentence in the dictionary\n",
        "  \"\"\"\n",
        "\n",
        "  hash_object = hashlib.sha256(str(seed).encode('utf-8')) #create a hash object with the specified seed\n",
        "  hash_object.update(signs.encode('utf-8')) #update the hash object with the tuple string\n",
        "\n",
        "  hash_value = hash_object.hexdigest() #get hash value as a hexadecimal string\n",
        "  hash_value_int = int(hash_value, 16) #convert hexadecimal string to int\n",
        "  return hash_value_int % m + 1 #return the hash value modulo m"
      ]
    },
    {
      "cell_type": "code",
      "execution_count": null,
      "metadata": {
        "id": "Ss3ABf53qUOu"
      },
      "outputs": [],
      "source": [
        "def create_table(m):\n",
        "  table= {}\n",
        "  for i in range(m):\n",
        "    table[i] = []\n",
        "  return table"
      ]
    },
    {
      "cell_type": "markdown",
      "metadata": {
        "id": "-Ms-kFFZSjM4"
      },
      "source": [
        "## **PreProcess Harry Potter Texts as Corpus**"
      ]
    },
    {
      "cell_type": "code",
      "execution_count": null,
      "metadata": {
        "id": "D1JWLVNQ7YZQ"
      },
      "outputs": [],
      "source": [
        "def preprocessing(r, real_vector, m, t):\n",
        "  '''\n",
        "  Args:\n",
        "    real_vector: the first paragraph to put into the table\n",
        "    seed: to control the randomness\n",
        "    m: the number of slots in our table\n",
        "    index_list: empty list that will store the indicies of the hashed vector\n",
        "  '''\n",
        "  #tables = create_table(m, t) # creates t empty tables with keys 1,..,m\n",
        "  new_tables = []\n",
        "  #seed= 0\n",
        "  for j in range(t):\n",
        "    seed = j\n",
        "    #active_table = tables[j]\n",
        "    active_table = create_table(m)\n",
        "    for i in range(len(real_vector)): # for the amount of sentences in the paragraph\n",
        "\n",
        "      g = gen_random(r,real_vector[i], seed) # generates a random vector of r random vectors\n",
        "      #returns array\n",
        "\n",
        "      sign_x = vector_signs(r, real_vector[i], g) # compute the sign of the sentence with g r times\n",
        "      #returns string\n",
        "\n",
        "      index_xg = hashing(sign_x, seed, m) - 1 # hash that value to an index\n",
        "      #returns int\n",
        "\n",
        "      active_table[index_xg].append(i)\n",
        "\n",
        "    new_tables.append(active_table)\n",
        "\n",
        "  return new_tables"
      ]
    },
    {
      "cell_type": "code",
      "execution_count": null,
      "metadata": {
        "id": "qhnZSs0ewxJD"
      },
      "outputs": [],
      "source": [
        "#Harry Potter Book 1 PreProcessing!!\n",
        "\n",
        "HPsentences = open_file('HP1.txt')\n",
        "HPencoded_dict = encode_doc(HPsentences) #dictionary\n",
        "new_HPecocded_dict, mean, std = normalize(HPencoded_dict) #normalized dictionary\n",
        "HPvectors = list(new_HPecocded_dict.values()) #a list\n",
        "\n",
        "m = 50000\n",
        "t = 50\n",
        "r = 18\n",
        "HPindicies = []"
      ]
    },
    {
      "cell_type": "markdown",
      "metadata": {
        "id": "659pBSUuSo2_"
      },
      "source": [
        "## **Check a New Sentence Against the Corpus**"
      ]
    },
    {
      "cell_type": "code",
      "execution_count": null,
      "metadata": {
        "id": "HVfJ43rgC3wU"
      },
      "outputs": [],
      "source": [
        "import numpy as np\n",
        "import random\n",
        "\n",
        "def one_sentence(r, tables, t, sentence, m):\n",
        "  \"\"\"\n",
        "  Args:\n",
        "    r: the number of random vectors created\n",
        "    real_vector: a list of vectors where each vector is a sentence\n",
        "    t: number of hash tables/different hash functions\n",
        "    real_vector2: a list of vectors where each vector is a sentence\n",
        "    m: length of table\n",
        "  Returns:\n",
        "    similar_sentences: a list of lists of similar vectors between pargraphs 1 and 2\n",
        "  \"\"\"\n",
        "\n",
        "  results = []\n",
        "  for j in range(t): # will run code for t different tables\n",
        "    table = tables[j]\n",
        "    seed = j\n",
        "\n",
        "    g = gen_random(r, sentence[0], seed)\n",
        "\n",
        "    sign_y = vector_signs(r, sentence[0], g)\n",
        "\n",
        "    index_yg = (hashing(sign_y, seed, m )) - 1 # hashes the inner products of x and g\n",
        "    if table[index_yg] != []:\n",
        "      results.append(table[index_yg])\n",
        "\n",
        "  return(results)"
      ]
    },
    {
      "cell_type": "code",
      "source": [
        "test_sentence = [\"The Dursleys had everything they wanted, but they also had a secret, and their greatest fear was that somebody would discover it.\"]\n",
        "test_encoded_dict = encode_doc(test_sentence) #dictionary size 1\n",
        "\n",
        "vector_to_normalize = np.array(list(test_encoded_dict.values())) #dictionary to list\n",
        "new = (vector_to_normalize - mean) / std #normalize that list\n",
        "normal_test_encoded_dict = {}\n",
        "normal_test_encoded_dict[0] = new[0]\n",
        "\n",
        "test_vector = list(normal_test_encoded_dict.values()) #a list size 1"
      ],
      "metadata": {
        "id": "S4nLj_vxW0ee"
      },
      "execution_count": null,
      "outputs": []
    },
    {
      "cell_type": "markdown",
      "metadata": {
        "id": "mm-HfqU2TCHc"
      },
      "source": [
        "## **Translate Vectors Back to Sentences**"
      ]
    },
    {
      "cell_type": "code",
      "source": [
        "def back_to_words(results, corpus_dictionary):\n",
        "  similar_sentences = []\n",
        "  for table in results: #loop through the list of matching vectors\n",
        "    for index in table:\n",
        "      sentence = list(corpus_dictionary.keys())[index] #find the sentence that it matches in the dictionary\n",
        "      if sentence not in similar_sentences:\n",
        "        similar_sentences.append(sentence)\n",
        "  return(similar_sentences)"
      ],
      "metadata": {
        "id": "UoLZCIOMmd6U"
      },
      "execution_count": null,
      "outputs": []
    },
    {
      "cell_type": "markdown",
      "metadata": {
        "id": "ueQWGVHCZcDB"
      },
      "source": [
        "## **Analyze Results**"
      ]
    },
    {
      "cell_type": "code",
      "source": [
        "#Create t and r\n",
        "\n",
        "import math\n",
        "\n",
        "def prob_y(cos_theta, r, t):\n",
        "  theta = math.acos(cos_theta)\n",
        "  return 1 - (1- (1-theta/math.pi)**r)**t\n",
        "\n",
        "def calc_r(cos_theta, t, success_prob):\n",
        "  theta = math.acos(cos_theta)\n",
        "  r = math.log(1-(1-success_prob)**(1/t)) / math.log(1 - theta/math.pi)\n",
        "  return math.floor(r) # round down to integer (can only increase probability)\n",
        "\n",
        "\n",
        "def t_and_r():\n",
        "  for t in range(1, 1000):\n",
        "    tot = 0\n",
        "    r = calc_r(.75, t, .9)\n",
        "    pr_find_y2 = prob_y(.5, r, t)\n",
        "    if pr_find_y2  <= .1:\n",
        "      break\n",
        "  print(\"the optimal t is\", t)\n",
        "  print(\"the optimal r is\", r)\n",
        "  return t, r"
      ],
      "metadata": {
        "id": "kQASLZhvpWEi"
      },
      "execution_count": null,
      "outputs": []
    },
    {
      "cell_type": "code",
      "source": [
        "#Calculate cosine similarities\n",
        "\n",
        "def long_way(real_vector, sentence):\n",
        "  similar = []\n",
        "  max_sim = 0\n",
        "  index_of_max = 0\n",
        "  for i in range(len(real_vector)):\n",
        "    cos_theta = float(np.inner(real_vector[i], sentence) / ((np.linalg.norm(real_vector[i]))*(np.linalg.norm(sentence))))\n",
        "    similar.append(cos_theta)\n",
        "\n",
        "  return similar"
      ],
      "metadata": {
        "id": "Gxb3kkKgdiZ_"
      },
      "execution_count": 38,
      "outputs": []
    },
    {
      "cell_type": "code",
      "execution_count": null,
      "metadata": {
        "id": "pVs_SWliey33"
      },
      "outputs": [],
      "source": [
        "#Histgoram\n",
        "\n",
        "import matplotlib.pyplot as plt\n",
        "import numpy as np\n",
        "from matplotlib import colors\n",
        "from matplotlib.ticker import PercentFormatter\n",
        "\n",
        "def print_histogram(similarities):\n",
        "  data = similarities\n",
        "\n",
        "  # Plotting a basic histogram\n",
        "  plt.hist(data, bins=30, color='skyblue', edgecolor='black')\n",
        "\n",
        "  # Adding labels and title\n",
        "  plt.xlabel('Cosine Similarity')\n",
        "  plt.ylabel('Frequency')\n",
        "  plt.title('Histogram: How Many Other Sentences are Similar to the Sentence') #add user_input at the end of this\n",
        "\n",
        "  # Display the plot\n",
        "  plot = plt.show()\n",
        "  return plot"
      ]
    },
    {
      "cell_type": "markdown",
      "source": [
        "## **Main**"
      ],
      "metadata": {
        "id": "UqUiRPXym_4t"
      }
    },
    {
      "cell_type": "code",
      "source": [
        "#Sentence and Cosine Similarity\n",
        "#Given one sentence, output all the similar sentences and their respective cosine simialrity with that one sentence\n",
        "\n",
        "def find_similar_sentences():\n",
        "  user_input = input(\"What sentence would you like to check?\")\n",
        "\n",
        "  #THIS PART DOESN'T WORK. Can't figure out how to return vector as the proper array type\n",
        "\n",
        "  #check if sentence already exists as an encoding\n",
        "  #if user_input in new_HPecocded_dict:\n",
        "    #vector = (list(new_HPecocded_dict[user_input]))\n",
        "    #print(\"TRUE\")\n",
        "    #print(new_HPecocded_dict)\n",
        "    #print(len(vector))\n",
        "    #print(vector)\n",
        "\n",
        "  #else: #user input to normalized vector\n",
        "  encoded_dict = encode_doc(user_input)\n",
        "\n",
        "  vector_to_normalize = np.array(list(encoded_dict.values())) #dictionary to list\n",
        "  new = (vector_to_normalize - mean) / std #normalize that list\n",
        "  normal_encoded_dict = {}\n",
        "  normal_encoded_dict[0] = new[0]\n",
        "\n",
        "  vector = list(normal_encoded_dict.values()) #a list size 1\n",
        "\n",
        "\n",
        "  #check for similarity\n",
        "  t, r = t_and_r()\n",
        "  t = t - 700\n",
        "  m = 50000\n",
        "  tables = preprocessing(r, HPvectors, m, t)\n",
        "\n",
        "\n",
        "  similar_sentences = one_sentence(r, tables, t, vector, m) #??\n",
        "\n",
        "  #turn similar vectors into sentences\n",
        "  sentences = back_to_words(similar_sentences, HPencoded_dict)\n",
        "\n",
        "\n",
        "  print(\"Given your sentence:\", user_input, \"the similar sentences found in Harry Potter are:\")\n",
        "  most_similar_sentence_int = 0\n",
        "  most_similar_sentence= ''\n",
        "\n",
        "  similarities = long_way(HPvectors, vector)\n",
        "\n",
        "  for i in range(len(sentences)):\n",
        "    if len(sentences[i]) > 48: #only want average length sentences or above!\n",
        "      print(sentences[i])\n",
        "      list_of_words = list(HPencoded_dict.keys())\n",
        "      index = list_of_words.index(sentences[i])\n",
        "\n",
        "      if similarities[index] > most_similar_sentence_int:\n",
        "        most_similar_sentence_int = similarities[index]\n",
        "        most_similar_sentence = sentences[i]\n",
        "      print(\"cosine similarity for this sentence is:\", similarities[index], \"\\n\") #TODO!!!!!!!!!\n",
        "\n",
        "  print(\"The Most Similar Sentence is: \", most_similar_sentence)\n",
        "  print_histogram(similarities)\n",
        "  print(\"That's it!\")"
      ],
      "metadata": {
        "id": "lvQ8DyqSOkCd"
      },
      "execution_count": null,
      "outputs": []
    },
    {
      "cell_type": "code",
      "source": [
        "find_similar_sentences()"
      ],
      "metadata": {
        "colab": {
          "base_uri": "https://localhost:8080/",
          "height": 1000
        },
        "id": "L5Zi_r_0m0l9",
        "outputId": "830cc8b6-2cba-47cf-9add-c6d8e8d3f6b5"
      },
      "execution_count": null,
      "outputs": [
        {
          "output_type": "stream",
          "name": "stdout",
          "text": [
            "What sentence would you like to check? harry grabbed dumbledor and screamed in his face\n",
            "the optimal t is 724\n",
            "the optimal r is 22\n",
            "Given your sentence:  harry grabbed dumbledor and screamed in his face the similar sentences found in Harry Potter are:\n",
            "  \"why would you be mad to try and rob gringotts?\" harry asked\n",
            "cosine similarity for this sentence is: 0.47286510467529297 \n",
            "\n",
            " i think they should keep it in the old wizarding families\n",
            "cosine similarity for this sentence is: 0.5187848806381226 \n",
            "\n",
            " he must have had to bunny hop all the way up to gryffindor tower\n",
            "cosine similarity for this sentence is: 0.6820193529129028 \n",
            "\n",
            "\"  it seemed to be a handsome, leather-covered book\n",
            "cosine similarity for this sentence is: 0.5907096862792969 \n",
            "\n",
            " next door's problems with her daughter and how dudley had learned a new word (\"won't\n",
            "cosine similarity for this sentence is: 0.5043522119522095 \n",
            "\n",
            "\" hissed professor mcgonagall, \"you'll wake the muggles\n",
            "cosine similarity for this sentence is: 0.6225220561027527 \n",
            "\n",
            "  but the others wouldn't let professor quirrell keep harry to himself\n",
            "cosine similarity for this sentence is: 0.6940506100654602 \n",
            "\n",
            "\"  \"we had to, neville, no time to explain,\" said harry\n",
            "cosine similarity for this sentence is: 0.7084628343582153 \n",
            "\n",
            " figg as she crossed privet drive on her crutches\n",
            "cosine similarity for this sentence is: 0.8034558892250061 \n",
            "\n",
            "  \"is he -- a bit mad?\" he asked percy uncertainly\n",
            "cosine similarity for this sentence is: 0.7315842509269714 \n",
            "\n",
            "The Most Similar Sentence is:   figg as she crossed privet drive on her crutches\n"
          ]
        },
        {
          "output_type": "display_data",
          "data": {
            "text/plain": [
              "<Figure size 640x480 with 1 Axes>"
            ],
            "image/png": "[encoded data removed]"
          },
          "metadata": {}
        },
        {
          "output_type": "stream",
          "name": "stdout",
          "text": [
            "That's it!\n"
          ]
        }
      ]
    }
  ],
  "metadata": {
    "colab": {
      "collapsed_sections": [
        "EjjCyltKRu8I",
        "c8aV8_jSSEUi",
        "10JOHV01ST_4",
        "-Ms-kFFZSjM4",
        "659pBSUuSo2_",
        "mm-HfqU2TCHc"
      ],
      "provenance": [],
      "include_colab_link": true
    },
    "kernelspec": {
      "display_name": "Python 3",
      "name": "python3"
    },
    "language_info": {
      "name": "python"
    }
  },
  "nbformat": 4,
  "nbformat_minor": 0
}
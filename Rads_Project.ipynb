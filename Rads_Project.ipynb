{
  "cells": [
    {
      "cell_type": "markdown",
      "metadata": {
        "id": "view-in-github",
        "colab_type": "text"
      },
      "source": [
        "<a href=\"https://colab.research.google.com/github/devontyr/Copy-Paste/blob/main/Rads_Project.ipynb\" target=\"_parent\"><img src=\"https://colab.research.google.com/assets/colab-badge.svg\" alt=\"Open In Colab\"/></a>"
      ]
    },
    {
      "cell_type": "markdown",
      "metadata": {
        "id": "EjjCyltKRu8I"
      },
      "source": [
        "## **Train Doc2Vec**"
      ]
    },
    {
      "cell_type": "code",
      "execution_count": null,
      "metadata": {
        "colab": {
          "base_uri": "https://localhost:8080/"
        },
        "id": "HbuUTpBxiAxi",
        "outputId": "26440456-074b-4f77-b757-4db6fb672c40"
      },
      "outputs": [
        {
          "output_type": "stream",
          "name": "stdout",
          "text": [
            "[==================================================] 100.0% 31.6/31.6MB downloaded\n",
            "Model Saved\n"
          ]
        }
      ],
      "source": [
        "#train encoding Doc2Vec model\n",
        "\n",
        "import gensim #well-established library\n",
        "from gensim.models.doc2vec import Doc2Vec, TaggedDocument\n",
        "import gensim.downloader as api\n",
        "\n",
        "dataset = api.load(\"text8\") #use text8 as corpus to train the Doc2Vec model\n",
        "data = [i for i in dataset]\n",
        "\n",
        "#tag the text data\n",
        "def tagged_document(list_of_sentences):\n",
        "   for i, list_of_words in enumerate(list_of_sentences):\n",
        "      yield TaggedDocument(list_of_words, [i]) #index is the tag\n",
        "\n",
        "#use tagged text data\n",
        "training_data = list(tagged_document(data))\n",
        "model = Doc2Vec(vector_size = 20, alpha=0.025, min_alpha=0.00025, min_count = 2, epochs = 5)\n",
        "'''\n",
        "vector_size = Dimensionality of the feature vectors.\n",
        "window = The maximum distance between the current and predicted word within a sentence.\n",
        "min_count = Ignores all words with total frequency lower than this.\n",
        "alpha = The initial learning rate.\n",
        "'''\n",
        "\n",
        "model.build_vocab(training_data) #build the model vocabulary\n",
        "model.train(training_data, total_examples=model.corpus_count, epochs=model.epochs) #train the model\n",
        "model.save(\"d2v.model\") #save this model\n",
        "print(\"Model Saved\")"
      ]
    },
    {
      "cell_type": "markdown",
      "metadata": {
        "id": "c8aV8_jSSEUi"
      },
      "source": [
        "## **Encode Words**"
      ]
    },
    {
      "cell_type": "code",
      "execution_count": null,
      "metadata": {
        "colab": {
          "base_uri": "https://localhost:8080/",
          "height": 38
        },
        "id": "nN9UhTwRrzZA",
        "outputId": "e64cd7cb-2b68-447f-a534-094b5e16f1b6"
      },
      "outputs": [
        {
          "output_type": "display_data",
          "data": {
            "text/plain": [
              "<IPython.core.display.HTML object>"
            ],
            "text/html": [
              "\n",
              "     <input type=\"file\" id=\"files-c6a7ba61-bfc5-4f20-93a5-d5a42625e519\" name=\"files[]\" multiple disabled\n",
              "        style=\"border:none\" />\n",
              "     <output id=\"result-c6a7ba61-bfc5-4f20-93a5-d5a42625e519\">\n",
              "      Upload widget is only available when the cell has been executed in the\n",
              "      current browser session. Please rerun this cell to enable.\n",
              "      </output>\n",
              "      <script>// Copyright 2017 Google LLC\n",
              "//\n",
              "// Licensed under the Apache License, Version 2.0 (the \"License\");\n",
              "// you may not use this file except in compliance with the License.\n",
              "// You may obtain a copy of the License at\n",
              "//\n",
              "//      http://www.apache.org/licenses/LICENSE-2.0\n",
              "//\n",
              "// Unless required by applicable law or agreed to in writing, software\n",
              "// distributed under the License is distributed on an \"AS IS\" BASIS,\n",
              "// WITHOUT WARRANTIES OR CONDITIONS OF ANY KIND, either express or implied.\n",
              "// See the License for the specific language governing permissions and\n",
              "// limitations under the License.\n",
              "\n",
              "/**\n",
              " * @fileoverview Helpers for google.colab Python module.\n",
              " */\n",
              "(function(scope) {\n",
              "function span(text, styleAttributes = {}) {\n",
              "  const element = document.createElement('span');\n",
              "  element.textContent = text;\n",
              "  for (const key of Object.keys(styleAttributes)) {\n",
              "    element.style[key] = styleAttributes[key];\n",
              "  }\n",
              "  return element;\n",
              "}\n",
              "\n",
              "// Max number of bytes which will be uploaded at a time.\n",
              "const MAX_PAYLOAD_SIZE = 100 * 1024;\n",
              "\n",
              "function _uploadFiles(inputId, outputId) {\n",
              "  const steps = uploadFilesStep(inputId, outputId);\n",
              "  const outputElement = document.getElementById(outputId);\n",
              "  // Cache steps on the outputElement to make it available for the next call\n",
              "  // to uploadFilesContinue from Python.\n",
              "  outputElement.steps = steps;\n",
              "\n",
              "  return _uploadFilesContinue(outputId);\n",
              "}\n",
              "\n",
              "// This is roughly an async generator (not supported in the browser yet),\n",
              "// where there are multiple asynchronous steps and the Python side is going\n",
              "// to poll for completion of each step.\n",
              "// This uses a Promise to block the python side on completion of each step,\n",
              "// then passes the result of the previous step as the input to the next step.\n",
              "function _uploadFilesContinue(outputId) {\n",
              "  const outputElement = document.getElementById(outputId);\n",
              "  const steps = outputElement.steps;\n",
              "\n",
              "  const next = steps.next(outputElement.lastPromiseValue);\n",
              "  return Promise.resolve(next.value.promise).then((value) => {\n",
              "    // Cache the last promise value to make it available to the next\n",
              "    // step of the generator.\n",
              "    outputElement.lastPromiseValue = value;\n",
              "    return next.value.response;\n",
              "  });\n",
              "}\n",
              "\n",
              "/**\n",
              " * Generator function which is called between each async step of the upload\n",
              " * process.\n",
              " * @param {string} inputId Element ID of the input file picker element.\n",
              " * @param {string} outputId Element ID of the output display.\n",
              " * @return {!Iterable<!Object>} Iterable of next steps.\n",
              " */\n",
              "function* uploadFilesStep(inputId, outputId) {\n",
              "  const inputElement = document.getElementById(inputId);\n",
              "  inputElement.disabled = false;\n",
              "\n",
              "  const outputElement = document.getElementById(outputId);\n",
              "  outputElement.innerHTML = '';\n",
              "\n",
              "  const pickedPromise = new Promise((resolve) => {\n",
              "    inputElement.addEventListener('change', (e) => {\n",
              "      resolve(e.target.files);\n",
              "    });\n",
              "  });\n",
              "\n",
              "  const cancel = document.createElement('button');\n",
              "  inputElement.parentElement.appendChild(cancel);\n",
              "  cancel.textContent = 'Cancel upload';\n",
              "  const cancelPromise = new Promise((resolve) => {\n",
              "    cancel.onclick = () => {\n",
              "      resolve(null);\n",
              "    };\n",
              "  });\n",
              "\n",
              "  // Wait for the user to pick the files.\n",
              "  const files = yield {\n",
              "    promise: Promise.race([pickedPromise, cancelPromise]),\n",
              "    response: {\n",
              "      action: 'starting',\n",
              "    }\n",
              "  };\n",
              "\n",
              "  cancel.remove();\n",
              "\n",
              "  // Disable the input element since further picks are not allowed.\n",
              "  inputElement.disabled = true;\n",
              "\n",
              "  if (!files) {\n",
              "    return {\n",
              "      response: {\n",
              "        action: 'complete',\n",
              "      }\n",
              "    };\n",
              "  }\n",
              "\n",
              "  for (const file of files) {\n",
              "    const li = document.createElement('li');\n",
              "    li.append(span(file.name, {fontWeight: 'bold'}));\n",
              "    li.append(span(\n",
              "        `(${file.type || 'n/a'}) - ${file.size} bytes, ` +\n",
              "        `last modified: ${\n",
              "            file.lastModifiedDate ? file.lastModifiedDate.toLocaleDateString() :\n",
              "                                    'n/a'} - `));\n",
              "    const percent = span('0% done');\n",
              "    li.appendChild(percent);\n",
              "\n",
              "    outputElement.appendChild(li);\n",
              "\n",
              "    const fileDataPromise = new Promise((resolve) => {\n",
              "      const reader = new FileReader();\n",
              "      reader.onload = (e) => {\n",
              "        resolve(e.target.result);\n",
              "      };\n",
              "      reader.readAsArrayBuffer(file);\n",
              "    });\n",
              "    // Wait for the data to be ready.\n",
              "    let fileData = yield {\n",
              "      promise: fileDataPromise,\n",
              "      response: {\n",
              "        action: 'continue',\n",
              "      }\n",
              "    };\n",
              "\n",
              "    // Use a chunked sending to avoid message size limits. See b/62115660.\n",
              "    let position = 0;\n",
              "    do {\n",
              "      const length = Math.min(fileData.byteLength - position, MAX_PAYLOAD_SIZE);\n",
              "      const chunk = new Uint8Array(fileData, position, length);\n",
              "      position += length;\n",
              "\n",
              "      const base64 = btoa(String.fromCharCode.apply(null, chunk));\n",
              "      yield {\n",
              "        response: {\n",
              "          action: 'append',\n",
              "          file: file.name,\n",
              "          data: base64,\n",
              "        },\n",
              "      };\n",
              "\n",
              "      let percentDone = fileData.byteLength === 0 ?\n",
              "          100 :\n",
              "          Math.round((position / fileData.byteLength) * 100);\n",
              "      percent.textContent = `${percentDone}% done`;\n",
              "\n",
              "    } while (position < fileData.byteLength);\n",
              "  }\n",
              "\n",
              "  // All done.\n",
              "  yield {\n",
              "    response: {\n",
              "      action: 'complete',\n",
              "    }\n",
              "  };\n",
              "}\n",
              "\n",
              "scope.google = scope.google || {};\n",
              "scope.google.colab = scope.google.colab || {};\n",
              "scope.google.colab._files = {\n",
              "  _uploadFiles,\n",
              "  _uploadFilesContinue,\n",
              "};\n",
              "})(self);\n",
              "</script> "
            ]
          },
          "metadata": {}
        }
      ],
      "source": [
        "#Run this if first time:\n",
        "#from google.colab import drive\n",
        "#drive.mount('/content/drive')\n",
        "\n",
        "#Run this if uploading new files:\n",
        "from google.colab import files\n",
        "uploaded = files.upload()"
      ]
    },
    {
      "cell_type": "code",
      "execution_count": null,
      "metadata": {
        "id": "dbZyS4VIe464"
      },
      "outputs": [],
      "source": [
        "#Load data: open a file and return a list of all the sentences\n",
        "\n",
        "import pandas as pd\n",
        "import io\n",
        "import os\n",
        "\n",
        "#upload file from google drive\n",
        "def open_file(name):\n",
        "  file_path = '/content/' + name\n",
        "  with io.open(file_path, 'r') as f:\n",
        "    text = f.read()\n",
        "    sentences = text.lower()\n",
        "    table2 = str.maketrans('!', '.')\n",
        "    table3 = str.maketrans('\\n', ' ')\n",
        "    sentences = sentences.translate(table2) #get rid of exclamation points\n",
        "    sentences = sentences.translate(table3) #get rid of new lines\n",
        "    sentences = sentences.split(\".\") #split string at periods\n",
        "  return(sentences) #now a list"
      ]
    },
    {
      "cell_type": "code",
      "execution_count": null,
      "metadata": {
        "id": "VrC5TjS17Tg0"
      },
      "outputs": [],
      "source": [
        "#Transform data: tokenize the list of sentences\n",
        "\n",
        "import nltk\n",
        "nltk.download('punkt')\n",
        "from nltk.tokenize import word_tokenize\n",
        "\n",
        "def tokenize(sentences):\n",
        "  tokenized_sentences = []\n",
        "  for sentence in sentences:\n",
        "      tokenized_sentences.append(word_tokenize(sentence))\n",
        "  return(tokenized_sentences)"
      ]
    },
    {
      "cell_type": "code",
      "execution_count": null,
      "metadata": {
        "id": "s3gg5K36Ca0w"
      },
      "outputs": [],
      "source": [
        "#Encode our own sentences! (that do not exist in the trained model)\n",
        "#From any given paragraph: create a dictionary of key, encoded arrays\n",
        "\n",
        "from gensim.models.doc2vec import Doc2Vec\n",
        "from nltk.tokenize import word_tokenize\n",
        "\n",
        "model= Doc2Vec.load(\"d2v.model\")\n",
        "\n",
        "def encode_doc(paragraph):\n",
        "  data = tokenize(paragraph)\n",
        "\n",
        "  encodings_with_keys = {} #dictionary of sentence, corresponding vector\n",
        "  i = 0\n",
        "  for sentence in data:\n",
        "    encodings_with_keys[paragraph[i]] = model.infer_vector(sentence) #the vectorized form of the test sentence\n",
        "\n",
        "    i += 1\n",
        "\n",
        "  return encodings_with_keys"
      ]
    },
    {
      "cell_type": "code",
      "source": [
        "def normalize(encodings_with_keys):\n",
        "\n",
        "  #turn the list of dictionaries into a matrix\n",
        "  all_vectors = np.array(list(encodings_with_keys.values()))\n",
        "\n",
        "  #normalize the vectors with mean and standard deviation\n",
        "  print(all_vectors.std(axis=0))\n",
        "  mean = all_vectors.mean(axis=0)\n",
        "  std = all_vectors.std(axis=0)\n",
        "\n",
        "  new = (all_vectors - mean) / std\n",
        "\n",
        "  n = new.shape[0]\n",
        "  for i in range(n):\n",
        "    normalized_sentence_embedding = new[i,:]\n",
        "\n",
        "  new_encoded_dict = {}\n",
        "  for idx, key in enumerate(encodings_with_keys):\n",
        "    new_encoded_dict[key] = new[idx,:] #new dictionary has the normalized vectors\n",
        "\n",
        "  return new_encoded_dict, mean, std"
      ],
      "metadata": {
        "id": "_p86CWBcGUog"
      },
      "execution_count": null,
      "outputs": []
    },
    {
      "cell_type": "markdown",
      "metadata": {
        "id": "10JOHV01ST_4"
      },
      "source": [
        "## **LSH Scheme**"
      ]
    },
    {
      "cell_type": "code",
      "execution_count": null,
      "metadata": {
        "id": "B1XH7QUOiVJN"
      },
      "outputs": [],
      "source": [
        "import numpy as np\n",
        "import math\n",
        "\n",
        "def gen_random(r, real_vector, seed):\n",
        "  \"\"\"\n",
        "   Args:\n",
        "    r: band size, number of random vectors to be created\n",
        "    real_vector: array of 0s and 1s that contains the sentence we want to hash\n",
        "    seed: seed for the hash function\n",
        "\n",
        "  Returns:\n",
        "    random_vector: a vector of r random vectors all sized at the length of the sentence being hashed\n",
        "  \"\"\"\n",
        "  np.random.seed(seed) #seed makes randomness the same\n",
        "\n",
        "  random_vector = []\n",
        "  for i in range(r):\n",
        "    real_vector_len = len(real_vector)\n",
        "    random_vector.append(np.random.normal(size = real_vector_len ))\n",
        "\n",
        "  return random_vector"
      ]
    },
    {
      "cell_type": "code",
      "execution_count": null,
      "metadata": {
        "id": "dI38rCO5pRIs"
      },
      "outputs": [],
      "source": [
        "def vector_signs(r, real_vector, random_vector):\n",
        "  \"\"\"\n",
        "  Args:\n",
        "    r: band size, number of random vectors created\n",
        "    real_vector: sentence to hash\n",
        "    random_vector: random seeded vector\n",
        "\n",
        "  Returns:\n",
        "    signs: a list of the signs between real_vector and random_vector\n",
        "  \"\"\"\n",
        "\n",
        "  signs = \"\"\n",
        "  for i in range(r):\n",
        "    inner_product = np.dot(real_vector, random_vector[i])\n",
        "    signs += str(np.sign(inner_product))\n",
        "  return signs"
      ]
    },
    {
      "cell_type": "code",
      "execution_count": null,
      "metadata": {
        "id": "uR1bfTFalSPV"
      },
      "outputs": [],
      "source": [
        "import hashlib\n",
        "\n",
        "def hashing(signs, seed, m):\n",
        "  \"\"\"\n",
        "  Args:\n",
        "    signs: string object to hash\n",
        "    seed: seed for the hash function (should be the index to the table)\n",
        "    m: upper bound of the hash value (inclusive)\n",
        "\n",
        "  Returns:\n",
        "    The intended index of that sentence in the dictionary\n",
        "  \"\"\"\n",
        "\n",
        "  hash_object = hashlib.sha256(str(seed).encode('utf-8')) #create a hash object with the specified seed\n",
        "  hash_object.update(signs.encode('utf-8')) #update the hash object with the tuple string\n",
        "\n",
        "  hash_value = hash_object.hexdigest() #get hash value as a hexadecimal string\n",
        "  hash_value_int = int(hash_value, 16) #convert hexadecimal string to int\n",
        "  return hash_value_int % m + 1 #return the hash value modulo m"
      ]
    },
    {
      "cell_type": "code",
      "execution_count": null,
      "metadata": {
        "id": "Ss3ABf53qUOu"
      },
      "outputs": [],
      "source": [
        "def create_table(m):\n",
        "  table= {}\n",
        "  for i in range(m):\n",
        "    table[i] = []\n",
        "  return table"
      ]
    },
    {
      "cell_type": "markdown",
      "metadata": {
        "id": "-Ms-kFFZSjM4"
      },
      "source": [
        "## **PreProcess Harry Potter Texts as Corpus**"
      ]
    },
    {
      "cell_type": "code",
      "execution_count": null,
      "metadata": {
        "id": "D1JWLVNQ7YZQ"
      },
      "outputs": [],
      "source": [
        "def preprocessing(r, real_vector, m, t):\n",
        "  '''\n",
        "  Args:\n",
        "    real_vector: the first paragraph to put into the table\n",
        "    seed: to control the randomness\n",
        "    m: the number of slots in our table\n",
        "    index_list: empty list that will store the indicies of the hashed vector\n",
        "  '''\n",
        "  #tables = create_table(m, t) # creates t empty tables with keys 1,..,m\n",
        "  new_tables = []\n",
        "  #seed= 0\n",
        "  for j in range(t):\n",
        "    seed = j\n",
        "    #active_table = tables[j]\n",
        "    active_table = create_table(m)\n",
        "    for i in range(len(real_vector)): # for the amount of sentences in the paragraph\n",
        "\n",
        "      g = gen_random(r,real_vector[i], seed) # generates a random vector of r random vectors\n",
        "      #returns array\n",
        "\n",
        "      sign_x = vector_signs(r, real_vector[i], g) # compute the sign of the sentence with g r times\n",
        "      #returns string\n",
        "\n",
        "      index_xg = hashing(sign_x, seed, m) - 1 # hash that value to an index\n",
        "      #returns int\n",
        "\n",
        "      active_table[index_xg].append(i)\n",
        "\n",
        "    new_tables.append(active_table)\n",
        "\n",
        "  return new_tables"
      ]
    },
    {
      "cell_type": "code",
      "execution_count": null,
      "metadata": {
        "id": "qhnZSs0ewxJD"
      },
      "outputs": [],
      "source": [
        "#Harry Potter Book 1 PreProcessing!!\n",
        "\n",
        "HPsentences = open_file('HP1.txt')\n",
        "HPencoded_dict = encode_doc(HPsentences) #dictionary\n",
        "new_HPecocded_dict, mean, std = normalize(HPencoded_dict) #normalized dictionary\n",
        "HPvectors = list(new_HPecocded_dict.values()) #a list\n",
        "\n",
        "m = 50000\n",
        "t = 50\n",
        "r = 18\n",
        "HPindicies = []"
      ]
    },
    {
      "cell_type": "markdown",
      "metadata": {
        "id": "659pBSUuSo2_"
      },
      "source": [
        "## **Check a New Sentence Against the Corpus**"
      ]
    },
    {
      "cell_type": "code",
      "execution_count": null,
      "metadata": {
        "id": "HVfJ43rgC3wU"
      },
      "outputs": [],
      "source": [
        "import numpy as np\n",
        "import random\n",
        "\n",
        "def one_sentence(r, tables, t, sentence, m):\n",
        "  \"\"\"\n",
        "  Args:\n",
        "    r: the number of random vectors created\n",
        "    real_vector: a list of vectors where each vector is a sentence\n",
        "    t: number of hash tables/different hash functions\n",
        "    real_vector2: a list of vectors where each vector is a sentence\n",
        "    m: length of table\n",
        "  Returns:\n",
        "    similar_sentences: a list of lists of similar vectors between pargraphs 1 and 2\n",
        "  \"\"\"\n",
        "\n",
        "  results = []\n",
        "  for j in range(t): # will run code for t different tables\n",
        "    table = tables[j]\n",
        "    seed = j\n",
        "\n",
        "    g = gen_random(r, sentence[0], seed)\n",
        "\n",
        "    sign_y = vector_signs(r, sentence[0], g)\n",
        "\n",
        "    index_yg = (hashing(sign_y, seed, m )) - 1 # hashes the inner products of x and g\n",
        "    if table[index_yg] != []:\n",
        "      results.append(table[index_yg])\n",
        "\n",
        "  return(results)"
      ]
    },
    {
      "cell_type": "code",
      "source": [
        "test_sentence = [\"The Dursleys had everything they wanted, but they also had a secret, and their greatest fear was that somebody would discover it.\"]\n",
        "test_encoded_dict = encode_doc(test_sentence) #dictionary size 1\n",
        "\n",
        "vector_to_normalize = np.array(list(test_encoded_dict.values())) #dictionary to list\n",
        "new = (vector_to_normalize - mean) / std #normalize that list\n",
        "normal_test_encoded_dict = {}\n",
        "normal_test_encoded_dict[0] = new[0]\n",
        "\n",
        "test_vector = list(normal_test_encoded_dict.values()) #a list size 1"
      ],
      "metadata": {
        "id": "S4nLj_vxW0ee"
      },
      "execution_count": null,
      "outputs": []
    },
    {
      "cell_type": "markdown",
      "metadata": {
        "id": "mm-HfqU2TCHc"
      },
      "source": [
        "## **Translate Vectors Back to Sentences**"
      ]
    },
    {
      "cell_type": "code",
      "source": [
        "def back_to_words(results, corpus_dictionary):\n",
        "  similar_sentences = []\n",
        "  for table in results: #loop through the list of matching vectors\n",
        "    for index in table:\n",
        "      sentence = list(corpus_dictionary.keys())[index] #find the sentence that it matches in the dictionary\n",
        "      if sentence not in similar_sentences:\n",
        "        similar_sentences.append(sentence)\n",
        "  return(similar_sentences)"
      ],
      "metadata": {
        "id": "UoLZCIOMmd6U"
      },
      "execution_count": null,
      "outputs": []
    },
    {
      "cell_type": "markdown",
      "metadata": {
        "id": "ueQWGVHCZcDB"
      },
      "source": [
        "## **Analyze Results**"
      ]
    },
    {
      "cell_type": "code",
      "source": [
        "#Create t and r\n",
        "\n",
        "import math\n",
        "\n",
        "def prob_y(cos_theta, r, t):\n",
        "  theta = math.acos(cos_theta)\n",
        "  return 1 - (1- (1-theta/math.pi)**r)**t\n",
        "\n",
        "def calc_r(cos_theta, t, success_prob):\n",
        "  theta = math.acos(cos_theta)\n",
        "  r = math.log(1-(1-success_prob)**(1/t)) / math.log(1 - theta/math.pi)\n",
        "  return math.floor(r) # round down to integer (can only increase probability)\n",
        "\n",
        "\n",
        "def t_and_r():\n",
        "  for t in range(1, 1000):\n",
        "    tot = 0\n",
        "    r = calc_r(.75, t, .9)\n",
        "    pr_find_y2 = prob_y(.5, r, t)\n",
        "    if pr_find_y2  <= .1:\n",
        "      break\n",
        "  print(\"the optimal t is\", t)\n",
        "  print(\"the optimal r is\", r)\n",
        "  return t, r"
      ],
      "metadata": {
        "id": "kQASLZhvpWEi"
      },
      "execution_count": null,
      "outputs": []
    },
    {
      "cell_type": "code",
      "source": [
        "#Calculate cosine similarities\n",
        "\n",
        "def long_way(real_vector, sentence):\n",
        "  similar = []\n",
        "  max_sim = 0\n",
        "  index_of_max = 0\n",
        "  #print(\"real vector\", real_vector)\n",
        "  #print(\"sentence\", sentence)\n",
        "  #print(similar)\n",
        "  for i in range(len(real_vector)):\n",
        "    cos_theta = float(np.inner(real_vector[i], sentence) / ((np.linalg.norm(real_vector[i]))*(np.linalg.norm(sentence))))\n",
        "    #print(cos_theta)\n",
        "    similar.append(cos_theta)\n",
        "    #print(similar)\n",
        "    #if max_sim < cos_theta:\n",
        "      #max_sim = cos_theta\n",
        "      #index_of_max = i\n",
        "  #print(max_sim)\n",
        "  #print(index_of_max)\n",
        "\n",
        "  return similar #, index_of_max\n",
        "\n",
        "\n",
        "similarities = long_way(HPvectors, test_vector)\n",
        "print(similarities)\n",
        "\n",
        "#the_sentence = list(HPencoded_dict.keys())[index_of_max]\n",
        "#print(the_sentence)\n"
      ],
      "metadata": {
        "id": "Gxb3kkKgdiZ_",
        "colab": {
          "base_uri": "https://localhost:8080/"
        },
        "outputId": "b043ce35-3e58-448d-907e-662b8867ee00"
      },
      "execution_count": null,
      "outputs": [
        {
          "output_type": "stream",
          "name": "stdout",
          "text": [
            "[-0.1831841915845871, -0.4276425838470459, -0.10054722428321838, 0.2621990740299225, -0.6773437261581421, 0.11630475521087646, 0.43070298433303833, -0.5196211338043213, 0.5091657042503357, -0.505128800868988, 0.7033708095550537, 0.15005028247833252, -0.5251654386520386, 0.026697572320699692, 0.5877835750579834, -0.31164318323135376, 0.15034766495227814, 0.53639817237854, -0.39656615257263184, 0.5145224332809448, -0.6379030346870422, 0.2727477252483368, 0.0033856185618788004, -0.024996064603328705, -0.4192502796649933, 0.269378125667572, 0.3525236248970032, -0.3290316164493561, -0.5638015270233154, -0.06682150810956955, -0.2958858013153076, -0.4434850215911865, 0.4873946011066437, -0.5389115810394287, 0.4638471305370331, -0.3147636950016022, -0.5003305077552795, -0.6152061223983765, 0.3657013773918152, 0.42950665950775146, 0.5289071202278137, -0.0630432739853859, 0.5919917821884155, 0.1767546683549881, -0.6977032423019409, 0.44031471014022827, 0.13917528092861176, 0.29944920539855957, -0.48516252636909485, 0.5326337814331055, -0.49520450830459595, -0.5712593793869019, 0.38816627860069275, -0.5872673988342285, -0.3005727529525757, -0.5556228160858154, -0.305308997631073, 0.3025297522544861, 0.36826279759407043, 0.41318050026893616, 0.27332231402397156, -0.2896319627761841, -0.550579845905304, -0.22287821769714355, 0.21185393631458282, 0.022985214367508888, -0.3984006345272064, 0.4060705602169037, 0.277322918176651, 0.13538101315498352, -0.17568954825401306, -0.6141188144683838, -0.45981958508491516, 0.28117692470550537, 0.4559427797794342, -0.04347475618124008, -0.083069808781147, -0.5462291240692139, 0.05631168186664581, -0.1934879720211029, -0.3863833248615265, -0.07409268617630005, -0.4119669497013092, -0.21687565743923187, 0.30779972672462463, -0.006731171626597643, 0.006838626228272915, 0.4258628785610199, -0.199631929397583, -0.3653463125228882, 0.09124907851219177, 0.12048811465501785, 0.26444900035858154, -0.3697725832462311, 0.5241494178771973, -0.05227174237370491, -0.10488276928663254, -0.49752676486968994, -0.19412410259246826, 0.24778087437152863, -0.5263655781745911, 0.700432300567627, 0.37511923909187317, 0.1855592131614685, -0.326272577047348, -0.6063074469566345, -0.5070616006851196, -0.4066503643989563, -0.6379884481430054, -0.45649558305740356, -0.5422064065933228, -0.5678655505180359, 0.3950996994972229, -0.45610272884368896, -0.3877699673175812, -0.22912517189979553, 0.1974138617515564, -0.4669283628463745, -0.6626781821250916, -0.39255180954933167, 0.29689347743988037, 0.36649924516677856, 0.12364169955253601, -0.4250558018684387, -0.2675427198410034, -0.32595741748809814, 0.2848270535469055, 0.32830923795700073, -0.028336727991700172, -0.26526540517807007, -0.7016608119010925, -0.7351924180984497, 0.4765535891056061, -0.2602722942829132, -0.4787665605545044, -0.3678950369358063, -0.21813160181045532, 0.06626109033823013, -0.5868513584136963, 0.2708550989627838, -0.274310439825058, 0.1880030333995819, -0.5924077033996582, -0.46386685967445374, -0.5978522896766663, 0.05075014755129814, -0.6951067447662354, -0.6042678356170654, -0.5289617776870728, -0.47215715050697327, -0.44911903142929077, -0.5190136432647705, -0.48286426067352295, -0.6477855443954468, -0.3452166020870209, 0.1276237964630127, -0.011431875638663769, 0.45433497428894043, -0.5172239542007446, -0.10896335542201996, -0.5971224308013916, -0.38067784905433655, -0.5984354615211487, -0.4572414755821228, 0.2865988314151764, -0.674662709236145, -0.40688785910606384, 0.03713630884885788, -0.7078407406806946, 0.3688102066516876, 0.6583446264266968, 0.5119547843933105, -0.42817115783691406, -0.5350209474563599, -0.33948588371276855, 0.6651403903961182, 0.3228335380554199, 0.8029260039329529, -0.45427849888801575, 0.6135846376419067, -0.40353724360466003, 0.22202523052692413, -0.30064964294433594, 0.3830479681491852, -0.44611117243766785, 0.28730833530426025, 0.4313293993473053, 0.3209730386734009, 0.7618753910064697, 0.05877415090799332, 0.6376954913139343, 0.0522950254380703, 0.7216963171958923, -0.10162980109453201, 0.1075853630900383, 0.21157753467559814, -0.5739501714706421, -0.415169894695282, 0.2997704744338989, -0.24632743000984192, 0.5290717482566833, 0.15130221843719482, 0.03679097443819046, 0.518970251083374, 0.5545855760574341, -0.4626447856426239, 0.2862664461135864, 0.29188773036003113, -0.34584832191467285, 0.078432597219944, -0.5709916353225708, 0.348816454410553, -0.4310723841190338, -0.2989707589149475, 0.5585402846336365, -0.4721347689628601, -0.359843373298645, 0.42973774671554565, -0.46070656180381775, 0.06331818550825119, -0.37037375569343567, -0.680126428604126, -0.06040124222636223, 0.06102902069687843, 0.07600541412830353, -0.45257607102394104, -0.5676533579826355, 0.12317042052745819, -0.4187377393245697, 0.12588933110237122, 0.4757126271724701, 0.814407229423523, 0.5733687281608582, 0.24889998137950897, -0.29943662881851196, 0.08416279405355453, 0.43310925364494324, 0.5726401805877686, 0.2100774198770523, -0.19195511937141418, 0.24850274622440338, 0.19510652124881744, -0.680732786655426, 0.04358528554439545, -0.5413194298744202, 0.3294544816017151, -0.41192445158958435, -0.4279651343822479, 0.056921277195215225, 0.16907106339931488, 0.6903612613677979, 0.5487290620803833, -0.06098094582557678, 0.3533746898174286, -0.30585235357284546, -0.25958433747291565, -0.10695476830005646, -0.5379852056503296, -0.4070003032684326, -0.6107513904571533, -0.03737184777855873, -0.5294390916824341, 0.020555974915623665, -0.27537018060684204, -0.6208289861679077, -0.3574926555156708, 0.013684745877981186, -0.44964399933815, 0.02538270875811577, 0.01292653102427721, -0.5608217120170593, 0.4606919288635254, -0.6328952312469482, -0.6702718138694763, -0.5431565642356873, -0.34535685181617737, 0.21322540938854218, -0.5217533111572266, 0.1407693475484848, -0.395535945892334, 0.20090869069099426, 0.21422208845615387, -0.5065617561340332, 0.1772022843360901, -0.027966203168034554, 0.17845799028873444, 0.3406094014644623, -0.22703132033348083, -0.23560366034507751, -0.6739256978034973, -0.28125616908073425, 0.1902845799922943, 0.16486245393753052, -0.6590386629104614, -0.11458750814199448, 0.05802410840988159, -0.6568482518196106, 0.04848678410053253, 0.4961395561695099, 0.5435070395469666, -0.508943498134613, -0.3193867802619934, -0.2341488152742386, -0.68967604637146, 0.20726117491722107, 0.0987052172422409, -0.42007648944854736, 0.4665805399417877, -0.3316884934902191, 0.4526166617870331, 0.7492023706436157, -0.3395110070705414, 0.19187591969966888, 0.7786266803741455, -0.030792515724897385, -0.6368099451065063, -0.4502820670604706, -0.27490904927253723, -0.6305089592933655, -0.47540831565856934, 0.4757399260997772, -0.39363589882850647, -0.31010493636131287, -0.09912285208702087, 0.5682230591773987, -0.5595650672912598, -0.47172921895980835, -0.4796275496482849, 0.638892412185669, -0.45841121673583984, -0.008538506925106049, -0.08490569144487381, 0.10976092517375946, 0.018570011481642723, 0.6960880160331726, -0.08070450276136398, -0.6385509967803955, -0.7282706499099731, -0.12190720438957214, 0.5037446618080139, 0.14498624205589294, 0.5662209987640381, -0.5429014563560486, -0.48690876364707947, -0.6499164700508118, -0.19139769673347473, -0.46945443749427795, 0.5692351460456848, 0.1923421025276184, -0.45272430777549744, -0.27625659108161926, 0.07176738232374191, 0.5193261504173279, 0.3142636716365814, -0.5056074857711792, 0.5830082297325134, 0.18568406999111176, -0.11654945462942123, 0.4830920100212097, 0.49583113193511963, 0.6958565711975098, 0.4814780056476593, 0.5804414749145508, -0.04595782980322838, 0.251984179019928, 0.5607305765151978, 0.13649390637874603, 0.00019564440299291164, 0.4605763554573059, -0.5911176204681396, -0.3964557945728302, -0.5851078629493713, -0.5510690808296204, -0.3290182054042816, -0.6394766569137573, 0.22772115468978882, 0.2726893126964569, -0.5206973552703857, -0.27506378293037415, 0.5994905233383179, -0.26852765679359436, -0.2883305251598358, -0.5123419761657715, 0.2859715223312378, 0.4393480122089386, -0.7377797961235046, 0.21407970786094666, -0.5331841111183167, 0.5001392364501953, 0.6865875720977783, 0.07070785760879517, 0.41385018825531006, -0.23718373477458954, 0.4834279417991638, 0.11715705692768097, 0.013601944781839848, -0.09750355035066605, 0.3323969841003418, 0.5684310793876648, 0.22805695235729218, 0.06334695965051651, 0.3187176585197449, 0.8107864260673523, 0.22326189279556274, -0.3266449272632599, -0.19150815904140472, -0.3488710820674896, -0.35552939772605896, -0.379209041595459, -0.48496466875076294, 0.5260815620422363, -0.1537616103887558, -0.3324465751647949, 0.36016640067100525, 0.29392099380493164, -0.41145017743110657, -0.2772412896156311, -0.32835549116134644, -0.10467485338449478, -0.5304998159408569, 0.022781914100050926, -0.2613258957862854, 0.5422982573509216, 0.18904301524162292, -0.6355488896369934, -0.5037617683410645, -0.35821276903152466, -0.3209128975868225, -0.5447038412094116, -0.6429630517959595, -0.562002420425415, -0.38002809882164, -0.4542306065559387, -0.6117287278175354, -0.24068517982959747, -0.7500147819519043, -0.5457630157470703, -0.12187120318412781, 0.09790384769439697, -0.2843514084815979, -0.6473251581192017, -0.5975522994995117, -0.43864181637763977, -0.5187259912490845, -0.39752939343452454, 0.4425295889377594, -0.1337580531835556, -0.20346765220165253, -0.8060250878334045, -0.5114441514015198, -0.3378113806247711, -0.06683827191591263, -0.35517388582229614, 0.6926466226577759, -0.5455835461616516, -0.6414228081703186, -0.41659513115882874, 0.773474931716919, -0.18576355278491974, 0.12420284748077393, -0.3231941759586334, -0.6233499050140381, -0.5785558223724365, -0.3379712998867035, -0.3392234742641449, -0.42224979400634766, -0.21220974624156952, 0.6333059072494507, 0.30108967423439026, -0.17283885180950165, -0.48240700364112854, -0.743857741355896, -0.5838309526443481, -0.41522878408432007, -0.7895801067352295, -0.2942371666431427, -0.6259484887123108, 0.35223403573036194, -0.6064974665641785, -0.1816161423921585, 0.05754967778921127, 0.07853960245847702, -0.3260972201824188, 0.5371067523956299, 0.3860117495059967, 0.09835068881511688, -0.2105482965707779, -0.40050771832466125, -0.2631497085094452, 0.34416207671165466, 0.4444587528705597, 0.5875524282455444, 0.7335185408592224, 0.597947895526886, -0.1302875429391861, 0.05580815300345421, 0.43182113766670227, -0.2367110550403595, 0.6695247888565063, -0.17496657371520996, 0.41468381881713867, 0.2531842887401581, -0.7352795004844666, -0.2717265486717224, 0.19845569133758545, -0.39406490325927734, -0.5285165905952454, 0.3496043086051941, -0.4128197431564331, -0.4788268506526947, -0.3326320946216583, 0.4656986594200134, -0.5639657974243164, -0.3676750361919403, -0.13112154603004456, 0.15877269208431244, 0.689507007598877, -0.03650845214724541, 0.6294218897819519, -0.057938411831855774, 0.2437317669391632, 0.6207635402679443, 0.5491666793823242, 0.4801673889160156, -0.12920570373535156, -0.4351198077201843, 0.6802461743354797, -0.17381785809993744, -0.7238852381706238, 0.4663110673427582, -0.3226557672023773, 0.27681609988212585, -0.4058404266834259, -0.3275093734264374, -0.6243082284927368, -0.047509998083114624, -0.3741052448749542, -0.6433398127555847, -0.40494734048843384, 0.33239901065826416, 0.45928576588630676, -0.6918874979019165, 0.397251695394516, -0.6874957084655762, -0.489896684885025, 0.23964469134807587, -0.5694957971572876, -0.15038344264030457, -0.05872393026947975, 0.1193721666932106, -0.12934869527816772, -0.36542487144470215, -0.669828474521637, -0.549938440322876, -0.17199836671352386, -0.6878963708877563, -0.3929421603679657, 0.07673849910497665, 0.31161224842071533, -0.5771987438201904, -0.5673832297325134, -0.4789721369743347, -0.03287598863244057, -0.13718825578689575, -0.36206290125846863, 0.7428403496742249, 0.03755241259932518, 0.05956509709358215, 0.04076007008552551, -0.03571811690926552, -0.4472957253456116, -0.13746628165245056, 0.06649746000766754, -0.11135198920965195, 0.5545573234558105, 0.5249921083450317, 0.14554725587368011, -0.20491163432598114, 0.46472710371017456, 0.55039381980896, 0.3667219281196594, 0.7879197001457214, 0.4741377830505371, 0.5580990314483643, 0.4306100904941559, -0.019449381157755852, 0.2302279770374298, 0.11848290264606476, 0.7145776152610779, -0.060544490814208984, 0.1993625909090042, 0.1934935748577118, 0.30243784189224243, 0.41987088322639465, 0.7231463193893433, 0.5239925384521484, 0.0964641124010086, -0.07376965880393982, 0.06199026480317116, 0.491570383310318, -0.7751674056053162, 0.6327489614486694, 0.2632468044757843, -0.2009943127632141, 0.20073166489601135, 0.6672050356864929, -0.3420042097568512, -0.7383694648742676, 0.265285849571228, -0.6042607426643372, -0.0378117635846138, -0.4136463701725006, 0.5562416315078735, 0.6598556041717529, -0.01659727469086647, -0.6164186596870422, -0.5250574946403503, 0.481180876493454, 0.45192283391952515, -0.03596062958240509, 0.5708243250846863, 0.06010208651423454, 0.05100042745471001, 0.26536983251571655, -0.03554121404886246, -0.45054230093955994, 0.2518010437488556, 0.17163079977035522, 0.25763627886772156, -0.28730183839797974, 0.2892623841762543, -0.7713087797164917, 0.09020351618528366, -0.6236206293106079, -0.547315776348114, 0.49053481221199036, -0.6596701741218567, -0.35330191254615784, 0.15765480697155, -0.29734817147254944, 0.47303664684295654, 0.04946347698569298, -0.12518931925296783, -0.6820347309112549, -0.0362936295568943, -0.7482088804244995, -0.4719574749469757, -0.4510694742202759, -0.14380580186843872, -0.0644327849149704, 0.5537117719650269, 0.26572057604789734, -0.0867002084851265, 0.6228200197219849, 0.7217429280281067, -0.512889564037323, 0.09088951349258423, -0.10418003052473068, 0.5253577828407288, -0.5396609306335449, -0.21050697565078735, 0.02488354593515396, -0.40704381465911865, 0.06546122580766678, -0.030657034367322922, -0.8302270770072937, -0.5296264290809631, -0.6337950229644775, -0.6369073390960693, -0.7120882868766785, -0.5776284337043762, 0.549034833908081, -0.7024825215339661, -0.5535195469856262, -0.34726011753082275, 0.02708033286035061, -0.6211819648742676, -0.13283881545066833, -0.5448316335678101, -0.6095404624938965, -0.14855867624282837, -0.37354937195777893, -0.10310041159391403, 0.008915171027183533, -0.5716053247451782, -0.41927769780158997, 0.3877675533294678, -0.4882088899612427, -0.01332846749573946, 0.2880387008190155, -0.3449111878871918, -0.179890975356102, -0.26647862792015076, -0.115225650370121, -0.6295812726020813, -0.396114706993103, -0.5256275534629822, -0.5366241335868835, 0.5812644958496094, 0.43895837664604187, 0.3084741532802582, 0.6308145523071289, -0.15991970896720886, -0.4554603397846222, 0.04675428196787834, -0.7063311338424683, -0.4672154486179352, -0.4228181838989258, 0.5133714079856873, -0.013359380885958672, -0.6223794221878052, -0.5839470624923706, -0.6527931094169617, 0.2694295346736908, -0.6812050342559814, -0.45382821559906006, 0.25284990668296814, -0.6633328199386597, -0.692188560962677, -0.55628901720047, 0.23109199106693268, -0.6178160905838013, -0.3854125738143921, -0.5820581912994385, -0.5362362861633301, 0.07275855541229248, 0.13457614183425903, 0.10646466910839081, -0.17364417016506195, 0.6348266005516052, -0.020953387022018433, 0.07862534373998642, -0.28452980518341064, -0.5823584198951721, -0.08866851776838303, -0.646379828453064, -0.12211990356445312, -0.11157184839248657, 0.019093748182058334, -0.3223000466823578, -0.049677733331918716, 0.10498284548521042, -0.03608257323503494, -0.18250109255313873, 0.43063148856163025, -0.6787602305412292, -0.5803347229957581, 0.04605277255177498, 0.4962632656097412, 0.0773916244506836, 0.024995706975460052, -0.3660050630569458, -0.18602250516414642, 0.7233295440673828, 0.34506669640541077, 0.010167282074689865, -0.5465753078460693, -0.11732582747936249, 0.049915850162506104, -0.20930583775043488, 0.07917347550392151, 0.3508540093898773, 0.3732191324234009, 0.09972073137760162, 0.22331111133098602, 0.22645558416843414, -0.23723429441452026, 0.11240612715482712, -0.2955092489719391, 0.1417888104915619, -0.27780842781066895, -0.5804329514503479, 0.3051137924194336, -0.11498977243900299, 0.693143904209137, -0.2401934564113617, 0.7496263384819031, 0.4002758860588074, -0.446552038192749, 0.5315144658088684, -0.1451486200094223, -0.23882898688316345, -0.14081189036369324, 0.3919641673564911, 0.009761781431734562, -0.3521660268306732, -0.3489895761013031, -0.06366711109876633, 0.14220216870307922, 0.4694904088973999, 0.3038773238658905, 0.011463494971394539, -0.6997607350349426, -0.37384921312332153, -0.4365983009338379, 0.11969435960054398, 0.36346566677093506, 0.5112758278846741, -0.4433537721633911, -0.21595023572444916, 0.03974413871765137, 0.09601233899593353, -0.6201012134552002, 0.34453848004341125, 0.006512463092803955, 0.0266264695674181, 0.3320235013961792, 0.564613938331604, 0.3547925651073456, 0.5112348198890686, 0.09519011527299881, 0.577498733997345, 0.3068632483482361, -0.34166833758354187, 0.20707803964614868, -0.09576216340065002, -0.08316688239574432, -0.3936765193939209, 0.2398388832807541, -0.02556515485048294, -0.28557300567626953, 0.6066505312919617, 0.3554465174674988, -0.31592419743537903, 0.24786172807216644, -0.5609806180000305, -0.07540284842252731, -0.37517568469047546, -0.1698801964521408, -0.35102173686027527, -0.4876043200492859, -0.5375534892082214, -0.6230270266532898, 0.3219437301158905, 0.513046383857727, 0.000916720018722117, -0.16295315325260162, -0.014536888338625431, -0.7607557773590088, -0.4355200231075287, -0.34486889839172363, -0.4649096131324768, -0.04047944024205208, -0.19587723910808563, 0.2930389642715454, -0.30277690291404724, -0.5359750390052795, -0.2496533840894699, 0.1671493947505951, 0.5833517909049988, -0.2272578328847885, -0.389588326215744, 0.621130108833313, -0.18321672081947327, 0.2688238024711609, -0.583000898361206, -0.03570907190442085, -0.38380587100982666, 0.0828799456357956, -0.09629372507333755, 0.27354487776756287, -0.13603608310222626, 0.37398847937583923, 0.08264346420764923, 0.18260042369365692, 0.7586380839347839, 0.05614197626709938, -0.35999032855033875, 0.6429039239883423, 0.057542286813259125, 0.28425806760787964, 0.3553031384944916, -0.5379897356033325, -0.6885523796081543, 0.4522527754306793, -0.526414155960083, 0.22990040481090546, -0.5669746398925781, 0.05505828559398651, -0.5084498524665833, -0.5686404705047607, -0.5234103202819824, -0.14055901765823364, -0.49947234988212585, -0.5565709471702576, -0.16896863281726837, -0.31738194823265076, -0.27305081486701965, -0.46126481890678406, -0.491750031709671, -0.6121162176132202, -0.4764930009841919, -0.04193403571844101, 0.32733631134033203, -0.7202833890914917, -0.49343615770339966, -0.7868915796279907, -0.7381563782691956, 0.459181547164917, -0.09491773694753647, 0.5765894055366516, 0.04536067694425583, 0.42042121291160583, -0.45922255516052246, -0.2794441878795624, 0.24600277841091156, -0.06827760487794876, 0.02084401063621044, 0.5097011923789978, -0.5857364535331726, -0.6909691691398621, 0.6524045467376709, 0.4413609504699707, 0.2868250608444214, -0.2986496388912201, -0.4832030236721039, -0.6493388414382935, 0.5727195143699646, 0.18439729511737823, -0.38785281777381897, 0.36327654123306274, -0.01002805307507515, -0.6819351315498352, 0.11946273595094681, -0.4494835138320923, -0.04430779069662094, -0.6740229725837708, -0.5872901678085327, -0.42853203415870667, -0.17756804823875427, 0.3057018220424652, -0.31037795543670654, 0.7434017658233643, 0.2706758975982666, 0.5164313912391663, 0.06838689744472504, 0.3274891972541809, -0.50121009349823, -0.5369752645492554, -0.2656293213367462, 0.6920983791351318, 0.5880751609802246, 0.05851013585925102, 0.0008103187428787351, 0.2922254204750061, -0.6680519580841064, -0.5648636221885681, -0.6869370341300964, -0.053213659673929214, -0.26014429330825806, 0.7065775394439697, 0.3022173047065735, -0.4281453490257263, -0.7564666271209717, -0.28857341408729553, 0.14297252893447876, 0.019550254568457603, -0.018495788797736168, -0.3488413095474243, 0.24336498975753784, -0.3544473946094513, 0.1703406125307083, -0.22608335316181183, -0.548250138759613, -0.6121559143066406, -0.6063859462738037, 0.06910448521375656, -0.5979657769203186, -0.4060274660587311, 0.2718210518360138, -0.31742972135543823, 0.18384656310081482, -0.7849536538124084, -0.8437660336494446, 0.38677915930747986, -0.2899618148803711, 0.2501054108142853, -0.11384966969490051, -0.3568216860294342, -0.5173892974853516, -0.5825325846672058, -0.8045606017112732, -0.4146360158920288, 0.04397483915090561, 0.1616608202457428, -0.29811739921569824, -0.09424954652786255, -0.6733416318893433, -0.5415852665901184, 0.007230787072330713, -0.4726108908653259, -0.45910653471946716, -0.12726560235023499, 0.13519127666950226, -0.5708640217781067, 0.30495837330818176, 0.6442950367927551, -0.0757075846195221, -0.6179341077804565, 0.31182610988616943, -0.6951509118080139, -0.5262657999992371, -0.5038589239120483, 0.22852292656898499, -0.5664072036743164, -0.3197009563446045, -0.402936190366745, 0.13285642862319946, 0.4802025258541107, -0.03296854719519615, -0.46456125378608704, -0.6441539525985718, -0.7196784615516663, 0.6799979209899902, 0.1885133981704712, -0.6185681223869324, -0.14860887825489044, -0.31070056557655334, -0.5700051188468933, 0.22860220074653625, -0.6323984265327454, -0.005118120461702347, 0.26246246695518494, 0.38947707414627075, -0.6718303561210632, -0.407152384519577, -0.3712559938430786, -0.5702620148658752, -0.5211772918701172, -0.22761982679367065, 0.5584701895713806, 0.08390053361654282, 0.5588690042495728, 0.24710583686828613, 0.5133716464042664, 0.6638372540473938, -0.32820942997932434, 0.073906809091568, -0.584971010684967, 0.040115516632795334, 0.21783000230789185, -0.5128297209739685, -0.40835872292518616, -0.6383607983589172, -0.22543641924858093, 0.25022056698799133, -0.44673246145248413, 0.5750809907913208, 0.5074401497840881, -0.2876102030277252, 0.39392203092575073, 0.6632543802261353, -0.27986013889312744, -0.6026245951652527, -0.831687867641449, -0.14741913974285126, -0.6186889410018921, 0.0902058556675911, -0.6967883110046387, -0.5152488350868225, -0.21504466235637665, -0.11889626830816269, -0.5081612467765808, -0.4385455846786499, -0.7783002853393555, -0.5217252373695374, -0.20551100373268127, -0.11062922328710556, 0.34508734941482544, -0.4761521518230438, 0.20981809496879578, -0.5175201296806335, -0.3150976598262787, 0.20317751169204712, -0.5232633948326111, -0.5520836114883423, -0.5786365866661072, -0.5680997371673584, 0.32411134243011475, 0.08444506675004959, 0.32991155982017517, -0.3249512314796448, -0.23916098475456238, -0.1480393409729004, 0.2900141179561615, -0.6233080625534058, 0.41494348645210266, -0.29098817706108093, 0.6192176938056946, -0.515659749507904, 0.30078279972076416, 0.32925742864608765, 0.07380735874176025, 0.40599578619003296, 0.2826880216598511, 0.12040593475103378, -0.21022458374500275, 0.6496232151985168, -0.3636820614337921, 0.12590739130973816, -0.49185994267463684, -0.7486132979393005, 0.005575810559093952, -0.37855851650238037, 0.3646233379840851, 0.5751826167106628, -0.13436652719974518, 0.6790775656700134, 0.2110060602426529, -0.24243058264255524, -0.27554863691329956, -0.5127062201499939, -0.4378367066383362, -0.6026789546012878, -0.22153295576572418, -0.4192105233669281, -0.14874789118766785, -0.2872107923030853, -0.029957301914691925, -0.08150462806224823, 0.23052002489566803, 0.0709824189543724, -0.3913416564464569, -0.30233123898506165, -0.38684898614883423, -0.6616714000701904, 0.5638378262519836, 0.19097653031349182, 0.39865586161613464, 0.059858113527297974, -0.27052736282348633, 0.13728448748588562, -0.03360048681497574, 0.5602126717567444, 0.31177541613578796, 0.11752934008836746, 0.8818631172180176, -0.5849073529243469, -0.5443742275238037, -0.23392494022846222, -0.17305587232112885, -0.595603346824646, 0.4342595934867859, -0.35807013511657715, -0.5709702372550964, -0.09035924822092056, 0.03637855499982834, -0.5902599096298218, 0.29764026403427124, -0.48766374588012695, 0.27193549275398254, -0.28876081109046936, 0.7329684495925903, 0.5950078368186951, -0.27194926142692566, 0.24097922444343567, -0.06207476183772087, 0.20329923927783966, 0.1462332159280777, -0.08473292738199234, 0.021969102323055267, -0.5829648971557617, -0.07990529388189316, -0.14082418382167816, -0.5381007194519043, -0.15937179327011108, -0.06900671124458313, -0.5028164982795715, -0.426008403301239, -0.48485779762268066, -0.009454334154725075, -0.10079029202461243, -0.1267276257276535, -0.5809889435768127, 0.41780054569244385, 0.1337921917438507, 0.6073867678642273, 0.1963915079832077, -0.6011413931846619, -0.7488821148872375, -0.3569536507129669, -0.17748510837554932, -0.5023855566978455, -0.5803461670875549, -0.5522941946983337, -0.08906619995832443, 0.536933958530426, 0.022647058591246605, -0.4513391852378845, -0.48418179154396057, -0.053928956389427185, -0.692143440246582, 0.0900489091873169, -0.6240801215171814, -0.558194100856781, -0.38656699657440186, -0.17145214974880219, -0.5673850774765015, -0.15096797049045563, -0.5317586660385132, -0.3338140547275543, -0.4255824685096741, 0.07561828941106796, 0.10592575371265411, -0.44961583614349365, -0.44249847531318665, -0.019200529903173447, 0.7308045625686646, -0.5595106482505798, -0.19294215738773346, -0.10402748733758926, -0.041492760181427, 0.42758554220199585, -0.11434096843004227, -0.6565764546394348, -0.07139046490192413, -0.48498064279556274, -0.5692870616912842, -0.6951570510864258, -0.596053421497345, -0.17752714455127716, -0.640476405620575, -0.18110069632530212, -0.258847713470459, -0.2966173589229584, -0.5698891282081604, -0.3523745536804199, -0.5339368581771851, -0.02598840743303299, -0.37527355551719666, -0.43430930376052856, -0.3593936860561371, -0.0724068284034729, -0.1143505796790123, -0.5460394620895386, -0.296650767326355, -0.35588720440864563, -0.40903884172439575, -0.09124241024255753, 0.025567395612597466, 0.11593398451805115, -0.5489087700843811, -0.3131242096424103, -0.4385824203491211, -0.2276334911584854, -0.3053836524486542, 0.18796570599079132, -0.031469814479351044, 0.8354856967926025, -0.0022764569148421288, -0.1510394960641861, -0.663735032081604, 0.1756979078054428, -0.6177452802658081, -0.11780901253223419, 0.016229066997766495, -0.5372551083564758, -0.8054106831550598, 0.4627215564250946, 0.1522299200296402, 0.37212926149368286, -0.2044353187084198, 0.12980413436889648, -0.7186172604560852, -0.25685977935791016, -0.4380723834037781, -0.4964197874069214, 0.28223326802253723, -0.5150464773178101, -0.45354294776916504, -0.2495919167995453, 0.04754054918885231, -0.61447674036026, -0.4144738018512726, 0.5054888725280762, -0.5727018117904663, -0.3997918665409088, 0.16567780077457428, 0.5648249983787537, -0.21370838582515717, -0.08391667902469635, 0.18988201022148132, 0.24089349806308746, 0.42848867177963257, 0.3094026446342468, 0.1757267564535141, 0.12010429799556732, 0.5305817723274231, 0.10705617070198059, -0.5597755908966064, -0.4809211492538452, 0.4708290100097656, 0.20631490647792816, 0.7052100300788879, 0.24562926590442657, 0.26327449083328247, -0.11318624019622803, 0.4888480603694916, -0.28039976954460144, 0.3555266559123993, 0.06878912448883057, 0.3189923167228699, 0.23473921418190002, 0.30531248450279236, -0.5482012629508972, 0.24333976209163666, -0.6758262515068054, -0.6673499345779419, -0.3306809067726135, 0.20619583129882812, 0.4675063192844391, -0.41533684730529785, -0.1619666963815689, -0.18727633357048035, -0.5094743967056274, -0.7356787919998169, -0.5300846099853516, 0.22799207270145416, -0.7073246836662292, -0.6298388242721558, -0.7226713299751282, -0.14955690503120422, -0.4258677661418915, -0.6235945820808411, -0.21695008873939514, 0.2858998775482178, -0.1202605590224266, 0.44448256492614746, -0.3200666606426239, -0.5674028396606445, -0.5752504467964172, -0.37295082211494446, -0.24339264631271362, 0.056816257536411285, -0.621746838092804, -0.3191322088241577, -0.49799707531929016, -0.25565800070762634, 0.4596242308616638, -0.05491986870765686, -0.4222879111766815, -0.6936183571815491, 0.734842836856842, -0.34413203597068787, -0.32353466749191284, -0.4647054970264435, -0.3207924962043762, -0.5419679880142212, -0.5743762850761414, 0.41002199053764343, -0.10284446179866791, -0.37287747859954834, -0.014992818236351013, -0.4168831408023834, -0.2862638831138611, -0.542769193649292, -0.48305678367614746, 0.4982656240463257, -0.6505036354064941, -0.6413074731826782, 0.08360914885997772, 0.40064558386802673, -0.00779683468863368, 0.3667576014995575, -0.15555118024349213, -0.061823803931474686, 0.27457961440086365, -0.14294235408306122, 0.3974093496799469, 0.16051365435123444, 0.1423351764678955, -0.47843262553215027, 0.233530193567276, 0.684984028339386, -0.33832642436027527, 0.0329366996884346, -0.7029704451560974, 0.6362554430961609, 0.13867788016796112, -0.33147644996643066, 0.1269831657409668, 0.6877213716506958, 0.4926134943962097, -0.4728589653968811, -0.5853950381278992, -0.7147060036659241, -0.6802471280097961, -0.06493465602397919, -0.22544817626476288, 0.43664950132369995, 0.06481745839118958, -0.5497428774833679, -0.3341623544692993, 0.20480021834373474, -0.3908963203430176, -0.5330688953399658, 0.6308761835098267, -0.597786009311676, -0.43719640374183655, 0.22120049595832825, -0.7523884177207947, -0.2291761189699173, -0.570199191570282, -0.48103561997413635, -0.38056227564811707, -0.30453985929489136, -0.464862585067749, 0.5125017166137695, 0.183355912566185, 0.57682865858078, 0.022445302456617355, -0.04980653524398804, 0.0972457304596901, -0.1282953917980194, -0.14693722128868103, 0.5777955651283264, -0.15382282435894012, -0.20403000712394714, 0.6420417428016663, -0.7574180960655212, -0.2005622386932373, 0.04889846593141556, -0.604859471321106, -0.36073747277259827, -0.3897135555744171, -0.38773441314697266, 0.3518507778644562, 0.31083640456199646, -0.0910460352897644, -0.18496863543987274, 0.17510539293289185, -0.3797621428966522, -0.34406471252441406, -0.0186732467263937, -0.3264312446117401, 0.06752850860357285, 0.6003748178482056, 0.031605981290340424, -0.49984845519065857, -0.11418116837739944, 0.22303803265094757, -0.19916531443595886, 0.16608676314353943, 0.34696587920188904, -0.11716615408658981, -0.10925637185573578, -0.02244245819747448, 0.4908968210220337, -0.11257342249155045, 0.23077912628650665, 0.6089863777160645, 0.47297272086143494, 0.4066542387008667, -0.025097567588090897, 0.5157712697982788, -0.5357080698013306, 0.5479781627655029, 0.5572336912155151, 0.389380544424057, -0.6135198473930359, 0.11580248177051544, 0.018916120752692223, -0.03836740180850029, -0.44355425238609314, 0.11351422220468521, -0.4196409285068512, 0.2575702667236328, -0.6954452991485596, 0.7035859823226929, 0.31965550780296326, -0.49266621470451355, 0.5948279500007629, -0.05908689647912979, -0.4192495346069336, 0.4121950566768646, -0.22618217766284943, -0.4096524119377136, 0.019974874332547188, -0.3659042418003082, -0.2695382833480835, -0.6658670902252197, 0.6304810643196106, -0.09972192347049713, -0.4945530593395233, -0.036220841109752655, 0.17226654291152954, -0.470666766166687, -0.6131858229637146, 0.486459881067276, 0.724180281162262, 0.017760660499334335, -0.345714807510376, 0.3898056149482727, -0.09456579387187958, 0.38885077834129333, -0.8081761598587036, -0.5879277586936951, 0.27353155612945557, -0.5169018507003784, 0.4300113916397095, -0.06230613589286804, -0.1730905920267105, 0.41234734654426575, -0.570339560508728, -0.04213152453303337, 0.31114131212234497, 0.6514856815338135, -0.4571225941181183, 0.08285476267337799, -0.5794256329536438, -0.7556896209716797, -0.2533649206161499, -0.635991096496582, -0.1485404223203659, -0.5761042237281799, -0.02308177761733532, -0.3417585790157318, -0.5325059294700623, 0.38406914472579956, 0.25288712978363037, 0.2937518060207367, 0.27662500739097595, -0.21126598119735718, 0.13273268938064575, -0.0851481631398201, 0.50602126121521, 0.014125079847872257, 0.30208465456962585, -0.6600462198257446, -0.06664296239614487, -0.6023643016815186, 0.07489823549985886, -0.08110734075307846, 0.3076924681663513, -0.49786266684532166, -0.6067629456520081, 0.3605007827281952, 0.13292062282562256, 0.2910776138305664, -0.3521377742290497, 0.17804627120494843, 0.2692421078681946, -0.2713521420955658, -0.2486477941274643, -0.6078652739524841, -0.3253119885921478, -0.49486249685287476, 0.33849436044692993, -0.4456852376461029, 0.49848631024360657, 0.46367746591567993, -0.3581719398498535, 0.3546258509159088, -0.7093952894210815, -0.6675360798835754, 0.4358321726322174, 0.6342655420303345, -0.7664409279823303, 0.05743039771914482, -0.5278871655464172, -0.7258201241493225, -0.5621416568756104, -0.3670352101325989, -0.4523215889930725, 0.3151977062225342, -0.4421834945678711, -0.6715278625488281, -0.7079907059669495, -0.16858543455600739, -0.2019503265619278, -0.33266153931617737, -0.50850909948349, -0.5076895356178284, -0.16626442968845367, -0.05094191059470177, 0.14409811794757843, -0.10354963690042496, -0.43422240018844604, 0.29808610677719116, 0.18245357275009155, -0.4740724563598633, -0.5950851440429688, -0.5395710468292236, 0.3887280523777008, 0.22995758056640625, -0.6005184054374695, -0.6640766263008118, -0.302272230386734, -0.2632696330547333, -0.7121961116790771, -0.07248829305171967, -0.4540293216705322, -0.622729480266571, -0.3534001410007477, -0.3421695828437805, -0.4393680691719055, -0.5571486353874207, 0.048565126955509186, -0.4425581097602844, -0.5196067690849304, -0.5560384392738342, -0.5550517439842224, -0.2535962760448456, -0.07624027132987976, -0.4090273976325989, -0.29167288541793823, -0.7148854732513428, 0.12069699913263321, 0.2395298182964325, -0.38184309005737305, 0.518733024597168, -0.2578423023223877, 0.33972054719924927, 0.30935803055763245, -0.12380411475896835, -0.3181625306606293, -0.37097930908203125, -0.4723871648311615, -0.5825563073158264, -0.544983983039856, -0.3963855504989624, 0.05503120273351669, -0.08187343925237656, -0.5189815759658813, -0.4354063868522644, -0.531699538230896, 0.76107257604599, -0.6263649463653564, -0.13821469247341156, -0.19038774073123932, -0.5935956239700317, -0.5717588663101196, -0.6429147720336914, -0.49696633219718933, 0.19486355781555176, -0.3720119595527649, 0.23727631568908691, -0.28003764152526855, -0.44350704550743103, 0.38106149435043335, -0.3283313810825348, -0.5683591961860657, -0.6335134506225586, -0.6317568421363831, -0.5863634943962097, -0.5768970847129822, 0.2543061673641205, -0.6374003291130066, -0.537903368473053, -0.4042796790599823, -0.043567586690187454, -0.3733502924442291, 0.4771275818347931, 0.13140615820884705, -0.5717580914497375, -0.6719504594802856, -0.5777455568313599, -0.6722623705863953, 0.2697056233882904, -0.05747019872069359, -0.6550673246383667, -0.19177648425102234, -0.41093751788139343, -0.4014090597629547, -0.2179185450077057, 0.5577476024627686, 0.6860588788986206, 0.4804989993572235, -0.2903859317302704, -0.48205265402793884, -0.6210112571716309, -0.1765209287405014, -0.7146733999252319, -0.38061586022377014, 0.5001121163368225, -0.19037215411663055, -0.45309779047966003, -0.07961064577102661, -0.14966018497943878, 0.30318719148635864, -0.42530086636543274, -0.05505712702870369, -0.6031537652015686, -0.32683077454566956, -0.24925260245800018, -0.5350897312164307, -0.6606847047805786, -0.20878823101520538, 0.2572433054447174, 0.6870561838150024, -0.5326826572418213, -0.5769767761230469, 0.05122849717736244, -0.618247926235199, -0.6156474947929382, 0.39925655722618103, -0.25461071729660034, 0.5733274817466736, -0.083043672144413, 0.3719557225704193, 0.23545975983142853, 0.5789186954498291, -0.23535358905792236, 0.020978493615984917, 0.010250737890601158, 0.5757074356079102, 0.4361140727996826, 0.1853134036064148, -0.08111681789159775, -0.5147290825843811, -0.683151125907898, -0.15599189698696136, -0.7400524616241455, -0.4297591745853424, 0.30577975511550903, -0.017110373824834824, 0.36517688632011414, 0.08427567780017853, 0.21172723174095154, -0.20928946137428284, -0.11987360566854477, -0.7514841556549072, -0.5195813179016113, -0.519219696521759, -0.4299805760383606, -0.5776930451393127, -0.6654796600341797, -0.7706376314163208, -0.4757319688796997, 0.08388803154230118, 0.08138059824705124, -0.38381388783454895, -0.27073147892951965, -0.05032246932387352, 0.41101813316345215, 0.6656090021133423, -0.14051979780197144, -0.3040289580821991, -0.027699410915374756, 0.0015062725869938731, -0.616543710231781, -0.4758000671863556, 0.18673376739025116, 0.2525395452976227, 0.13656842708587646, -0.7089701294898987, -0.1433427929878235, 0.11355054378509521, -0.42821162939071655, 0.33305373787879944, -0.10035417973995209, -0.05032975599169731, 0.7586384415626526, -0.27318456768989563, -0.4651079475879669, -0.3961712718009949, 0.5377723574638367, 0.46806731820106506, 0.5179210305213928, 0.33712148666381836, -0.7183932065963745, 0.5980451703071594, 0.09786108881235123, -0.41198301315307617, 0.30846795439720154, -0.6997710466384888, -0.6193950176239014, 0.6190115809440613, -0.3506527543067932, -0.6635767221450806, -0.5872169733047485, 0.3905956447124481, -0.8088357448577881, -0.6976338028907776, 0.39758291840553284, 0.36144518852233887, 0.4721095860004425, -0.2021944224834442, -0.4715372920036316, -0.6739359498023987, -0.19575093686580658, 0.1480984389781952, 0.2677174210548401, -0.7314010858535767, 0.6301448345184326, -0.43858715891838074, 0.09045000374317169, 0.14996986091136932, -0.7554594874382019, -0.657873272895813, -0.6773794889450073, 0.1571575403213501, -0.5965002775192261, -0.21842534840106964, -0.11690326780080795, -0.5139206051826477, 0.5484200119972229, -0.48181599378585815, -0.5936740636825562, -0.45650672912597656, -0.46768930554389954, 0.71067214012146, 0.12886688113212585, 0.529633641242981, 0.6235108375549316, -0.0717475414276123, -0.18806035816669464, 0.08664702624082565, -0.21076509356498718, -0.49618083238601685, 0.166629359126091, 0.23158663511276245, 0.3989073932170868, 0.4725869596004486, -0.3086445927619934, -0.6735153794288635, -0.6356536746025085, -0.6174106001853943, 0.2672404944896698, -0.6710142493247986, -0.2396312654018402, -0.6905801296234131, -0.2532617747783661, -0.6999996304512024, -0.6279770731925964, -0.45327335596084595, -0.4669630229473114, -0.19239038228988647, -0.2760731875896454, 0.2405402660369873, -0.6445275545120239, 0.12848694622516632, 0.5418806672096252, 0.41827392578125, -0.24748283624649048, 0.3557658791542053, -0.49178192019462585, -0.19547368586063385, -0.4799002707004547, -0.7332373857498169, -0.5311576724052429, -0.4235727787017822, 0.41895073652267456, -0.6462254524230957, -0.024399708956480026, 0.5854067802429199, 0.25112318992614746, -0.052879977971315384, -0.46781957149505615, -0.14431267976760864, 0.36856427788734436, -0.30823925137519836, -0.06271125376224518, -0.8245494365692139, 0.2521701753139496, -0.49915966391563416, -0.714099109172821, -0.6190983653068542, -0.13074810802936554, -0.5531560778617859, 0.221227765083313, 0.3056231737136841, -0.21798774600028992, -0.04737989977002144, 0.11389926075935364, -0.31833600997924805, 0.02732141502201557, -0.3496536910533905, -0.7241374254226685, 0.2596048414707184, 0.15450456738471985, 0.3036641776561737, -0.03773210197687149, -0.08042038232088089, 0.08304465562105179, -0.11795280128717422, -0.37993156909942627, -0.5213478207588196, -0.7835059762001038, 0.5311779379844666, -0.40565305948257446, -0.20461779832839966, -0.4458918571472168, -0.7571844458580017, -0.057867977768182755, 0.4102954566478729, -0.20863962173461914, -0.5709943771362305, -0.5757725238800049, 0.7615599632263184, -0.266408771276474, -0.5554612874984741, -0.21543678641319275, -0.44486701488494873, 0.5336727499961853, 0.12880772352218628, -0.7206361293792725, -0.6139011979103088, 0.3502376675605774, -0.5766013860702515, -0.48161211609840393, -0.46972161531448364, -0.7218469381332397, -0.452649861574173, 0.558210551738739, -0.5879170894622803, -0.4711190462112427, -0.28355872631073, -0.059976521879434586, -0.4850215017795563, -0.18315064907073975, -0.6744624972343445, -0.4489682912826538, -0.6614298820495605, 0.15706442296504974, -0.49492505192756653, 0.6943731307983398, -0.27146121859550476, -0.5882880687713623, 0.09376847743988037, -0.5831862688064575, 0.06376273185014725, -0.40665629506111145, 0.24406659603118896, -0.14130555093288422, -0.4007646441459656, -0.6365843415260315, -0.34297239780426025, -0.2089773267507553, 0.5766964554786682, 0.31966137886047363, -0.602120578289032, 0.4457380175590515, 0.47323349118232727, 0.21534937620162964, -0.19001072645187378, -0.17700056731700897, 0.35995954275131226, 0.6687923669815063, -0.5137504935264587, 0.4075261056423187, 0.1659640520811081, 0.29148271679878235, -0.39905300736427307, 0.497982919216156, -0.5694199204444885, -0.5731638073921204, 0.39179727435112, -0.2597452700138092, 0.4250284433364868, -0.7514888644218445, -0.08045190572738647, 0.24436894059181213, -0.12957777082920074, 0.2930383086204529, 0.4432598352432251, -0.262028306722641, 0.5394158959388733, 0.3238344192504883, 0.4584760069847107, 0.15198692679405212, 0.07116292417049408, -0.1988205909729004, -0.27615800499916077, -0.37002864480018616, 0.08664131909608841, -0.5785824656486511, 0.048122383654117584, 0.12499546259641647, 0.3812696635723114, 0.14040620625019073, -0.5611664056777954, 0.3488675057888031, -0.5423223972320557, -0.18709945678710938, -0.7267661690711975, 0.10745113343000412, -0.04357445240020752, -0.21402393281459808, -0.36269086599349976, 0.6017428040504456, -0.6218070983886719, -0.46169859170913696, -0.5702608227729797, 0.3767535388469696, -0.6872140765190125, 0.606965959072113, -0.28013747930526733, 0.6305396556854248, -0.6157624125480652, -0.6478078365325928, -0.6476367115974426, 0.5129178762435913, 0.45309996604919434, -0.40279412269592285, -0.6483917236328125, -0.11356548219919205, 0.30266517400741577, -0.4737764596939087, 0.5391578078269958, 0.25446921586990356, 0.4686459004878998, 0.4324111342430115, -0.5835759043693542, 0.514046311378479, -0.36984869837760925, -0.23176781833171844, -0.3012692928314209, -0.34886160492897034, 0.32748112082481384, -0.4477711319923401, -0.37721386551856995, 0.33397650718688965, -0.16617611050605774, -0.6012336611747742, 0.2386263757944107, 0.065497986972332, -0.6820577383041382, -0.7736853361129761, -0.3687777817249298, -0.5760294198989868, -0.20233817398548126, -0.2924008071422577, -0.5250287652015686, 0.02029225416481495, -0.3239315152168274, -0.1559717059135437, -0.26797932386398315, -0.06332774460315704, 0.014107420109212399, -0.4160231947898865, 0.30209606885910034, -0.12377271801233292, 0.3582402467727661, -0.4845343828201294, 0.020800039172172546, 0.33582574129104614, 0.021196618676185608, -0.514190137386322, -0.5870016813278198, -0.4050528407096863, -0.3399866819381714, 0.17781144380569458, -0.012277178466320038, -0.5890671014785767, -0.11119939386844635, 0.01168757863342762, 0.45880118012428284, -0.2360992133617401, 0.024305032566189766, -0.5390819311141968, -0.32205864787101746, -0.3285999596118927, 0.13086029887199402, -0.19673825800418854, -0.5978356003761292, 0.8016981482505798, 0.29078665375709534, -0.11256016790866852, 0.11396068334579468, 0.15293234586715698, -0.04312504082918167, 0.30821114778518677, -0.17880846560001373, -0.4739990830421448, -0.5805715322494507, 0.2492394894361496, -0.20750178396701813, 0.1715489774942398, 0.39113882184028625, -0.5954174995422363, -0.38027405738830566, -0.6244771480560303, 0.6646192669868469, -0.5948536992073059, 0.4754033386707306, -0.7003275752067566, 0.2218211144208908, 0.08843810111284256, 0.3942559063434601, 0.4427224397659302, -0.38662195205688477, 0.12133418023586273, 0.47426342964172363, -0.7012338638305664, -0.756446123123169, -0.6949598789215088, -0.5529916882514954, 0.46213459968566895, 0.3996216654777527, 0.20534764230251312, 0.031427543610334396, -0.7951816916465759, -0.4973963797092438, -0.25726020336151123, 0.010354489088058472, -0.2273617833852768, 0.2012186199426651, -0.13716384768486023, -0.35196322202682495, 0.11450757086277008, -0.4262773394584656, 0.433029443025589, 0.6727975010871887, -0.6042342185974121, 0.027423663064837456, 0.36652636528015137, -0.6459159851074219, -0.34419581294059753, 0.48678529262542725, 0.38079214096069336, -0.4386633336544037, -0.15757465362548828, -0.07448379695415497, -0.07354971021413803, -0.3513942062854767, -0.13237570226192474, 0.30429568886756897, 0.531765878200531, 0.24893561005592346, 0.24530111253261566, 0.6267573833465576, 0.5891133546829224, 0.5340142250061035, -0.390351802110672, -0.4483337700366974, -0.012393343262374401, -0.4421670138835907, -0.45534735918045044, 0.40629491209983826, -0.3881079852581024, -0.2951605021953583, 0.2668814957141876, -0.5312024354934692, 0.4088960886001587, -0.29122886061668396, -0.2327008843421936, 0.5529379844665527, 0.7218092679977417, -0.34033405780792236, -0.6098490953445435, -0.014463163912296295, -0.16313934326171875, 0.5549079775810242, 0.22660194337368011, -0.043966710567474365, 0.4650450348854065, 0.08458827435970306, 0.16938470304012299, -0.42645829916000366, 0.21177366375923157, -0.3824121057987213, -0.3897852897644043, -0.32569870352745056, -0.38933369517326355, -0.31714412569999695, -0.568733811378479, 0.3530694544315338, -0.4736153483390808, -0.456149160861969, -0.3236273527145386, -0.04194315895438194, -0.668509840965271, 0.21352331340312958, 0.49000975489616394, -0.5599817037582397, -0.3041131794452667, 0.01327451691031456, 0.188455268740654, -0.5698002576828003, 0.3217867314815521, -0.2449304461479187, 0.3584706783294678, -0.6671920418739319, 0.3871712386608124, 0.26393869519233704, -0.7320140600204468, -0.15706321597099304, -0.5797836780548096, -0.14592377841472626, 0.49345505237579346, 0.3676663041114807, 0.11630120873451233, -0.23111826181411743, -0.3498101234436035, -0.08532735705375671, -0.5323270559310913, -0.3470970392227173, 0.3711749017238617, -0.5494741201400757, -0.10999564826488495, 0.6371970176696777, -0.30447861552238464, 0.5037272572517395, 0.45280811190605164, -0.4674333930015564, -0.1294754445552826, 0.5828974843025208, 0.06686323881149292, -0.29880574345588684, 0.2880984842777252, 0.8531631231307983, 0.15754854679107666, 0.4270080327987671, 0.6454612612724304, 0.43400999903678894, 0.509120523929596, -0.4122326672077179, -0.08547019958496094, -0.8640565872192383, -0.5119666457176208, -0.6459526419639587, -0.2921869158744812, -0.5921965837478638, 0.11938811093568802, -0.5340784788131714, 0.32359495759010315, 0.3948651850223541, 0.12690895795822144, -0.2449420988559723, 0.402654767036438, -0.6733604669570923, 0.12482333183288574, 0.35995087027549744, -0.7053770422935486, 0.07759498059749603, 0.22757378220558167, 0.43531978130340576, -0.20576006174087524, 0.6204356551170349, -0.3189617097377777, -0.3936538100242615, -0.31935447454452515, -0.20077469944953918, -0.6157947182655334, -0.40414461493492126, -0.3117201328277588, -0.2160627245903015, -0.4602821171283722, -0.46221449971199036, 0.33271002769470215, -0.458680123090744, 0.6263951063156128, 0.2989441454410553, 0.3759627938270569, 0.5794336795806885, -0.07778578251600266, 0.26574283838272095, 0.33056366443634033, -0.28241270780563354, 0.08823856711387634, 0.4391627311706543, -0.21450892090797424, 0.07934023439884186, 0.1555737555027008, -0.4880344569683075, -0.24925248324871063, -0.47990137338638306, 0.4840400516986847, -0.1427304595708847, -0.5151206851005554, 0.6640382409095764, 0.5376120805740356, 0.5359734892845154, 0.5807873606681824, -0.6584413647651672, -0.31897851824760437, -0.6332530379295349, -0.7081711292266846, -0.247134730219841, -0.20904433727264404, -0.42657309770584106, -0.31842201948165894, -0.36437761783599854, -0.48982158303260803, -0.6412335634231567, 0.6435636878013611, 0.36587318778038025, -0.023344803601503372, 0.016410749405622482, 0.4879160225391388, -0.3982585668563843, 0.6018635034561157, -0.7614765763282776, -0.7335099577903748, 0.038222189992666245, 0.05723017081618309, -0.6084391474723816, -0.6461538076400757, -0.3206852376461029, -0.5922412276268005, -0.6385828256607056, 0.3395533859729767, 0.5294416546821594, -0.45754745602607727, 0.7329230308532715, -0.5140026807785034, 0.08837633579969406, 0.4677037298679352, -0.6674284934997559, 0.6043143272399902, 0.26794496178627014, -0.6401107311248779, 0.266095370054245, -0.65608149766922, -0.23687861859798431, -0.4905325770378113, 0.40723010897636414, -0.3599153757095337, 0.61329585313797, 0.41915246844291687, -0.05224323272705078, -0.5031041502952576, 0.26592501997947693, 0.39888203144073486, 0.5062589645385742, 0.3483475148677826, -0.6233507394790649, -0.547034502029419, -0.5352480411529541, -0.5706621408462524, -0.16079165041446686, -0.7382698655128479, -0.15770308673381805, -0.35753417015075684, -0.6567357182502747, 0.7271997928619385, -0.503527820110321, -0.11126379668712616, 0.6162902116775513, 0.23664841055870056, -0.6378806233406067, -0.367908775806427, 0.2773571312427521, -0.014439207501709461, 0.38103675842285156, -0.6260374188423157, -0.07878459244966507, -0.2452726513147354, -0.14981842041015625, -0.5396932363510132, 0.059952713549137115, -0.18804523348808289, -0.45118460059165955, 0.09656745940446854, 0.317234069108963, -0.19198201596736908, -0.019483229145407677, -0.6163454651832581, -0.4461982250213623, -0.27114370465278625, 0.6178078055381775, -0.466371089220047, -0.030993163585662842, 0.5474831461906433, -0.5089796185493469, 0.1478101909160614, 0.3120018243789673, -0.6142148971557617, -0.5487322807312012, -0.6133168935775757, -0.5875213742256165, -0.12557236850261688, -0.2661390006542206, -0.10148841142654419, -0.5398328304290771, -0.4435039460659027, -0.4154558479785919, -0.5025690793991089, -0.10406475514173508, -0.526774525642395, 0.11996044218540192, 0.5800316333770752, -0.08808912336826324, -0.17238473892211914, -0.47909656167030334, -0.2695660889148712, -0.016566697508096695, -0.2866126000881195, -0.19065816700458527, -0.5800814628601074, -0.05432716757059097, -0.6586588025093079, -0.11107531189918518, 0.1752348393201828, 0.6566541194915771, -0.7419140338897705, -0.5189251899719238, 0.3794611990451813, 0.5415907502174377, 0.44648289680480957, 0.11614073067903519, -0.2844522297382355, -0.35698992013931274, 0.2640475630760193, 0.4749652147293091, -0.14270855486392975, -0.024970034137368202, 0.8019627332687378, -0.24949443340301514, 0.34999004006385803, 0.2434796392917633, -0.44036662578582764, 0.63393634557724, -0.6133975386619568, -0.5692240595817566, -0.6175356507301331, -0.182285875082016, 0.5510532855987549, 0.5350040793418884, 0.22261342406272888, 0.42135730385780334, 0.4996829926967621, 0.2848462462425232, 0.21855157613754272, -0.03493113070726395, 0.10501252114772797, -0.1952803134918213, 0.16642364859580994, -0.646752119064331, -0.2822301387786865, -0.5704789757728577, -0.42398983240127563, -0.4575525224208832, -0.6454058289527893, 0.2575898766517639, 0.21634410321712494, -0.08731163293123245, 0.24534742534160614, 0.4830411374568939, 0.11787405610084534, 0.6963047981262207, -0.26641035079956055, -0.37085869908332825, 0.0876942053437233, -0.16149713099002838, -0.24062016606330872, 0.04402444511651993, -0.22142964601516724, -0.1349174678325653, 0.2834228277206421, 0.06516817212104797, 0.03894229605793953, 0.5198803544044495, 0.2064296156167984, -0.6481516361236572, -0.2714812159538269, 0.2965342700481415, 0.1474464237689972, -0.036878157407045364, -0.7644394636154175, -0.20364481210708618, 0.5778326392173767, -0.4026815593242645, 0.4658564031124115, -0.6966686248779297, 0.10395777225494385, 0.47882986068725586, -0.4988291263580322, 0.35874664783477783, -0.5776543021202087, -0.6408518552780151, 0.02174956165254116, 0.4258310794830322, 0.3775385022163391, 0.6112544536590576, 0.4193587005138397, -0.4648860991001129, -0.37061482667922974, 0.06412043422460556, 0.5852125883102417, -0.6313096284866333, 0.273370623588562, -0.6546804308891296, -0.5863064527511597, -0.6300271153450012, -0.42065322399139404, -0.48618873953819275, -0.4842095375061035, 0.056435324251651764, -0.04476134479045868, 0.18549871444702148, -0.013604179956018925, -0.41003382205963135, -0.01397619303315878, -0.5672783851623535, -0.16313597559928894, 0.18600672483444214, 0.19259770214557648, 0.5585638284683228, 0.14464880526065826, 0.32641541957855225, -0.2802424728870392, -0.5170016884803772, -0.5211266279220581, 0.2985205352306366, -0.411853164434433, 0.5432103276252747, 0.6001003980636597, 0.7820887565612793, -0.7007373571395874, -0.32516512274742126, 0.3632955551147461, 0.5971574783325195, 0.6220365762710571, 0.3912208080291748, 0.5023139715194702, 0.6880306005477905, 0.1982416957616806, -0.5459514856338501, 0.5598382949829102, 0.5216993689537048, 0.29781633615493774, 0.3173462748527527, 0.10080177336931229, 0.2031145542860031, 0.7898712754249573, -0.37226712703704834, 0.5156638622283936, -0.0018891164800152183, 0.22485357522964478, 0.2868231236934662, -0.06321612745523453, -0.5371147394180298, 0.5199536085128784, 0.10915179550647736, 0.3966951370239258, 0.4555419385433197, 0.3177303373813629, 0.5502066016197205, 0.5754819512367249, 0.052893802523612976, 0.5541941523551941, -0.4690920114517212, -0.6118744015693665, 0.4876692295074463, 0.5744103193283081, 0.4062884747982025, -0.575721263885498, -0.0918748527765274, 0.6736370325088501, 0.2655000686645508, 0.599696695804596, 0.08524942398071289, 0.1116766408085823, 0.49732011556625366, 0.5697586536407471, 0.19276854395866394, 0.6121448874473572, 0.41342398524284363, -0.188608780503273, 0.6820052862167358, 0.06137419864535332, -0.6925979256629944, -0.4876422882080078, 0.3147400915622711, -0.4714222252368927, 0.55721116065979, -0.42632296681404114, 0.6672269701957703, -0.5266715288162231, -0.04819117859005928, -0.42191946506500244, -0.5662397742271423, 0.6020544171333313, -0.5250500440597534, 0.44495218992233276, 0.7658994793891907, 0.21072593331336975, -0.3434952199459076, -0.16812172532081604, -0.5588669776916504, 0.4438250958919525, 0.11796512454748154, -0.3598577678203583, -0.24310541152954102, 0.2895917594432831, -0.3485206365585327, 0.38962259888648987, -0.5974969863891602, 0.061876144260168076, 0.1909542828798294, 0.4320301413536072, 0.5464392304420471, 0.1489316076040268, -0.16985589265823364, -0.5778270363807678, 0.16810058057308197, -0.608160138130188, -0.399050235748291, 0.5315094590187073, -0.6635726094245911, -0.19044268131256104, -0.6719019412994385, -0.5865306854248047, -0.4342835545539856, 0.6929104924201965, 0.1590653359889984, -0.3979133069515228, 0.042105548083782196, 0.6430566310882568, 0.10314065963029861, -0.5398861169815063, 0.707942008972168, -0.48182249069213867, -0.09843038022518158, 0.40710940957069397, 0.40479904413223267, -0.2608581781387329, -0.029496992006897926, 0.23185278475284576, -0.009889621287584305, 0.5083942413330078, 0.4541550278663635, 0.7625588178634644, 0.754804253578186, 0.796443521976471, -0.6249403953552246, 0.1331624537706375, 0.43940064311027527, 0.41877731680870056, -0.28343620896339417, 0.4406037926673889, -0.7203533053398132, -0.12340888381004333, 0.069617860019207, 0.07123172283172607, 0.16601534187793732, -0.18220965564250946, 0.37670716643333435, -0.1582680642604828, -0.39821380376815796, -0.31741654872894287, -0.27232253551483154, -0.4779820442199707, 0.13011839985847473, -0.2694425582885742, 0.7639564871788025, -0.5560905337333679, 0.032290901988744736, 0.43377408385276794, -0.185293510556221, -0.33579492568969727, 0.5637208819389343, 0.04934750869870186, 0.16874022781848907, -0.4602053165435791, -0.4864836037158966, 0.010718685574829578, -0.5325616002082825, -0.16742493212223053, 0.22734737396240234, -0.5810918211936951, 0.26641538739204407, -0.5896836519241333, -0.46126413345336914, -0.5597580075263977, 0.3667351305484772, 0.0030722657684236765, -0.11853725463151932, 0.561269223690033, 0.43253007531166077, -0.2638280987739563, -0.41427159309387207, -0.07274340093135834, 0.19672580063343048, -0.1707388311624527, -0.7246227264404297, 0.1411794126033783, 0.19547072052955627, 0.5383710265159607, 0.7669165730476379, 0.5882658362388611, 0.4249609410762787, -0.041358549147844315, -0.5155918002128601, -0.42091041803359985, 0.2950242757797241, -0.25747060775756836, 0.3185495436191559, 0.5238432288169861, -0.4642009437084198, 0.4649617075920105, 0.32880666851997375, 0.019549595192074776, -0.2945961654186249, 0.3042598068714142, 0.3451864421367645, 0.27865639328956604, 0.3720375597476959, 0.7385707497596741, -0.2669084370136261, 0.5607349276542664, -0.006875470746308565, 0.6128446459770203, 0.3443002700805664, 0.03652101382613182, -0.39223384857177734, -0.4238114356994629, -0.40552976727485657, -0.5333787798881531, 0.09973478317260742, 0.01963302493095398, 0.3045451045036316, 0.43481579422950745, -0.1930975466966629, 0.3815608620643616, -0.2771306037902832, -0.26744580268859863, 0.19298779964447021, -0.12846572697162628, 0.5600955486297607, 0.2228279858827591, 0.4050714671611786, -0.26906830072402954, 0.02297675423324108, -0.3653283715248108, -0.8566353917121887, -0.5987561345100403, -0.40798115730285645, 0.15654513239860535, 0.4210743010044098, -0.7184833288192749, 0.21932551264762878, 0.32856374979019165, 0.4630568325519562, 0.648784875869751, 0.25258392095565796, 0.40968361496925354, 0.12632626295089722, 0.2868424355983734, -0.5103302597999573, 0.7254274487495422, 0.694930374622345, 0.3405676484107971, 0.3967151343822479, -0.4216322898864746, -0.36569446325302124, -0.5285165905952454, -0.5692383050918579, -0.20141851902008057, 0.2521288990974426, -0.5562397837638855, 0.5075708031654358, 0.6444225907325745, 0.07355429977178574, 0.17420047521591187, -0.16503597795963287, -0.0870361179113388, -0.46532320976257324, -0.12588843703269958, -0.5232750177383423, 0.045765601098537445, -0.714606523513794, -0.4408111274242401, -0.5927591919898987, 0.3396890163421631, 0.481612890958786, -0.11677280068397522, -0.3770085573196411, -0.10693299025297165, -0.5202540159225464, -0.5196739435195923, 0.45054033398628235, -0.6887758374214172, -0.41131263971328735, 0.7344217300415039, 0.4636247754096985, 0.250286728143692, -0.6295482516288757, -0.10047604143619537, -0.058269597589969635, -0.3734455406665802, 0.2608698010444641, 0.024514997377991676, -0.009553163312375546, 0.18865838646888733, -0.44703546166419983, -0.16076181828975677, 0.48688650131225586, 0.0841163843870163, 0.48232313990592957, -0.485291987657547, -0.26201143860816956, -0.40381908416748047, -0.37516549229621887, 0.262683242559433, -0.6174710988998413, -0.6587551832199097, -0.17368575930595398, -0.34398239850997925, 0.39919424057006836, 0.6468320488929749, -0.5869615077972412, -0.01023288257420063, -0.5072477459907532, 0.6994596719741821, 0.04244399070739746, -0.5676990151405334, -0.4790193736553192, -0.4961501359939575, 0.26498663425445557, -0.46972736716270447, -0.4134872257709503, 0.32715705037117004, -0.2464986890554428, -0.5548902153968811, 0.31943389773368835, -0.6062191724777222, -0.5832799673080444, 0.013906331732869148, 0.2690982520580292, -0.36358797550201416, -0.8214584589004517, -0.2400292456150055, -0.700184166431427, -0.5030954480171204, -0.4183884859085083, -0.1494324952363968, 0.7464321255683899, -0.2253466546535492, -0.4534856379032135, -0.3361220955848694, 0.3424653112888336, -0.6345810890197754, -0.6513336896896362, -0.10993358492851257, -0.20471279323101044, -0.3895453214645386, -0.608538806438446, -0.1791819930076599, -0.273524671792984, 0.4238005578517914, -0.6386134028434753, -0.36460989713668823, -0.3601135313510895, -0.769605815410614, -0.5484959483146667, 0.08798523992300034, -0.14874416589736938, -0.577807605266571, -0.2538100779056549, -0.1541745662689209, -0.7656817436218262, -0.2743908762931824, -0.6245735287666321, 0.3318224847316742, -0.30082806944847107, -0.7001048922538757, -0.6572085618972778, -0.7324033379554749, -0.3618626594543457, 0.15461719036102295, -0.15223759412765503, 0.024341080337762833, -0.5842931270599365, -0.39512673020362854, 0.2374177873134613, 0.5555980801582336, 0.6850805878639221, -0.012420304119586945, -0.2991456389427185, -0.540973961353302, -0.22144225239753723, -0.496664434671402, 0.4945831298828125, -0.4008369743824005, -0.4588823914527893, 0.10027111321687698, -0.4973783791065216, 0.33053791522979736, -0.01058887131512165, 0.13731026649475098, -0.34382471442222595, -0.15560342371463776, -0.31767016649246216, -0.585451066493988, -0.45459434390068054, -0.3613317310810089, -0.6823984980583191, -0.5530523657798767, 0.5082824230194092, 0.5501394867897034, -0.5591782331466675, -0.7336950302124023, -0.6950026154518127, -0.04783869907259941, 0.33196142315864563, 0.3808307647705078, -0.06519825011491776, 0.5726851224899292, -0.59136962890625, -0.29172101616859436, 0.5037828087806702, 0.5823440551757812, -0.23100939393043518, -0.3890066146850586, 0.515868604183197, -0.6807846426963806, -0.7886450886726379, -0.15266914665699005, -0.20053787529468536, -0.11939417570829391, -0.5633735656738281, -0.560779869556427, 0.05455989018082619, 0.2594132721424103, 0.34918543696403503, -0.7038425207138062, 0.7002186179161072, -0.09934251010417938, -0.011483416892588139, -0.20756594836711884, -0.7035823464393616, 0.256962388753891, 0.456928014755249, -0.3276551365852356, -0.6201647520065308, 0.6676984429359436, -0.38754531741142273, -0.7043589353561401, -0.719494104385376, -0.6521080732345581, -0.24150139093399048, -0.62320476770401, -0.47882676124572754, -0.5142049193382263, -0.4624757468700409, -0.5367820262908936, 0.3835737109184265, -0.5441399812698364, 0.2692759335041046, -0.22211457788944244, -0.40657007694244385, -0.7206671833992004, -0.5405004024505615, -0.05611783266067505, 0.01943608932197094, -0.18850643932819366, 0.5219742059707642, 0.25960466265678406, -0.37205252051353455, 0.061047252267599106, -0.5378568172454834, -0.28446221351623535, 0.1316082775592804, -0.31205639243125916, -0.5667837262153625, 0.27888521552085876, 0.2635762393474579, 0.4772111773490906, -0.5132327675819397, -0.4716850817203522, -0.18603581190109253, 0.5260041356086731, -0.4323232173919678, -0.5306084752082825, 0.35524213314056396, 0.278247594833374, -0.184890478849411, -0.5362185835838318, 0.29576417803764343, 0.19733983278274536, 0.2680838108062744, -0.37097135186195374, -0.589475154876709, 0.624778687953949, 0.07715923339128494, -0.0729372650384903, -0.48928332328796387, -0.33289000391960144, -0.7462704181671143, 0.6887627243995667, -0.0035033547319471836, -0.4534253776073456, -0.4624730348587036, 0.7780828475952148, -0.5136785507202148, 0.05955120548605919, 0.27981534600257874, -0.6938412189483643, 0.19938892126083374, -0.686761736869812, 0.2775288224220276, 0.7318149209022522, -0.10939410328865051, 0.6377414464950562, -0.7604113221168518, 0.5849488377571106, -0.3773985803127289, -0.4542565941810608, -0.5707996487617493, 0.24275429546833038, -0.642304003238678, -0.09389274567365646, 0.32754093408584595, 0.24902066588401794, -0.4431362450122833, -0.6262539625167847, 0.42224380373954773, -0.729247510433197, -0.6028188467025757, -0.6204429268836975, 0.47034725546836853, -0.537356972694397, -0.656028687953949, -0.6277582049369812, -0.5804304480552673, -0.3984982371330261, -0.06419696658849716, -0.47492286562919617, 0.48072004318237305, 0.44633862376213074, -0.08268003910779953, -0.5692434310913086, -0.07214667648077011, 0.5670101642608643, -0.44932660460472107, 0.5339034199714661, 0.8472002148628235, -0.1435481309890747, 0.46790045499801636, 0.6936473250389099, 0.35799291729927063, 0.15304596722126007, -0.39898496866226196, -0.04454826936125755, -0.02787814289331436, 0.03209918364882469, 0.16325397789478302, -0.2662191390991211, 0.6778386831283569, 0.6237263083457947, 0.15579870343208313, -0.685229480266571, 0.05610392987728119, -0.6445123553276062, -0.33649444580078125, -0.7070712447166443, 0.02475324086844921, -0.23845402896404266, -0.5258404016494751, -0.0005059806280769408, -0.429503470659256, -0.5221001505851746, -0.1610497385263443, 0.4408447742462158, -0.6117461323738098, 0.5552412271499634, 0.459778368473053, 0.5628335475921631, 0.2691061794757843, 0.5859301686286926, -0.4518126845359802, -0.38232776522636414, 0.5952345132827759, 0.16735248267650604, 0.2637748718261719, -0.030373593792319298, 0.523288905620575, 0.24292506277561188, 0.47668537497520447, 0.5115863084793091, 0.12231394648551941, 0.6319272518157959, 0.3617917597293854, -0.2293747365474701, -0.5011845827102661, -0.43581029772758484, -0.395818829536438, 0.26064419746398926, -0.647605299949646, 0.11247720569372177, -0.5507181882858276, -0.24980275332927704, -0.4105994999408722, 0.28969264030456543, -0.3809833228588104, 0.4753390848636627, 0.39215341210365295, -0.45771756768226624, -0.5510715842247009, -0.4303557574748993, -0.5889479517936707, -0.29676586389541626, -0.26137053966522217, 0.1741911917924881, 0.1360776573419571, -0.3058502972126007, 0.6059955358505249, 0.10927494615316391, -0.5815812945365906, 0.14987872540950775, -0.43921932578086853, 0.31905171275138855, 0.2555549740791321, 0.07113799452781677, -0.4226931035518646, -0.12912198901176453, 0.07211603224277496, 0.22404228150844574, -0.5032172203063965, 0.5310882925987244, 0.3628979027271271, 0.1156783476471901, 0.031034858897328377, 0.11985837668180466, -0.39324429631233215, -0.6865202784538269, -0.22966359555721283, 0.25770747661590576, -0.6182728409767151, -0.19595231115818024, -0.2843152582645416, -0.22082681953907013, -0.1620541363954544, -0.3023574948310852, -0.011467279866337776, -0.8636762499809265, 0.26108285784721375, -0.6824049353599548, -0.06383880972862244, -0.06158521771430969, -0.7369095087051392, 0.49159762263298035, 0.6712909936904907, -0.15804500877857208, -0.35210126638412476, -0.8192126750946045, 0.29692763090133667, -0.11903755366802216, -0.3217245638370514, -0.5191358327865601, -0.007238997146487236, 0.3880283832550049, -0.5813634395599365, -0.6245712041854858, -0.5145936608314514, -0.271095871925354, -0.25339415669441223, -0.01806720905005932, 0.5272412300109863, -0.6666027307510376, -0.5282633304595947, 0.11498776078224182, 0.36457785964012146, 0.26113462448120117, 0.13178446888923645, 0.5328561663627625, 0.3381351828575134, -0.6375696659088135, -0.4534653425216675, -0.36527955532073975, 0.33308151364326477, -0.04903535172343254, -0.7754316329956055, 0.24965915083885193, -0.248512864112854, -0.007435132283717394, 0.17481589317321777, 0.3700137138366699, -0.5678644180297852, 0.4238337576389313, -0.30384504795074463, 0.6090825796127319, -0.41374289989471436, 0.7034913301467896, -0.6161847114562988, 0.5524569153785706, -0.22716788947582245, 0.08900872617959976, 0.21420331299304962, -0.009558375924825668, 0.5919854044914246, -0.19595518708229065, 0.6396065354347229, 0.5585360527038574, -0.41489291191101074, 0.4288468062877655, 0.09420151263475418, 0.42764782905578613, -0.47434017062187195, 0.17358435690402985, -0.16570328176021576, -0.3189476430416107, -0.17270125448703766, -0.44805628061294556, -0.5494256615638733, -0.03418654948472977, 0.061260562390089035, -0.481078565120697, 0.13202375173568726, 0.47358670830726624, -0.20506110787391663, -0.6501604318618774, -0.44201770424842834, -0.3923819661140442, -0.19760635495185852, -0.44811156392097473, 0.09820809215307236, 0.03728824853897095, -0.7145133018493652, -0.5290263295173645, -0.5191664695739746, -0.3274380564689636, 0.39912277460098267, -0.5392347574234009, -0.2790886461734772, 0.09940197318792343, -0.5079046487808228, -0.38346919417381287, 0.16644345223903656, -0.09131757915019989, 0.7315158247947693, 0.5696780681610107, 0.6194233298301697, -0.014112092554569244, 0.4046708643436432, -0.012768919579684734, -0.1670362800359726, -0.632283091545105, 0.07866531610488892, -0.24771791696548462, -0.3370532691478729, -0.5619491934776306, -0.6181229948997498, 0.47625264525413513, -0.6058489084243774, -0.3595215082168579, -0.49658647179603577, -0.27743709087371826, -0.2027348428964615, -0.7105842232704163, -0.31251874566078186, 0.13884004950523376, -0.6025273203849792, -0.11662396788597107, -0.5875725150108337, -0.478772908449173, -0.6158220767974854, 0.1238207221031189, 0.20042267441749573, -0.623636782169342, -0.5675128102302551, -0.04229658842086792, -0.2620445191860199, -0.5322008728981018, -0.05468818172812462, 0.07730834931135178, -0.4295770227909088, -0.091121144592762, -0.4557347297668457, 0.15138497948646545, 0.4484331011772156, -0.3871416747570038, 0.5869455337524414, 0.379233717918396, -0.2579815983772278, 0.3253285884857178, -0.4487229585647583, 0.5883383750915527, -0.6414071917533875, -0.5431294441223145, -0.6415297389030457, -0.02935093082487583, -0.6350281238555908, -0.697875440120697, 0.5283334851264954, -0.25558120012283325, -0.7244755029678345, -0.6329337954521179, -0.4901425242424011, -0.4354785680770874, 0.6119356751441956, -0.21664412319660187, 0.6208070516586304, 0.3700792193412781, -0.6744288206100464, 0.21024344861507416, -0.5648519992828369, 0.1662035584449768, -0.1542489379644394, 0.16096395254135132, -0.5257662534713745, 0.07945016026496887, 0.4860515296459198, -0.5871611833572388, 0.6254086494445801, -0.15892769396305084, 0.032931625843048096, 0.5793966054916382, 0.3113999366760254, 0.5543197989463806, 0.44485294818878174, 0.5883687138557434, 0.37372779846191406, -0.5974932312965393, 0.14525838196277618, 0.17507687211036682, -0.46809855103492737, 0.21479490399360657, 0.07794740796089172, 0.06525153666734695, -0.6208236217498779, -0.7340577840805054, 0.04444010183215141, 0.47177112102508545, 0.4230797588825226, 0.665440559387207, -0.27866697311401367, -0.18711361289024353, -0.5071295499801636, -0.004749285522848368, -0.6332403421401978, -0.23191308975219727, -0.25010645389556885, -0.5274392366409302, -0.039630819112062454, -0.3119347095489502, -0.25462573766708374, 0.01535142119973898, -0.374667763710022, -0.5218985676765442, 0.11941218376159668, 0.5797020792961121, -0.5637480616569519, 0.04199723154306412, -0.07697658985853195, 0.0029503805562853813, 0.4805431663990021, 0.1320355385541916, -0.5000978708267212, 0.5320610404014587, -0.389360249042511, 0.4322813153266907, 0.3056078553199768, -0.13096264004707336, -0.7123473286628723, 0.13856084644794464, -0.25978541374206543, -0.35231658816337585, -0.40376344323158264, 0.4027923047542572, -0.36675265431404114, -0.20208318531513214, -0.33930155634880066, 0.5169382095336914, 0.11899277567863464, -0.10016977787017822, -0.7301923036575317, -0.3916282653808594, -0.15318377315998077, 0.4791305661201477, -0.34390297532081604, -0.2606210708618164, -0.10102686285972595, -0.4120607376098633, 0.26849016547203064, -0.41900694370269775, 0.24909116327762604, 0.3344268202781677, 0.4263458847999573, -0.11330438405275345, 0.22505736351013184, -0.3653572201728821, 0.26248669624328613, -0.4247792661190033, -0.1440659910440445, 0.17780868709087372, 0.3850758969783783, 0.3490075170993805, 0.24526351690292358, 0.7050380110740662, 0.28106313943862915, 0.7016043663024902, 0.4106208086013794, 0.5418403744697571, 0.5445799231529236, 0.39107030630111694, 0.5286247730255127, -0.4934815466403961, -0.26583561301231384, 0.5668097138404846, -0.23021237552165985, -0.4571838974952698, 0.027242496609687805, -0.3035876750946045, -0.29882940649986267, 0.3525872826576233, 0.4323517382144928, -0.3281095027923584, -0.224313884973526, -0.27176427841186523, 0.759028971195221, -0.6397536993026733, 0.4617820978164673, 0.6347668766975403, 0.4695875346660614, 0.08945807814598083, -0.2338983118534088, -0.3282691240310669, -0.6788934469223022, -0.6060000658035278, 0.1665848046541214, -0.21197296679019928, 0.08668672293424606, -0.31808027625083923, -0.14384807646274567, -0.6347326636314392, 0.3917636573314667, 0.830100417137146, -0.43773841857910156, 0.33159929513931274, -0.5560799241065979, 0.3379385471343994, -0.16397033631801605, -0.16507020592689514, -0.35667338967323303, -0.6921918392181396, 0.31097859144210815, 0.7141655087471008, 0.3476892113685608, -0.2869183421134949, 0.06448047608137131, 0.8504577279090881, -0.549285888671875, -0.6047928929328918, -0.10651738941669464, -0.04961520433425903, -0.29278188943862915, 0.6044706702232361, -0.13276232779026031, 0.32347363233566284, 0.21732130646705627, -0.10540689527988434, -0.47397786378860474, -0.5971981287002563, -0.5722547769546509, -0.36740633845329285, -0.7136470079421997, -0.17065027356147766, -0.3272412121295929, 0.23759609460830688, -0.6062815189361572, 0.4219088852405548, 0.33594635128974915, 0.2387171983718872, -0.1652408242225647, 0.3554587662220001, 0.5868051648139954, -0.7023400068283081, -0.6986368894577026, -0.3653576374053955, -0.5377687215805054, -0.4643087089061737, -0.6732020974159241, -0.4357529580593109, -0.35015377402305603, -0.48854461312294006, -0.1961834877729416, -0.6461349129676819, -0.27746787667274475, -0.022800365462899208, -0.4428693652153015, -0.5635743737220764, -0.6210054159164429, 0.7563706636428833, 0.30991148948669434, -0.09741032868623734, 0.5364804267883301, -0.25413864850997925, -0.38379859924316406, 0.006381059065461159, -0.5720734596252441, -0.4656854569911957, -0.6237816214561462, -0.4163556694984436, -0.016163069754838943, 0.2817642390727997, -0.5109310150146484, 0.11772643029689789, -0.7565267086029053, -0.4848078787326813, 0.32485899329185486, 0.1003832221031189, -0.6380459070205688, -0.6428195834159851, -0.7113083600997925, 0.2876560389995575, -0.4665759205818176, 0.03346814960241318, 0.310247540473938, 0.02984527312219143, -0.5451006889343262, 0.14201438426971436, -0.2694431245326996, 0.15553902089595795, -0.3439696431159973, 0.45946088433265686, -0.4070586562156677, 0.34982508420944214, -0.31858131289482117, 0.2987680733203888, -0.15585628151893616, 0.49351492524147034, 0.44654542207717896, 0.018753573298454285, -0.6065037846565247, -0.5149660706520081, 0.3111262321472168, 0.334919810295105, 0.026088913902640343, -0.5572497844696045, -0.7413631081581116, -0.6069009304046631, -0.6286091208457947, -0.38179823756217957, -0.3942137360572815, -0.4916159510612488, -0.771187424659729, -0.5560365319252014, -0.19312866032123566, -0.49376243352890015, -0.6912095546722412, 0.24056793749332428, 0.36536455154418945, -0.047290556132793427, -0.3009471297264099, -0.28295260667800903, 0.32890576124191284, -0.015965478494763374, -0.5883627533912659, -0.03117239847779274, -0.030863167718052864, 0.2926599681377411, -0.32774925231933594, -0.19120599329471588, 0.26667720079421997, -0.1715613305568695, 0.039296913892030716, -0.13056017458438873, -0.1983613222837448, -0.12068667262792587, -0.6635758280754089, -0.3194524347782135, 0.2929569482803345, -0.2568000555038452, 0.3060741722583771, 0.2360123097896576, -0.6498490571975708, -0.5614007711410522, 0.37075281143188477, 0.015410313382744789, -0.20352503657341003, -0.1997734159231186, 0.5245707035064697, -0.6561837792396545, -0.1741308718919754, -0.7500045895576477, -0.07084769010543823, 0.2869904339313507, -0.6046092510223389, 0.26475638151168823, -0.05744041129946709, -0.5258893370628357, 0.2952253520488739, 0.5577899813652039, 0.5460146069526672, -0.7200655937194824, -0.562200665473938, 0.6040340065956116, 0.44302234053611755, 0.5723274946212769, 0.21376872062683105, -0.041665516793727875, 0.5722055435180664, -0.10938134044408798, -0.3137916922569275, -0.431907594203949, -0.6134809851646423, -0.04937982186675072, 0.6732624173164368, -0.3371775150299072, -0.32998955249786377, 0.4866321384906769, -0.6761292815208435, 0.062101613730192184, 0.2702883780002594, 0.482931524515152, 0.23127895593643188, 0.47090351581573486, -0.46627262234687805, -0.324738472700119, -0.24261735379695892, -0.6500386595726013, 0.2474018931388855, -0.39096173644065857, -0.4173343777656555, 0.08836393058300018, -0.5159412026405334, -0.10908705741167068, -0.4096234142780304, -0.5978146195411682, -0.025706158950924873, 0.3019266426563263, 0.08200473338365555, 0.4995730221271515, 0.718239426612854, -0.5154218077659607, -0.4250534176826477, 0.3717505931854248, -0.183322012424469, -0.6315326690673828, 0.4641794264316559, -0.34752488136291504, -0.5778481364250183, -0.16860227286815643, 0.5627343058586121, 0.4804205298423767, -0.46376946568489075, 0.5920556783676147, 0.4774639904499054, 0.3523462414741516, 0.11652983725070953, -0.5615949630737305, -0.25947991013526917, 0.3652675747871399, 0.6466349363327026, 0.41779640316963196, 0.26870062947273254, -0.010452903807163239, 0.45082589983940125, 0.4065879285335541, -0.2774020731449127, -0.3382648527622223, 0.08147993683815002, -0.09729356318712234, -0.36203014850616455, -0.6623706817626953, 0.41665390133857727, 0.2867746651172638, 0.44730904698371887, -0.6367011070251465, 0.03374115005135536, 0.2884121537208557, 0.17469048500061035, -0.3844389319419861, -0.40151527523994446, -0.7378181219100952, -0.08294346183538437, 0.44080477952957153, -0.29042181372642517, 0.09342420846223831, 0.49410828948020935, -0.3626420497894287, 0.46954184770584106, -0.48512357473373413, -0.5330836176872253, 0.23468433320522308, 0.26812347769737244, -0.5990762710571289, -0.44731605052948, -0.3512624502182007, -0.6512836813926697, -0.33421602845191956, -0.5769374370574951, 0.32022273540496826, -0.3685504198074341, 0.3387031555175781, -0.36738333106040955, -0.277176171541214, 0.5751671195030212, 0.3691810667514801, 0.10756680369377136, 0.4225802421569824, -0.24473628401756287, 0.0835784301161766, -0.06790217757225037, 0.22093439102172852, -0.3378191590309143, 0.5322640538215637, -0.4808054566383362, -0.518372118473053, -0.28966137766838074, 0.2166469544172287, 0.3102313280105591, 0.3089129328727722, 0.677704930305481, 0.2466985434293747, 0.07357551157474518, -0.5044953227043152, -0.12950779497623444, 0.2511359453201294, 0.40802130103111267, -0.3471044600009918, -0.49236658215522766, 0.3380889892578125, 0.4782777726650238, 0.18244078755378723, -0.18115642666816711, 0.19562722742557526, -0.4634472131729126, 0.2637519836425781, 0.2628135681152344, 0.5769093632698059, 0.6845017075538635, -0.25739148259162903, 0.34413936734199524, 0.4530155658721924, 0.350241482257843, 0.44993337988853455, -0.6616685390472412, 0.2652567923069, -0.046663008630275726, -0.4604727625846863, -0.2137729376554489, -0.5268360376358032, -0.22079811990261078, -0.5517670512199402, -0.17801788449287415, 0.18949152529239655, -0.48821988701820374, -0.4512747526168823, -0.5331611633300781, -0.5471897125244141, -0.5608969926834106, -0.6524330377578735, 0.07268515974283218, 0.08428438752889633, -0.2826847732067108, 0.314182311296463, 0.24656429886817932, 0.04246005415916443, -0.017542267218232155, 0.15937305986881256, -0.3087806701660156, -0.5636327862739563, -0.14176271855831146, -0.7123616933822632, -0.11969522386789322, -0.38428932428359985, 0.3294166028499603, -0.06742574274539948, -0.5813111066818237, 0.22054962813854218, 0.04615011066198349, -0.5301505327224731, 0.06247910484671593, -0.3582611680030823, -0.6191084980964661, -0.14583291113376617, -0.8661112785339355, 0.20560690760612488, -0.13574537634849548, -0.37949836254119873, -0.16815152764320374, -0.478445440530777, 0.25905558466911316, -0.7001503109931946, -0.5810754895210266, -0.6588579416275024, -0.4841201603412628, -0.3844464123249054, -0.17887547612190247, 0.11163259297609329, -0.6438394784927368, -0.21011950075626373, -0.33966538310050964, 0.5554594397544861, -0.15512436628341675, -0.3868550956249237, -0.5407129526138306, -0.2905751168727875, 0.4414593577384949, -0.5642087459564209, -0.34634929895401, -0.44102057814598083, -0.3860861361026764, -0.1891464740037918, -0.31835925579071045, -0.1785528063774109, 0.16575054824352264, -0.724446713924408, -0.06580328941345215, 0.4905976951122284, -0.5615292191505432, -0.1287361979484558, 0.3195250630378723, -0.6698395609855652, -0.4358055889606476, 0.07792127132415771, -0.041279036551713943, 0.3888755440711975, 0.5723015069961548, 0.778609573841095, 0.6442118883132935, -0.32231011986732483, -0.4908433258533478, 0.5153141617774963, 0.3335357904434204, 0.12614509463310242, -0.6491718292236328, 0.15016643702983856, 0.04117773845791817, 0.5839588642120361, 0.2248910814523697, -0.3362664580345154, -0.030963027849793434, 0.24902282655239105, 0.09574871510267258, 0.46525606513023376, -0.6164177656173706, -0.2749478816986084, -0.07441791146993637, -0.20339296758174896, -0.31301867961883545, 0.3738665282726288, 0.3769668638706207, -0.361934632062912, -0.6894899606704712, -0.6181939840316772, 0.12200400978326797, -0.06289650499820709, 0.43106958270072937, -0.5253480076789856, 0.46854329109191895, 0.18822155892848969, -0.7920128703117371, -0.6024349927902222, -0.5871164798736572, -0.16167019307613373, 0.29726946353912354, -0.5119604468345642, 0.2973790168762207, 0.03941475227475166, -0.3079109191894531, -0.15521547198295593, 0.6448228359222412, -0.6473928093910217, -0.4236486554145813, -0.29959431290626526, -0.3193291425704956, 0.21356791257858276, -0.027713879942893982, -0.5887858271598816, 0.6135324239730835, -0.2947905957698822, 0.1428811252117157, 0.0032986165024340153, 0.5321332216262817, -0.21116510033607483, -0.049332261085510254, 0.3318183720111847, 0.32068637013435364, 0.3492421805858612, 0.14350244402885437, 0.5429175496101379, 0.15464715659618378, 0.10298743098974228, -0.2335883229970932, -0.5837500691413879, 0.2671549916267395, 0.10590462386608124, 0.7330414056777954, -0.040186770260334015, -0.39027896523475647, -0.31127360463142395, 0.6454407572746277, -0.09395085275173187, -0.06553898751735687, 0.6468695998191833, -0.48227351903915405, 0.7424931526184082, 0.34789156913757324, 0.07194017618894577, 0.07354274392127991, -0.19726967811584473, 0.22616825997829437, -0.6652309894561768, 0.6289913058280945, -0.015388159081339836, 0.13643677532672882, -0.2357054352760315, 0.22962692379951477, 0.6696600317955017, 0.5221121311187744, -0.22236095368862152, 0.545616865158081, -0.3788493275642395, 0.6982444524765015, 0.1711563915014267, 0.18029925227165222, -0.22789743542671204, -0.09283355623483658, 0.17233023047447205, -0.6002663969993591, -0.42151540517807007, 0.756160318851471, 0.3067518174648285, 0.33906030654907227, 0.1208808645606041, 0.0653456300497055, 0.20751212537288666, 0.04257482290267944, 0.0976831391453743, 0.3664409816265106, -0.002511598402634263, 0.5501555800437927, -0.04461641237139702, -0.43288668990135193, -0.12100113928318024, -0.04751084744930267, 0.529067873954773, -0.06922651082277298, 0.4030105173587799, -0.5867635607719421, 0.05189738795161247, -0.45233502984046936, 0.35272443294525146, -0.09048277139663696, 0.2738317549228668, -0.7455219030380249, 0.004815691616386175, -0.516307532787323, -0.632933497428894, -0.13515882194042206, -0.22760437428951263, -0.12891878187656403, -0.1952246129512787, -0.7749011516571045, -0.11558191478252411, -0.04755915701389313, -0.036288585513830185, -0.49022531509399414, -0.3831646740436554, -0.6059983968734741, -0.4591664671897888, -0.07013562321662903, 0.18705038726329803, 0.22606411576271057, -0.19859768450260162, -0.6095234751701355, 0.21727141737937927, 0.10338893532752991, 0.3678809702396393, 0.6277167201042175, -0.25757914781570435, 0.19511698186397552, 0.042136795818805695, -0.656270444393158, -0.29818207025527954, -0.47780877351760864, 0.15399697422981262, 0.3820456862449646, -0.6572784185409546, -0.7833206057548523, -0.18697305023670197, -0.5518712401390076, 0.05024534463882446, -0.5448550581932068, -0.5080028176307678, -0.3924870789051056, 0.530746340751648, -0.5742613673210144, -0.3907625675201416, 0.25746047496795654, -0.7358798384666443, 0.43355584144592285, -0.12586161494255066, 0.5988576412200928, 0.4026280343532562, 0.05802656710147858, -0.2182297557592392, -0.33375927805900574, 0.02783174067735672, 0.057288654148578644, 0.03428710252046585, -0.07929735630750656, -0.37995943427085876, 0.39767757058143616, -0.0074522229842841625, -0.38527366518974304, 0.45883244276046753, 0.3213093876838684, 0.12712791562080383, -0.4663321375846863, 0.7053819298744202, -0.3711383044719696, 0.0016626811120659113, -0.5355066657066345, -0.12409409880638123, 0.3334507346153259, -0.3994278907775879, 0.1630428582429886, 0.3853628933429718, 0.34000590443611145, 0.558829128742218, -0.01305061113089323, -0.04333977401256561, 0.4830995798110962, 0.12176499515771866, -0.2880936563014984, 0.6215698719024658, -0.5641205906867981, -0.3016565442085266, -0.16086316108703613, 0.42967095971107483, 0.4960876405239105, 0.0761825367808342, 0.12942855060100555, 0.00481297355145216, 0.4192028343677521, 0.5953152179718018, 0.0540526807308197, 0.2386111468076706, 0.374034583568573, 0.22143904864788055, 0.7638057470321655, 0.43501266837120056, -0.1666690856218338, -0.099270761013031, 0.2963058650493622, 0.47756606340408325, 0.14839869737625122, -0.352728933095932, 0.21553924679756165, -0.07192336767911911, -0.5608797073364258, -0.5690690279006958, -0.16049838066101074, -0.5067443251609802, -0.19574256241321564, 0.5859423875808716, -0.7309455871582031, -0.7357389330863953, 0.34460049867630005, 0.4813120663166046, 0.29387304186820984, 0.05619383603334427, 0.04706934839487076, -0.4518454074859619, 0.37375786900520325, -0.6890753507614136, -0.6830726861953735, -0.578233003616333, -0.5770254731178284, -0.5362860560417175, -0.47256913781166077, -0.11700741946697235, -0.14280734956264496, -0.09998629987239838, -0.14353618025779724, -0.0308428592979908, -0.2318171262741089, 0.10023646056652069, -0.6790134310722351, -0.45103439688682556, -0.07461011409759521, -0.5320366621017456, -0.38818395137786865, -0.4781312346458435, -0.4522097706794739, -0.0217337217181921, 0.2575377821922302, 0.1960272341966629, 0.32847845554351807, 0.3470037877559662, 0.5342016816139221, -0.5851525068283081, -0.23952293395996094, -0.5408889055252075, -0.6320672035217285, 0.11070467531681061, 0.08091912418603897, 0.027834368869662285, -0.2825019359588623, -0.3388144373893738, -0.5743149518966675, -0.5518203973770142, -0.49626195430755615, 0.4818587899208069, -0.46323955059051514, 0.31414923071861267, -0.6741242408752441, 0.153165802359581, 0.3081096112728119, -0.437176376581192, -0.5516963601112366, -0.46780475974082947, 0.23574939370155334, -0.6148152947425842, -0.5944433212280273, -0.44508635997772217, -0.03765678405761719, -0.5366547703742981, 0.4657326340675354, -0.347454309463501, -0.6762470602989197, 0.16078642010688782, -0.09662210941314697, -0.06920110434293747, 0.1511949896812439, 0.3961629271507263, -0.22503234446048737, -0.07010947167873383, 0.006374750752002001, -0.21194593608379364, 0.6589049696922302, -0.15448476374149323, -0.30976006388664246, -0.3715744912624359, 0.3337652385234833, 0.3067728579044342, -0.18885856866836548, -0.5201910138130188, 0.4085155129432678, -0.4739729166030884, -0.08863027393817902, -0.30831024050712585, -0.18941371142864227, -0.4191032350063324, 0.5049285292625427, 0.5945243239402771, 0.43580272793769836, 0.8455691933631897, 0.26689428091049194, -0.12988953292369843, -0.07062403857707977, 0.44152477383613586, -0.09978096187114716, 0.3966315686702728, 0.5610052943229675, -0.6928210258483887, -0.6636462807655334, -0.07666679471731186, 0.10887480527162552, -0.05350868031382561, -0.8183434009552002, -0.6327568888664246, -0.7366138696670532, -0.28430670499801636, -0.3170580565929413, -0.5291738510131836, -0.26758530735969543, 0.17555354535579681, 0.6727010011672974, -0.3848712742328644, -0.12571661174297333, -0.5463188290596008, -0.20894312858581543, -0.27714481949806213, -0.2679525911808014, -0.15765735507011414, 0.40999218821525574, 0.5908454656600952, 0.576815664768219, -0.5191532969474792, 0.2725082337856293, -0.045236896723508835, -0.5958511233329773, 0.46792900562286377, -0.14832372963428497, -0.4698154628276825, -0.7388827204704285, 0.16041891276836395, 0.1463969349861145, -0.7787179350852966, -0.59862220287323, -0.6130648851394653, -0.36739543080329895, -0.034657176584005356, -0.5689955353736877, 0.4684925079345703, 0.4245455265045166, 0.6658377051353455, -0.47331780195236206, -0.6575338244438171, -0.60463547706604, -0.6090291738510132, -0.6827750205993652, -0.5746051669120789, 0.5189809203147888, 0.002587366383522749, -0.2969042658805847, 0.37188026309013367, 0.5688757300376892, -0.11295868456363678, -0.3103202283382416, -0.5286653637886047, -0.5704309344291687, -0.5594924092292786, 0.22235877811908722, 0.10830403119325638, 0.42039498686790466, -0.16300444304943085, 0.4851648211479187, -0.6324424147605896, -0.055294428020715714, -0.5308196544647217, -0.6553345918655396, -0.30646809935569763, 0.11456423252820969, 0.04219774156808853, -0.20242735743522644, -0.6431131958961487, 0.6133529543876648, -0.0647243931889534, -0.6749911308288574, 0.3063551187515259, -0.45648959279060364, 0.18980345129966736, 0.2632272243499756, -0.20885176956653595, -0.5586932301521301, 0.3078846335411072, -0.6682108640670776, -0.04736180976033211, -0.3378971517086029, 0.06961888819932938, -0.35953301191329956, -0.5517067313194275, -0.6843643188476562, 0.6479701399803162, 0.029439177364110947, -0.2913249433040619, -0.1578081101179123, -0.6202509999275208, -0.19581440091133118, -0.00594113115221262, 0.4520638883113861, 0.46236544847488403, -0.6012877225875854, -0.6817060112953186, -0.6889498829841614, -0.7424861192703247, -0.23789632320404053, -0.052579451352357864, -0.023769982159137726, -0.28012344241142273, -0.7437631487846375, 0.51241534948349, 0.35114267468452454, 0.30246254801750183, 0.5594594478607178, -0.3784606158733368, 0.30285027623176575, 0.4531371593475342, -0.11360807716846466, 0.03443647921085358, 0.046197276562452316, 0.0912950187921524, 0.16242024302482605, 0.29827412962913513, -0.47963330149650574, -0.530985951423645, -0.5435866713523865, -0.6342442631721497, -0.4302002191543579, 0.6451003551483154, -0.21146835386753082, 0.29702669382095337, 0.41286158561706543, 0.3559848964214325, 0.3540553152561188, -0.2771289348602295, -0.1774117797613144, -0.03504549711942673, -0.23738177120685577, -0.4884965717792511, 0.7242361307144165, -0.12360800802707672, -0.27418801188468933, -0.17675746977329254, 0.1323346644639969, 0.33154118061065674, -0.5938369631767273, 0.35865122079849243, -0.43629026412963867, -0.29042157530784607, -0.20279771089553833, 0.7104484438896179, 0.38393574953079224, -0.5001654028892517, -0.05419665575027466, 0.2665218114852905, 0.38924068212509155, -0.2563040852546692, 0.16225728392601013, 0.12680669128894806, -0.027370862662792206, -0.5459429621696472, -0.695280909538269, -0.2228020578622818, 0.008654482662677765, 0.10575634986162186, -0.18518339097499847, 0.672358512878418, 0.3391937017440796, -0.31641677021980286, -0.12047292292118073, -0.04991476237773895, 0.13379879295825958, -0.412428617477417, 0.7932656407356262, -0.6201346516609192, -0.30892929434776306, -0.5291020274162292, 0.10906454920768738, -0.38250356912612915, 0.2503780424594879, 0.5418607592582703, -0.18217512965202332, -0.3872893452644348, -0.23047314584255219, 0.3247312903404236, -0.526692807674408, -0.1020030528306961, -0.11148514598608017, -0.47164082527160645, -0.5267486572265625, -0.3463583290576935, 0.19031299650669098, -0.6710465550422668, -0.6489409804344177, 0.10069555789232254, -0.033696286380290985, 0.5621551871299744, 0.21732351183891296, -0.36439383029937744, -0.3662498891353607, 0.48361918330192566, -0.3979739546775818, -0.5010217428207397, -0.6613981127738953, -0.45277139544487, -0.5477322340011597, -0.03331882506608963, 0.3966189920902252, -0.42234885692596436, 0.4034738540649414, -0.5877186059951782, -0.47710591554641724, -0.7199655175209045, 0.08304687589406967, -0.5999928116798401, 0.25122711062431335, -0.407042920589447, -0.15258947014808655, 0.6382859349250793, -0.08820676058530807, -0.46958014369010925, 0.3340056538581848, -0.598545491695404, -0.4742303788661957, -0.038630519062280655, 0.4201355576515198, 0.123012475669384, 0.11086950451135635, -0.6078921556472778, -0.4031407833099365, -0.06086941435933113, -0.21037808060646057, -0.2428378462791443, 0.679625391960144, -0.6277633905410767, 0.22373224794864655, 0.3927727937698364, 0.2860419750213623, 0.7124945521354675, -0.5443731546401978, -0.3863429129123688, -0.3412128686904907, -0.2391129583120346, -0.20801351964473724, 0.07688379287719727, 0.4763278365135193, -0.2520470917224884, -0.33047834038734436, -0.5063568353652954, 0.6107215285301208, -0.6178665161132812, -0.025981074199080467, -0.5733431577682495, -0.025904417037963867, -0.2921809256076813, 0.10761721432209015, -0.04256778582930565, 0.25110486149787903, -0.35342827439308167, -0.02659921906888485, -0.5877906084060669, 0.1781008541584015, -0.1163109615445137, -0.1542321890592575, -0.5411677360534668, -0.1903817057609558, -0.1020272895693779, -0.503685474395752, -0.6474980115890503, -0.30130448937416077, 0.03939313441514969, 0.15710163116455078, 0.08065225929021835, 0.40256941318511963, -0.05243979021906853, -0.384746789932251, -0.42078089714050293, -0.4604681134223938, -0.1289759874343872, -0.6432503461837769, 0.057204920798540115, -0.5329737067222595, -0.434065580368042, -0.8267984390258789, -0.6001561284065247, -0.549748420715332, -0.48409348726272583, 0.25708433985710144, 0.16794675588607788, -0.3660338521003723, 0.6636999249458313, -0.6918692588806152, -0.003158910432830453, 0.10631859302520752, -0.1584187150001526, 0.6485564112663269, -0.6890081167221069, 0.13844236731529236, 0.15247926115989685, 0.4247179627418518, -0.09634102135896683, 0.11109886318445206, -0.5022305846214294, -0.49401167035102844, -0.38264718651771545, -0.6145671606063843, 0.18294069170951843, 0.257879376411438, 0.8346521258354187, -0.14674118161201477, 0.5788370966911316, 0.08499863743782043, -0.5871393084526062, -0.43863242864608765, 0.3539388179779053, 0.4513803720474243, -0.2863413989543915, -0.4346221685409546, 0.16951805353164673, 0.26544395089149475, -0.07618944346904755, 0.29822027683258057, 0.09357985109090805, 0.18924906849861145, 0.460970938205719, 0.446067750453949, -0.4405720829963684, -0.044884875416755676, -0.5490202903747559, -0.3250121772289276, -0.2303287237882614, 0.43487319350242615, -0.14641430974006653, -0.14493076503276825, -0.3607441484928131, 0.5533519387245178, -0.40431296825408936, 0.4314833879470825, -0.043481774628162384, -0.12386304140090942, -0.5889144539833069, 0.6755271553993225, -0.5682942271232605, 0.23491810262203217, -0.42134907841682434, -0.3488488495349884, 0.7770240902900696, 0.7423954606056213, -0.30071866512298584, -0.004435430280864239, -0.27125245332717896, 0.588776171207428, -0.3408019542694092, 0.013623340986669064, -0.37504565715789795, 0.5013872385025024, 0.5231634378433228, 0.29800134897232056, -0.5910450220108032, -0.291195273399353, 0.051045987755060196, 0.4853799045085907, -0.5596202611923218, 0.21848233044147491, -0.5894497036933899, -0.7205599546432495, -0.2143983393907547, 0.15480665862560272, -0.14889144897460938, -0.5433415770530701, -0.0692409798502922, -0.32353389263153076, 0.30297237634658813, 0.59510737657547, -0.029141975566744804, -0.5572120547294617, 0.16542677581310272, -0.5250716805458069, 0.0630083978176117, 0.5665732622146606, -0.25594136118888855, 0.6004419922828674, 0.33965110778808594, -0.34788230061531067, -0.6683943867683411, -0.6261089444160461, 0.41941699385643005, 0.3009238541126251, 0.31639254093170166, -0.25796693563461304, -0.17400816082954407, -0.4733788073062897, 0.45989668369293213, -0.208522766828537, -0.08201689273118973, 0.3830702602863312, -0.3694217801094055, 0.79277104139328, 0.2760530114173889, 0.22547297179698944, 0.17342503368854523, -0.5894704461097717, -0.28874465823173523, 0.6986761093139648, 0.3381255269050598, 0.09335778653621674, -0.24227280914783478, -0.5132707357406616, -0.6302409172058105, 0.23612631857395172, 0.37052246928215027, -0.13827826082706451, -0.015788931399583817, 0.3918425440788269, -0.4940245747566223, 0.4618023633956909, 0.5391293168067932, -0.23522162437438965, -0.5492340326309204, -0.2785928547382355, -0.2690814137458801, -0.4887062609195709, -0.49922168254852295, 0.17997139692306519, 0.012320875190198421, -0.16040928661823273, -0.07767675817012787, -0.024529339745640755, -0.049491576850414276, -0.4779660999774933, -0.14811918139457703, -0.46654847264289856, -0.05881122872233391, -0.3635904788970947, 0.2756703197956085, 0.2870625853538513, 0.11729801446199417, -0.025788715109229088, 0.10220704227685928, 0.32124069333076477, 0.5388994812965393, -0.07410190254449844, 0.028913162648677826, 0.22372765839099884, -0.27421942353248596, -0.5133427381515503, -0.016786549240350723, 0.11508366465568542, -0.6188859939575195, 0.2578492760658264, 0.29812243580818176, 0.5765291452407837, -0.6529125571250916, 0.6619920134544373, 0.3462222218513489, -0.3069491684436798, 0.748835027217865, 0.36952391266822815, -0.10145940631628036, 0.16788949072360992, 0.1432640701532364, 0.4624146819114685, 0.2899835705757141, 0.06947390735149384, 0.16182675957679749, -0.8145200610160828, -0.5443068146705627, 0.28629782795906067, 0.040005460381507874, -0.16967090964317322, 0.5030521750450134, -0.18940576910972595, 0.4123119115829468, 0.6006467938423157, 0.07051689922809601, -0.5071714520454407, -0.629024088382721, -0.39752283692359924, 0.32275906205177307, -0.1588726043701172, -0.17933659255504608, -0.7775179147720337, 0.015602870844304562, 0.2787703573703766, 0.06396599858999252, -0.568782389163971, 0.6328392028808594, 0.2680915296077728, 0.21754714846611023, -0.10841349512338638, -0.40770167112350464, -0.35473132133483887, -0.6111646890640259, 0.23460958898067474, 0.32094475626945496, -0.7325209379196167, -0.4802423119544983, 0.5304185152053833, 0.29958465695381165, -0.35485878586769104, -0.18783390522003174, 0.2294069230556488, 0.10305913537740707, -0.23768579959869385, 0.005162352696061134, -0.3569236397743225, -0.29870113730430603, -0.26643604040145874, 0.15070834755897522, 0.4382055401802063, -0.5442906022071838, -0.5613549947738647, 0.10702651739120483, 0.657304584980011, 0.43985265493392944, -0.3603271245956421, -0.4915732145309448, -0.2216581404209137, 0.32651400566101074, 0.6839930415153503, 0.24872370064258575, 0.23973435163497925, -0.41562938690185547, -0.3478355407714844, -0.30279409885406494, 0.7579751014709473, 0.4826587438583374, -0.22031839191913605, -0.5780564546585083, 0.5616097450256348, -0.11762348562479019, -0.301645427942276, -0.5872881412506104, 0.08101321756839752, -0.5492649674415588, -0.39329153299331665, -0.01263886783272028, -0.473060667514801, -0.21088483929634094, 0.5165324211120605, -0.5982296466827393, -0.04496688395738602, -0.20018057525157928, -0.42062801122665405, 0.21836625039577484, 0.07711943984031677, -0.39243283867836, -0.47199389338493347, 0.6666603684425354, 0.0393659844994545, -0.34265944361686707, -0.5362640619277954, 0.0625736191868782, -0.30048105120658875, -0.5416253805160522, 0.22144845128059387, 0.23849554359912872, -0.12169361859560013, -0.4886569082736969, -0.7470594644546509, 0.15341265499591827, -0.005744162481278181, 0.43365567922592163, 0.1486794501543045, 0.5203728675842285, -0.43249520659446716, 0.2687138319015503, 0.2742646038532257, 0.5551388263702393, -0.3779369592666626, -0.2794203460216522, -0.39641788601875305, -0.08873499929904938, -0.5378527641296387, -0.6488476395606995, 0.15590032935142517, 0.04475170746445656, -0.7004830241203308, -0.22709724307060242, 0.40882763266563416, 0.5075109004974365, -0.58186936378479, 0.4790334701538086, 0.07768342643976212, -0.20282752811908722, -0.3270881474018097, -0.452229380607605, 0.5809258818626404, -0.48638901114463806, -0.11753735691308975, -0.7422100901603699, -0.5930864214897156, -0.6527425050735474, 0.659598171710968, -0.7378432154655457, -0.6508238315582275, -0.31130874156951904, -0.4465343654155731, -0.06172095239162445, -0.06910669803619385, -0.5383366942405701, -0.16062170267105103, -0.18561477959156036, -0.5939868092536926, -0.5194535255432129, -0.41855207085609436, -0.7395658493041992, -0.10488606244325638, -0.4638424813747406, -0.4656628370285034, -0.5923928618431091, -0.34205353260040283, -0.4875783324241638, -0.030427435413002968, -0.12962418794631958, -0.44530510902404785, 0.011273577809333801, 0.004128734581172466, -0.02317121997475624, -0.6265993714332581, -0.6210924983024597, 0.49449867010116577, -0.44216084480285645, 0.34510505199432373, -0.6430842280387878, -0.07847744226455688, 0.22472241520881653, -0.7056813836097717, -0.5719387531280518, -0.5866373777389526, 0.44569501280784607, 0.49701476097106934, -0.009082719683647156, -0.6476443409919739, -0.7879446744918823, -0.20213374495506287, -0.5394201874732971, 0.5397361516952515, -0.5450665354728699, -0.4968937635421753, -0.5131287574768066, -0.39284953474998474, 0.6029782891273499, -0.13268567621707916, -0.6211292147636414, 0.2737219035625458, 0.5169742107391357, 0.09233575314283371, -0.5618371963500977, -0.3369141221046448, -0.6893810629844666, -0.5393930077552795, -0.4016610085964203, 0.6086825728416443, 0.02888103388249874, 0.3931921124458313, -0.35156044363975525, -0.672889769077301, -0.2913884222507477, -0.015725579112768173, 0.030634751543402672, -0.06403058022260666, -0.3479445278644562, 0.465704083442688, 0.163533553481102, 0.051003921777009964, -0.17376862466335297, -0.11387696862220764, 0.033434465527534485, 0.37911292910575867, -0.36154767870903015, 0.34709054231643677, 0.0507768951356411, 0.24959082901477814, 0.14144521951675415, -0.5864514112472534, -0.20365066826343536, -0.38650432229042053, 0.6339945197105408, 0.4685535132884979, -0.4909588098526001, 0.7142993211746216, -0.385286808013916, 0.4335899353027344, -0.6417189836502075, 0.5759631991386414, 0.3397899568080902, 0.24156662821769714, 0.2936660647392273, -0.6134867668151855, 0.18266397714614868, -0.3134860098361969, -0.11183399707078934, -0.09932035207748413, 0.4939277768135071, -0.3834092319011688, 0.36964645981788635, 0.1781621128320694, 0.3320855498313904, -0.6772457361221313, 0.23578473925590515, -0.5848761200904846, 0.18388225138187408, 0.3849893808364868, 0.08805058151483536, 0.3386130928993225, -0.4775315821170807, -0.6355926394462585, 0.04419748857617378, 0.4789976477622986, -0.6466813087463379, -0.5022473335266113, -0.3812633156776428, -0.4185350835323334, 0.09232337027788162, 0.15539607405662537, -0.47658011317253113, -0.44136926531791687, 0.15062165260314941, 0.13226144015789032, 0.37302878499031067, 0.054391372948884964, 0.061643000692129135, 0.5550024509429932, -0.13562120497226715, -0.39484459161758423, 0.015086127445101738, 0.328697144985199, 0.03323427215218544, -0.37960943579673767, -0.5093611478805542, 0.18587970733642578, 0.4258139133453369, 0.5590936541557312, 0.45259347558021545, -0.10847339034080505, -0.25040528178215027, 0.6680806875228882, -0.039583612233400345, -0.5076151490211487, 0.6591963171958923, 0.3404867649078369, -0.4104667007923126, 0.5915515422821045, 0.11873700469732285, -0.5815279483795166, 0.18360324203968048, -0.25975048542022705, -0.49114564061164856, -0.3837393522262573, -0.27443936467170715, -0.5884010791778564, 0.3098054826259613, 0.08157970756292343, -0.11710377037525177, 0.03140725567936897, -0.1525105983018875, 0.3196936845779419, -0.5384221076965332, -0.4712676703929901, -0.6179484724998474, -0.1377408355474472, -0.61614590883255, 0.02104376256465912, -0.10483648627996445, -0.324698805809021, -0.18874916434288025, -0.20245039463043213, -0.17348238825798035, -0.31434202194213867, 0.05305641517043114, -0.37746745347976685, -0.45093008875846863, 0.5295250415802002, -0.5291864275932312, -0.21787281334400177, 0.2301025539636612, 0.08510012179613113, -0.355817049741745, 0.2721010744571686, 0.10570486634969711, 0.10774771869182587, 0.1018306165933609, 0.46324971318244934, 0.4903661608695984, 0.17215846478939056, 0.5422336459159851, -0.3465743064880371, 0.367785781621933, 0.4708402752876282, 0.46610119938850403, 0.5224313735961914, 0.5536695718765259, 0.6512147188186646, 0.6062384247779846, 0.09237419813871384, 0.3766659200191498, 0.5723746418952942, 0.4199977517127991, 0.12260790914297104, 0.5163206458091736, 0.6382066607475281, -0.5139520168304443, 0.332098126411438, -0.31886449456214905, 0.300735205411911, -0.4199282228946686, 0.3798409104347229, -0.6390002965927124, -0.4233494997024536, -0.4184904396533966, -0.5392817854881287, -0.2769780457019806, 0.19038328528404236, 0.5503095984458923, 0.1339658796787262, 0.23101463913917542, 0.5255512595176697, 0.20262973010540009, 0.15291734039783478, 0.46421679854393005, 0.1953381896018982, -0.2988326847553253, -0.246010422706604, 0.3092724084854126, -0.5837929248809814, -0.2773634195327759, -0.607255220413208, -0.3388090133666992, -0.0775180384516716, -0.390930712223053, -0.18739694356918335, 0.5507137179374695, 0.5039610266685486, -0.5147254467010498, -0.16805194318294525, -0.6925014853477478, 0.18873371183872223, 0.6028541922569275, -0.26803159713745117, -0.09045104682445526, 0.07218669354915619, -0.4050145149230957, 0.5967106223106384, -0.7299546003341675, 0.6231889724731445, -0.7622588276863098, -0.09165555238723755, 0.478561133146286, -0.7339991927146912, -0.49817827343940735, 0.495634526014328, 0.02302357368171215, 0.11500787734985352, 0.22277405858039856, 0.10858940333127975, -0.5106762647628784, -0.6285924911499023, -0.33797019720077515, 0.29386138916015625, -0.16367396712303162, 0.74317467212677, -0.4394470453262329, -0.05317946523427963, 0.22571900486946106, 0.6097256541252136, -0.5976112484931946, -0.6471487879753113, -0.22478142380714417, 0.5035882592201233, 0.0746869370341301, -0.3724920451641083, 0.22147341072559357, -0.7268612384796143, 0.7356592416763306, -0.268428236246109, -0.47478151321411133, 0.4245447516441345, -0.2487858682870865, 0.13925766944885254, -0.45527470111846924, -0.38317573070526123, -0.4044349491596222, 0.42764022946357727, 0.31172364950180054, -0.1472119688987732, -0.04232282191514969, -0.16268201172351837, -0.373000830411911, -0.5953471660614014, 0.006351548247039318, 0.6059635877609253, 0.18412022292613983, -0.41493088006973267, -0.6293328404426575, -0.6678744554519653, -0.548294186592102, 0.4151736795902252, -0.04315640404820442, -0.6524555087089539, -0.22185805439949036, -0.6065083742141724, 0.155421644449234, -0.07162081450223923, -0.6728825569152832, -0.5362238883972168, -0.577594518661499, -0.30294862389564514, 0.34654170274734497, -0.4659747779369354, -0.38176068663597107, -0.19156013429164886, -0.2837364077568054, 0.3386825621128082, -0.40190479159355164, -0.41196244955062866, 0.5304123163223267, 0.09905891865491867, -0.48919495940208435, -0.6079822778701782, 0.4476008415222168, -0.4342062175273895, 0.5588974356651306, -0.4508579969406128, -0.4994659125804901, 0.6822828054428101, -0.37093889713287354, -0.42967894673347473, -0.06187335029244423, 0.3718717396259308, -0.6344072222709656, -0.8652995824813843, -0.6224010586738586, -0.2781127095222473, -0.740181565284729, -0.09370017051696777, 0.17675958573818207, 0.008771932683885098, 0.6601099371910095, 0.2514757215976715, -0.19141477346420288, -0.6411495804786682, -0.514908492565155, 0.07477299869060516, 0.031097399070858955, 0.3755999207496643, 0.6929718852043152, -0.21039308607578278, -0.5903617739677429, 0.3519209325313568, -0.3450806438922882, -0.3228449523448944, 0.03627004101872444, 0.2563193142414093, 0.7046903967857361, -0.3207031190395355, 0.6482635140419006, -0.2149410992860794, 0.12705682218074799, -0.1850018948316574, 0.14043447375297546, 0.12436661124229431, -0.3324142396450043, 0.291741281747818, 0.5280022621154785, -0.13806362450122833, -0.33643850684165955, 0.4129956364631653, 0.011695334687829018, -0.441879004240036, -0.5175041556358337, 0.5293242931365967, 0.07678935676813126, -0.2740868031978607, -0.4316547214984894, 0.10919860750436783, 0.3773181140422821, 0.0648130401968956, -0.016069870442152023, -0.4426968991756439, 0.291267991065979, 0.31839650869369507, -0.6100466847419739, -0.42189058661460876, 0.11538014560937881, -0.07528091967105865, -0.526908278465271, -0.6865811944007874, -0.5179738402366638, -0.43567541241645813, -0.09859447926282883, 0.021564379334449768, -0.4125380218029022, -0.6361634731292725, -0.5094078779220581, -0.39524564146995544, -0.44738906621932983, 0.2797148823738098, -0.40920498967170715, 0.3825898766517639, 0.034739650785923004, -0.7347140908241272, -0.5881462097167969, -0.6110599040985107, -0.3544616103172302, -0.154678076505661, 0.43954890966415405, 0.25262606143951416, -0.41670045256614685, -0.596888542175293, -0.3202103078365326, -0.34425926208496094, 0.2181602269411087, 0.4553370475769043, 0.018295258283615112, -0.07630619406700134, 0.38375192880630493, -0.10089869052171707, 0.41830626130104065, 0.036289989948272705, -0.40498292446136475, 0.28021153807640076, -0.1349795013666153, 0.13159365952014923, -0.4823702871799469, -0.8228583931922913, 0.4196523129940033, -0.6910741329193115, -0.5336217284202576, 0.05271841585636139, -0.6639564037322998, -0.5179041624069214, -0.6310492157936096, 0.16835299134254456, -0.4182598888874054, 0.28914740681648254, -0.46906813979148865, 0.3575870394706726, -0.10169778764247894, -0.18603777885437012, -0.5953750610351562, -0.6404868364334106, -0.4278470277786255, 0.34426623582839966, -0.4519301652908325, -0.012777029536664486, -0.1649578958749771, -0.5634417533874512, -0.4479326009750366, -0.6981170773506165, 0.14948666095733643, -0.5242360234260559, 0.40507781505584717, -0.2792140543460846, 0.27657413482666016, -0.23099678754806519, 0.06194988265633583, -0.6002411842346191, -0.23524372279644012, -0.3236550986766815, 0.07355327904224396, -0.07610323280096054, -0.1219475269317627, -0.06700267642736435, 0.05095018818974495, -0.07416176050901413, -0.3450515568256378, 0.7316879034042358, -0.005042743869125843, -0.4172636568546295, 0.29499420523643494, 0.1168869137763977, -0.09506051242351532, -0.45716696977615356, -0.45181480050086975, 0.5774967074394226, -0.1419392228126526, 0.21302944421768188, -0.02712329477071762, -0.6720668077468872, 0.23322950303554535, -0.6184254884719849, -0.5605489015579224, -0.07274647057056427, -0.6770732998847961, -0.48428016901016235, -0.8029226660728455, -0.502518355846405, -0.23903384804725647, -0.28341326117515564, -0.5716233253479004, -0.5060062408447266, -0.7307142019271851, -0.5231676697731018, -0.5382460355758667, 0.4318509101867676, 0.6537107825279236, 0.04842323809862137, 0.2805417478084564, 0.23209761083126068, -0.5190858840942383, -0.017470214515924454, -0.25127658247947693, 0.40257611870765686, -0.04050939157605171, -0.4680704176425934, -0.4344835579395294, -0.05656781420111656, -0.03161336109042168, -0.6179996132850647, -0.65955650806427, -0.5298017263412476, -0.5945402383804321, -0.6551124453544617, 0.45987123250961304, -0.10913092643022537, 0.5751574039459229, 0.1519172042608261, -0.23263350129127502, -0.10949912667274475, 0.8765783905982971, -0.13348960876464844, -0.33538299798965454, -0.25756242871284485, -0.39847829937934875, -0.5948498249053955, 0.5128591656684875, -0.1551753282546997, -0.12130506336688995, -0.5906751751899719, 0.632793128490448, 0.5303084850311279, -0.33734965324401855, -0.3134377896785736, -0.7600441575050354, 0.07084433734416962, 0.08717292547225952, -0.7288223505020142, 0.4942977726459503, 0.393204927444458, -0.659927248954773, -0.3314189612865448, -0.39040324091911316, 0.35763201117515564, -0.6246500015258789, -0.4809536337852478, -0.5397286415100098, -0.28783655166625977, -0.35568246245384216, -0.5976980924606323, -0.7843034863471985, -0.3097870945930481, 0.6603137254714966, -0.5285165905952454, -0.6462109684944153, -0.5545387864112854, -0.24091075360774994, -0.3324463367462158, -0.38280579447746277, -0.8338320255279541, 0.29577818512916565, 0.4663921892642975, -0.48656171560287476, 0.6110687255859375, 0.5270174145698547, -0.46417200565338135, -0.43644943833351135, 0.5160573720932007, 0.08013443648815155, -0.37939712405204773, 0.04352480545639992, 0.2573094367980957, -0.6603541374206543, 0.41368162631988525, -0.20669707655906677, -0.2919555604457855, -0.14953355491161346, 0.15166759490966797, -0.44839000701904297, -0.6876744627952576, -0.6223350167274475, -0.01538093388080597, 0.630194902420044, 0.6674219369888306, 0.11768169701099396, 0.6062262654304504, -0.019588489085435867, -0.6423550844192505, 0.19290867447853088, 0.03972257673740387, -0.21538224816322327, -0.4063989222049713, 0.5085598230361938, -0.13799019157886505, 0.23975522816181183, 0.1895764321088791, -0.4573996067047119, -0.2750111520290375, 0.006614819634705782, -0.35731831192970276, 0.17782795429229736, 0.025201821699738503, -0.5445570349693298, 0.09385372698307037, 0.5834528803825378, -0.5177478790283203, -0.618048906326294, -0.3295651972293854, -0.4368867576122284, -0.15146863460540771, -0.21648797392845154, -0.8297392725944519, 0.36800912022590637, 0.2885608971118927, -0.6393552422523499, -0.8542068004608154, 0.14973454177379608, -0.299519807100296, -0.11819277703762054, 0.43910738825798035, -0.3544197976589203, 0.12460114806890488, -0.3307287096977234, -0.65216064453125, -0.7261423468589783, -0.15261217951774597, -0.5178275108337402, -0.5004399418830872, -0.595445454120636, 0.2048765867948532, -0.5517702698707581, 0.456858366727829, -0.5120348334312439, -0.7569687962532043, 0.16963854432106018, -0.017878733575344086, 0.20268309116363525, -0.22848838567733765, -0.5711495280265808, 0.06641658395528793, -0.3714008331298828, 0.03554956987500191, 0.5266454219818115, -0.38535967469215393, 0.6980277895927429, -0.11838436126708984, -0.5338276028633118, -0.4848799407482147, -0.6731989979743958, 0.48995891213417053, 0.6738907694816589, 0.21088387072086334, -0.7165383696556091, 0.5159243941307068, -0.5060409903526306, 0.6612054109573364, -0.3375677466392517, -0.08471844345331192, -0.3684922456741333, -0.6337001919746399, -0.6482319831848145, 0.7207653522491455, 0.5214084982872009, 0.5022033452987671, -0.5726886987686157, -0.12708045542240143, -0.23268762230873108, -0.008496824651956558, 0.2315257042646408, 0.6466091871261597, 0.3699038326740265, -0.3803677260875702, 0.4096667468547821, -0.46181267499923706, -0.449614018201828, 0.1366085559129715, -0.583695113658905, -0.3899309039115906, -0.9050151705741882, -0.2982907295227051, 0.3197524845600128, -0.6142728328704834, 0.09697123616933823, 0.4337623119354248, 0.5363545417785645, 0.4852049648761749, -0.07120802998542786, 0.08931905776262283, -0.7384746670722961, 0.26372992992401123, -0.6891181468963623, -0.4839133322238922, -0.5453425645828247, -0.5742902755737305, -0.5448768734931946, -0.3271996080875397, 0.3514821529388428, -0.5823375582695007, -0.40632864832878113, -0.26294177770614624, -0.027219751849770546, -0.7530139684677124, -0.09062129259109497, -0.36229681968688965, -0.40455302596092224, -0.21846836805343628, -0.20973597466945648, 0.7873613834381104, -0.413952112197876, -0.08928946405649185, -0.4710974097251892, -0.530204713344574, -0.42127278447151184, 0.10966333746910095, -0.3660426735877991, -0.5918354392051697, 0.3029289245605469, 0.04195135831832886, 0.2947525382041931, 0.19533364474773407, -0.20250846445560455, -0.1460428535938263, -0.38087567687034607, 0.36409667134284973, 0.253121018409729, 0.34604430198669434, 0.47201406955718994, 0.3746839761734009, 0.6773386597633362, -0.48267626762390137, -0.2513936161994934, -0.11067426204681396, 0.7856944799423218, 0.3364231288433075, -0.46231430768966675, -0.10191500186920166, -0.622687041759491, 0.47200676798820496, -0.3480961322784424, 0.3456461429595947, -0.7029979825019836, -0.871189534664154, -0.44345781207084656, -0.6212511658668518, 0.2725503742694855, 0.14546525478363037, -0.621274471282959, -0.3610468804836273, 0.5756157636642456, -0.5976868867874146, 0.15589329600334167, 0.5111345648765564, -0.4582596719264984, 0.715863823890686, 0.3550090789794922, -0.5320762991905212, -0.6605541110038757, -0.02663194015622139, 0.14200395345687866, 0.01682714931666851, -0.5940760970115662, 0.3102526366710663, -0.39260146021842957, 0.008088625967502594, -0.34055644273757935, -0.40379178524017334, -0.06161174923181534, 0.25665125250816345, 0.23588472604751587, -0.15194299817085266, -0.26440486311912537, -0.0873870924115181, -0.04882275313138962, -0.4377116858959198, -0.4291205108165741, -0.14299459755420685, -0.578778862953186, 0.002362155122682452, -0.5971008539199829, 0.4753802418708801, -0.5335655808448792, -0.36083152890205383, -0.04927866533398628, 0.45327892899513245, 0.5545137524604797, 0.7085754871368408, -0.5786914229393005, -0.2536291480064392, -0.021049151197075844, -0.1227266937494278, -0.5247547626495361, -0.7069835662841797, -0.7518729567527771, -0.493989497423172, -0.6036663055419922, -0.5169627070426941, 0.01626414991915226, -0.35291600227355957, -0.5740779042243958, 0.3825954794883728, -0.19815866649150848, 0.0782022625207901, -0.31091368198394775, -0.046928733587265015, -0.18577255308628082, 0.4923567771911621, 0.2885935604572296, -0.5114023685455322, -0.514854371547699, -0.17483261227607727, -0.30937206745147705, -0.17376282811164856, -0.7351028323173523, 0.10006757080554962, -0.24323098361492157, 0.25525251030921936, -0.6091881990432739, -0.5477754473686218, -0.6870532035827637, -0.6054306030273438, -0.5623550415039062, -0.09156759083271027, 0.04951775074005127, -0.6124404072761536, -0.7709898948669434, -0.595864474773407, -0.5460792183876038, -0.24541246891021729, -0.46309715509414673, 0.2521199882030487, -0.7798542380332947, -0.23438623547554016, 0.04530218616127968, 0.4077379107475281, -0.039341576397418976, 0.5646424293518066, -0.6845887303352356, -0.13603924214839935, -0.33710846304893494, -0.4808593690395355, 0.20511430501937866, 0.28752052783966064, -0.46895283460617065, -0.5596425533294678, -0.0023361756466329098, 0.1830284148454666, -0.22068051993846893, -0.6892493367195129, -0.5972369313240051, -0.6464669108390808, -0.6348229646682739, -0.7265457510948181, -0.6309595108032227, -0.6997045278549194, 0.5079877972602844, -0.2900010347366333, -0.3259824216365814, -0.5182510018348694, -0.5867013931274414, -0.398377925157547, 0.3068728446960449, -0.5482781529426575, -0.5163500905036926, 0.29063838720321655, -0.43362921476364136, 0.3660585284233093, -0.042737603187561035, 0.6170088052749634, 0.766544759273529, -0.34338825941085815, -0.40804529190063477, 0.38150933384895325, 0.21234311163425446, 0.13671624660491943, -0.046788450330495834, -0.35207369923591614, 0.3068830668926239, 0.4741602838039398, 0.1301114559173584, 0.6062552332878113, -0.6342085599899292, -0.20982713997364044, -0.31679704785346985, 0.17256928980350494, -0.5678290724754333, -0.23892919719219208, -0.6219621896743774, 0.36311838030815125, -0.605683445930481, -0.4891090393066406, -0.49525129795074463, -0.5130894184112549, -0.460819810628891, 0.008071236312389374, -0.708242654800415, -0.21153618395328522, -0.6828738451004028, -0.5605130195617676, -0.5348476767539978, -0.3746303617954254, 0.2199917733669281, -0.47198617458343506, 0.3056808412075043, -0.40131309628486633, 0.13254831731319427, 0.3020083010196686, -0.4901139736175537, -0.1043175533413887, -0.3783811628818512, 0.23756685853004456, 0.2711222469806671, -0.2635278105735779, -0.057549573481082916, -0.19317203760147095, -0.4164777100086212, 0.24860891699790955, 0.24533846974372864, 0.06218268722295761, 0.6194920539855957, -0.27216431498527527, -0.1917594075202942, -0.22023814916610718, -0.23942239582538605, -0.11668653786182404, -0.15460820496082306, -0.7844424843788147, -0.2573491334915161, 0.3287586569786072, 0.38022953271865845, 0.1907578706741333, 0.47242748737335205, 0.07194700837135315, -0.42367270588874817, 0.28515127301216125, 0.6321977376937866, -0.6845496892929077, 0.22573347389698029, -0.5123763084411621, -0.577881932258606, -0.652296245098114, -0.3048435151576996, -0.5119802951812744, -0.5358009338378906, 0.6275457143783569, 0.20194077491760254, 0.34172457456588745, 0.194060817360878, 0.6585860848426819, -0.33372360467910767, 0.6063776016235352, 0.25051048398017883, -0.695097029209137, -0.5077400207519531, 0.2951769530773163, 0.761166512966156, -0.12823499739170074, -0.36951199173927307, 0.45062926411628723, 0.41187870502471924, 0.6098214983940125, -0.8754276633262634, -0.5512376427650452, 0.08613257110118866, -0.44804516434669495, -0.5948536396026611, -0.29776662588119507, 0.32319432497024536, 0.029736394062638283, -0.24177584052085876, 0.05876341089606285, 0.11193222552537918, -0.41573095321655273, 0.7600246667861938, -0.39930689334869385, 0.4451690912246704, 0.32474908232688904, 0.36401110887527466, 0.2625262141227722, -0.444859117269516, -0.7119319438934326, 0.2523493468761444, -0.4610618054866791, -0.5606840252876282, -0.3451465368270874, 0.4057305157184601, 0.20785638689994812, -0.294177770614624, -0.620606005191803, -0.06827425956726074, -0.5193546414375305, -0.7615785598754883, -0.6676305532455444, -0.1709957718849182, 0.3722693622112274, -0.06734258681535721, -0.16408728063106537, -0.8013566136360168, 0.5234912633895874, 0.01046658679842949, 0.6134037971496582, -0.602135419845581, -0.5821260809898376, -0.24772758781909943, -0.6101323962211609, -0.02230929583311081, 0.4806344509124756, -0.06629880517721176, -0.5533277988433838, -0.12830260396003723, -0.6590437293052673, -0.49396243691444397, -0.6255301833152771, -0.1385403573513031, -0.685097873210907, -0.26479852199554443, -0.06116810068488121, -0.3689069151878357, -0.6849259734153748, -0.5179727673530579, 0.5138808488845825, 0.103854238986969, 0.48401325941085815, -0.360220342874527, 0.3659687042236328, -0.6720677018165588, 0.46287140250205994, 0.18780459463596344, -0.34215354919433594, -0.6350639462471008, 0.59821617603302, -0.4097427427768707, 0.40800490975379944, -0.4624318480491638, -0.10747689008712769, 0.15060418844223022, 0.11665000766515732, 0.46935850381851196, 0.5849063992500305, 0.3440553843975067, -0.22215107083320618, -0.31084510684013367, 0.40071356296539307, -0.3500570058822632, 0.2010558545589447, -0.5610880851745605, 0.09958866238594055, 0.7330722212791443, -0.5040290355682373, -0.6327512860298157, -0.31444379687309265, 0.6978906989097595, 0.606709897518158, -0.485104501247406, -0.5180200338363647, -0.24451041221618652, -0.5956388115882874, 0.3619033098220825, -0.15676622092723846, -0.40451890230178833, -0.5829014182090759, 0.48533087968826294, 0.4648328423500061, 0.5071211457252502, -0.2619410753250122, -0.6578054428100586, -0.58263099193573, -0.5967996120452881, -0.5176876783370972, 0.2445528209209442, -0.3017466366291046, -0.45326220989227295, -0.10570994764566422, -0.3571242392063141, 0.41230517625808716, -0.6166233420372009, -0.1186876967549324, -0.2104099690914154, -0.24103626608848572, -0.744337797164917, -0.6725651621818542, 0.08126132935285568, -0.4095205068588257, -0.484822541475296, -0.575398862361908, -0.3775373697280884, 0.5932903289794922, 0.27317798137664795, 0.3422960638999939, 0.1498362421989441, 0.20095539093017578, -0.17061622440814972, -0.6315957903862, -0.5030243992805481, -0.4221857786178589, 0.37626415491104126, -0.3866541385650635, -0.005846749991178513, 0.4318001866340637, 0.2963089346885681, -0.04480137303471565, 0.14240096509456635, -0.4409540593624115, -0.5966633558273315, 0.13198858499526978, -0.2620048224925995, -0.5366360545158386, -0.2864011228084564, 0.06966214627027512, -0.7354409694671631, -0.6265375018119812, -0.4062197804450989, 0.25040391087532043, -0.0855022594332695, -0.27963370084762573, -0.07423598319292068, -0.6530528664588928, -0.35803094506263733, -0.16578833758831024, -0.5735061764717102, -0.5393128395080566, -0.063021220266819, 0.4485816955566406, -0.43365582823753357, -0.8058418035507202, -0.1946905106306076, -0.2457582652568817, 0.6389298439025879, -0.1760644018650055, -0.3130335211753845, -0.6022542715072632, 0.15848225355148315, 0.6590116620063782, -0.6780073642730713, -0.5385990738868713, 0.6902620196342468, 0.6552969813346863, 0.3859253227710724, 0.610715389251709, 0.5763872265815735, -0.36152219772338867, 0.6674615740776062, -0.1256704181432724, -0.17784884572029114, -0.47017255425453186, 0.6774013042449951, 0.07567404955625534, -0.28121450543403625, 0.6404742002487183, 0.2669493556022644, 0.42449751496315, 0.6415538191795349, 0.2618746757507324, 0.6556781530380249, 0.34238091111183167, 0.7837306261062622, 0.20429542660713196, -0.587406575679779, 0.29748162627220154, -0.5015778541564941, -0.6838443279266357, -0.46807509660720825, -0.05186668038368225, -0.3823191821575165, -0.4579472839832306, 0.10346579551696777, -0.5811511874198914, -0.3564956486225128, 0.2545565068721771, -0.07620935887098312, -0.45934945344924927, -0.6803174614906311, 0.10477881133556366, -0.4228816032409668, 0.11335987597703934, -0.008023408241569996, -0.5691470503807068, -0.533048152923584, -0.6281564235687256, 0.0032826790120452642, -0.44456711411476135, -0.28316807746887207, -0.6660332679748535, 0.23906946182250977, 0.5849525332450867, 0.07922767847776413, -0.2700432538986206, -0.4540976881980896]\n"
          ]
        }
      ]
    },
    {
      "cell_type": "code",
      "execution_count": null,
      "metadata": {
        "id": "pVs_SWliey33"
      },
      "outputs": [],
      "source": [
        "#Histgoram\n",
        "\n",
        "import matplotlib.pyplot as plt\n",
        "import numpy as np\n",
        "from matplotlib import colors\n",
        "from matplotlib.ticker import PercentFormatter\n",
        "\n",
        "def print_histogram(similarities):\n",
        "  data = similarities\n",
        "\n",
        "  # Plotting a basic histogram\n",
        "  plt.hist(data, bins=30, color='skyblue', edgecolor='black')\n",
        "\n",
        "  # Adding labels and title\n",
        "  plt.xlabel('Cosine Similarity')\n",
        "  plt.ylabel('Frequency')\n",
        "  plt.title('Histogram: How Many Other Sentences are Similar to the Sentence') #add user_input at the end of this\n",
        "\n",
        "  # Display the plot\n",
        "  plot = plt.show()\n",
        "  return plot"
      ]
    },
    {
      "cell_type": "markdown",
      "source": [
        "## **Main**"
      ],
      "metadata": {
        "id": "UqUiRPXym_4t"
      }
    },
    {
      "cell_type": "code",
      "source": [
        "#Sentence and Cosine Similarity\n",
        "#Given one sentence, output all the similar sentences and their respective cosine simialrity with that one sentence\n",
        "\n",
        "def find_similar_sentences():\n",
        "  user_input = input(\"What sentence would you like to check?\")\n",
        "\n",
        "  #THIS PART DOESN'T WORK. Can't figure out how to return vector as the proper array type\n",
        "\n",
        "  #check if sentence already exists as an encoding\n",
        "  #if user_input in new_HPecocded_dict:\n",
        "    #vector = (list(new_HPecocded_dict[user_input]))\n",
        "    #print(\"TRUE\")\n",
        "    #print(new_HPecocded_dict)\n",
        "    #print(len(vector))\n",
        "    #print(vector)\n",
        "\n",
        "  #else: #user input to normalized vector\n",
        "  encoded_dict = encode_doc(user_input)\n",
        "\n",
        "  vector_to_normalize = np.array(list(encoded_dict.values())) #dictionary to list\n",
        "  new = (vector_to_normalize - mean) / std #normalize that list\n",
        "  normal_encoded_dict = {}\n",
        "  normal_encoded_dict[0] = new[0]\n",
        "\n",
        "  vector = list(normal_encoded_dict.values()) #a list size 1\n",
        "\n",
        "\n",
        "  #check for similarity\n",
        "  t, r = t_and_r()\n",
        "  t = t - 700\n",
        "  m = 50000\n",
        "  tables = preprocessing(r, HPvectors, m, t)\n",
        "\n",
        "\n",
        "  similar_sentences = one_sentence(r, tables, t, vector, m) #??\n",
        "\n",
        "  #turn similar vectors into sentences\n",
        "  sentences = back_to_words(similar_sentences, HPencoded_dict)\n",
        "\n",
        "\n",
        "  print(\"Given your sentence:\", user_input, \"the similar sentences found in Harry Potter are:\")\n",
        "  most_similar_sentence_int = 0\n",
        "  most_similar_sentence= ''\n",
        "\n",
        "  similarities = long_way(HPvectors, vector)\n",
        "\n",
        "  for i in range(len(sentences)):\n",
        "    if len(sentences[i]) > 48: #only want average length sentences or above!\n",
        "      print(sentences[i])\n",
        "      list_of_words = list(HPencoded_dict.keys())\n",
        "      index = list_of_words.index(sentences[i])\n",
        "\n",
        "      if similarities[index] > most_similar_sentence_int:\n",
        "        most_similar_sentence_int = similarities[index]\n",
        "        most_similar_sentence = sentences[i]\n",
        "      print(\"cosine similarity for this sentence is:\", similarities[index], \"\\n\") #TODO!!!!!!!!!\n",
        "\n",
        "  print(\"The Most Similar Sentence is: \", most_similar_sentence)\n",
        "  print_histogram(similarities)\n",
        "  print(\"That's it!\")"
      ],
      "metadata": {
        "id": "lvQ8DyqSOkCd"
      },
      "execution_count": null,
      "outputs": []
    },
    {
      "cell_type": "code",
      "source": [
        "find_similar_sentences()"
      ],
      "metadata": {
        "colab": {
          "base_uri": "https://localhost:8080/",
          "height": 1000
        },
        "id": "L5Zi_r_0m0l9",
        "outputId": "830cc8b6-2cba-47cf-9add-c6d8e8d3f6b5"
      },
      "execution_count": null,
      "outputs": [
        {
          "output_type": "stream",
          "name": "stdout",
          "text": [
            "What sentence would you like to check? harry grabbed dumbledor and screamed in his face\n",
            "the optimal t is 724\n",
            "the optimal r is 22\n",
            "Given your sentence:  harry grabbed dumbledor and screamed in his face the similar sentences found in Harry Potter are:\n",
            "  \"why would you be mad to try and rob gringotts?\" harry asked\n",
            "cosine similarity for this sentence is: 0.47286510467529297 \n",
            "\n",
            " i think they should keep it in the old wizarding families\n",
            "cosine similarity for this sentence is: 0.5187848806381226 \n",
            "\n",
            " he must have had to bunny hop all the way up to gryffindor tower\n",
            "cosine similarity for this sentence is: 0.6820193529129028 \n",
            "\n",
            "\"  it seemed to be a handsome, leather-covered book\n",
            "cosine similarity for this sentence is: 0.5907096862792969 \n",
            "\n",
            " next door's problems with her daughter and how dudley had learned a new word (\"won't\n",
            "cosine similarity for this sentence is: 0.5043522119522095 \n",
            "\n",
            "\" hissed professor mcgonagall, \"you'll wake the muggles\n",
            "cosine similarity for this sentence is: 0.6225220561027527 \n",
            "\n",
            "  but the others wouldn't let professor quirrell keep harry to himself\n",
            "cosine similarity for this sentence is: 0.6940506100654602 \n",
            "\n",
            "\"  \"we had to, neville, no time to explain,\" said harry\n",
            "cosine similarity for this sentence is: 0.7084628343582153 \n",
            "\n",
            " figg as she crossed privet drive on her crutches\n",
            "cosine similarity for this sentence is: 0.8034558892250061 \n",
            "\n",
            "  \"is he -- a bit mad?\" he asked percy uncertainly\n",
            "cosine similarity for this sentence is: 0.7315842509269714 \n",
            "\n",
            "The Most Similar Sentence is:   figg as she crossed privet drive on her crutches\n"
          ]
        },
        {
          "output_type": "display_data",
          "data": {
            "text/plain": [
              "<Figure size 640x480 with 1 Axes>"
            ],
            "image/png": "[encoded data removed]"
          },
          "metadata": {}
        },
        {
          "output_type": "stream",
          "name": "stdout",
          "text": [
            "That's it!\n"
          ]
        }
      ]
    }
  ],
  "metadata": {
    "colab": {
      "collapsed_sections": [
        "EjjCyltKRu8I",
        "c8aV8_jSSEUi",
        "10JOHV01ST_4",
        "-Ms-kFFZSjM4",
        "659pBSUuSo2_",
        "mm-HfqU2TCHc",
        "ueQWGVHCZcDB"
      ],
      "provenance": [],
      "include_colab_link": true
    },
    "kernelspec": {
      "display_name": "Python 3",
      "name": "python3"
    },
    "language_info": {
      "name": "python"
    }
  },
  "nbformat": 4,
  "nbformat_minor": 0
}